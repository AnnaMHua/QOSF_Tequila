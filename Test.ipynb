{
 "cells": [
  {
   "cell_type": "code",
   "execution_count": 1,
   "metadata": {},
   "outputs": [],
   "source": [
    "import tequila as tq\n",
    "import numpy as np\n",
    "from numpy import pi\n",
    "import qiskit"
   ]
  },
  {
   "cell_type": "code",
   "execution_count": 2,
   "metadata": {},
   "outputs": [
    {
     "name": "stdout",
     "output_type": "stream",
     "text": [
      "[<IBMQSimulator('ibmq_qasm_simulator') from IBMQ(hub='ibm-q', group='open', project='main')>, <IBMQBackend('ibmqx2') from IBMQ(hub='ibm-q', group='open', project='main')>, <IBMQBackend('ibmq_16_melbourne') from IBMQ(hub='ibm-q', group='open', project='main')>, <IBMQBackend('ibmq_vigo') from IBMQ(hub='ibm-q', group='open', project='main')>, <IBMQBackend('ibmq_ourense') from IBMQ(hub='ibm-q', group='open', project='main')>, <IBMQBackend('ibmq_valencia') from IBMQ(hub='ibm-q', group='open', project='main')>, <IBMQBackend('ibmq_armonk') from IBMQ(hub='ibm-q', group='open', project='main')>, <IBMQBackend('ibmq_athens') from IBMQ(hub='ibm-q', group='open', project='main')>, <IBMQBackend('ibmq_santiago') from IBMQ(hub='ibm-q', group='open', project='main')>]\n"
     ]
    }
   ],
   "source": [
    "from qiskit import IBMQ\n",
    "MY_IBMQ_TOKEN = '55dee9b655b84737468de95877d2c72ecf8d7fc6b40cf6edb2b96668fbe80b40381e0f216fd0ab70a256ac97ad4030cef9ab39f3aae616720069fa2c5b9a111c'\n",
    "IBMQ.save_account(MY_IBMQ_TOKEN, overwrite=True) # needs to be done once, and is then saved in our environment\n",
    "IBMQ.load_account()\n",
    "# see the list of backends that you can use:\n",
    "provider = IBMQ.get_provider(hub='ibm-q', group='open', project='main')\n",
    "print(provider.backends())"
   ]
  },
  {
   "cell_type": "code",
   "execution_count": 4,
   "metadata": {},
   "outputs": [],
   "source": [
    "def fSWAP(q0,q1):\n",
    "    circuit = tq.gates.CNOT(q0,q1) + tq.gates.CNOT(q1,q0) + tq.gates.CNOT(q0,q1)\n",
    "    circuit += tq.gates.CZ(q0,q1)\n",
    "    return circuit\n",
    "    "
   ]
  },
  {
   "cell_type": "code",
   "execution_count": 5,
   "metadata": {},
   "outputs": [],
   "source": [
    "# CH (Controlled-Haddamard)\n",
    "# control qubit: q1\n",
    "# target qubit: q0\n",
    "def CH2(q0,q1):\n",
    "    circuit = tq.gates.Phase(phi=-pi/2,target=q0) + tq.gates.H(q0) + tq.gates.Phase(phi=-pi/4,target=q0)\n",
    "    circuit += tq.gates.H(q0) + tq.gates.H(q1) + tq.gates.CNOT(q0,q1) + tq.gates.H(q0) +tq.gates.H(q1)\n",
    "    circuit += tq.gates.T(q0) + tq.gates.H(q0) + tq.gates.S(q0)\n",
    "    return circuit\n",
    "qiskit_mix = tq.compile(CH2(0,1),backend = 'qiskit')\n",
    "# Fourier transform gates\n",
    "\n",
    "def F2(q0,q1):\n",
    "    circuit = tq.gates.CNOT(q0,q1) + CH2(q0,q1) + tq.gates.CNOT(q0,q1) +tq.gates.CZ(q0,q1)\n",
    "    return circuit\n",
    "\n",
    "def F0(q0,q1):\n",
    "    return F2(q0,q1)\n",
    "    \n",
    "def F1(q0,q1):\n",
    "    return F2(q0,q1) + tq.gates.Phase(phi=-pi/2,target=q0)\n"
   ]
  },
  {
   "cell_type": "code",
   "execution_count": 6,
   "metadata": {},
   "outputs": [],
   "source": [
    "from math import pi\n",
    "\n",
    "# control qubit: q0\n",
    "# target qubit: q1\n",
    "def CRX(theta, q0, q1):\n",
    "    circuit = tq.gates.Rz(angle=pi/2.0,target=q1) + tq.gates.Ry(angle=theta, target=q1) + tq.gates.CNOT(q0,q1)\n",
    "    circuit += tq.gates.Ry(angle=-pi/2.0,target=q1) + tq.gates.CNOT(q0,q1) + tq.gates.Rz(angle=-pi/2.0,target=q1)\n",
    "    return circuit\n",
    "\n",
    "def B(theta_k,q0,q1):\n",
    "#     circuit = tq.gates.X(q1) + tq.gates.CX(control=q1,target=q0) +CRX(theta_k,q0,q1) + tq.gates.CX(control=q1,target=q0)+tq.gates.X(q1)\n",
    "    circuit = tq.gates.X(q1) + tq.gates.CX(control=q1,target=q0) +tq.gates.CRx(control=q0,target=q1,angle=theta_k) + tq.gates.CX(control=q1,target=q0)+tq.gates.X(q1)\n",
    "\n",
    "    return circuit"
   ]
  },
  {
   "cell_type": "code",
   "execution_count": 7,
   "metadata": {},
   "outputs": [],
   "source": [
    "def Udisg(lam,q0,q1,q2,q3):\n",
    "    k=1\n",
    "    n=4\n",
    "    th1=-np.arccos((lam-np.cos(2*pi*k/n))/np.sqrt((lam-np.cos(2*pi*k/n))**2+np.sin(2*pi*k/n)**2))\n",
    "    circuit = B(th1,q0,q1)+ F1(q0,q1) + F0(q2,q3)\n",
    "    #fSWAP(Udis,q2,q1) # for ibmqx2\n",
    "    #fSWAP(Udis,q1,q2) # for ibmqx4\n",
    "    circuit += F0(q0,q2)\n",
    "    circuit += F0(q1,q3)\n",
    "    #fSWAP(Udis,q2,q1) # for ibmqx2\n",
    "    #fSWAP(Udis,q1,q2) # for ibmqx4\n",
    "    return circuit\n",
    "\n",
    "def Ising(lam,q0,q1,q2,q3):\n",
    "    if lam<1:\n",
    "        return tq.gates.X(q3) + Udisg(lam,q0,q1,q2,q3)\n",
    "    else:\n",
    "        return Udisg(lam,q0,q1,q2,q3)\n",
    "    "
   ]
  },
  {
   "cell_type": "code",
   "execution_count": 17,
   "metadata": {},
   "outputs": [],
   "source": [
    "def digit_sum(n):\n",
    "    num_str = str(n)\n",
    "    sum = 0\n",
    "    for i in range(0, len(num_str)):\n",
    "        sum += int(num_str[i])\n",
    "    return sum"
   ]
  },
  {
   "cell_type": "code",
   "execution_count": 20,
   "metadata": {},
   "outputs": [],
   "source": [
    "#simulation\n",
    "def sim_run_expecM(lam):\n",
    "    shots = 1024\n",
    "\n",
    "    H = tq.paulis.Z([1])\n",
    "\n",
    "    circuit = Ising(lam,0,1,2,3)\n",
    "\n",
    "    M_exp = tq.ExpectationValue(H = H, U = circuit)\n",
    "    M=tq.simulate(M_exp,backend='qiskit',samples=shots)\n",
    "    return M\n",
    "\n",
    "# Real Device\n",
    "def real_device_run_expecM(real_device,lam):\n",
    "    shots = 1024\n",
    "    H = tq.paulis.Z([1])\n",
    "    circuit = Ising(lam,0,1,2,3)\n",
    "\n",
    "    M_exp = tq.ExpectationValue(H = H, U = circuit)\n",
    "    M=tq.simulate(M_exp,backend='qiskit',device = real_device,samples=shots)\n",
    "    return M\n",
    "\n",
    "# Real Device but only simulate wavefunction\n",
    "def real_device_run_sumM(real_device,lam):\n",
    "    shots = 1024\n",
    "    mag_real_res = []\n",
    "    wfn_real = tq.simulate(Ising(lam,0,1,2,3),backend='qiskit',device = real_device,samples=shots)\n",
    "    r1_real = []\n",
    "    r2_real = []\n",
    "    for key, value in wfn_real.items():\n",
    "        r1_real +=[key.binary]\n",
    "        r2_real +=[value]\n",
    "    M_real = 0\n",
    "    for j in range(len(r1_real)):\n",
    "        M_real = M_real + (4-2*digit_sum(r1_real[j]))*r2_real[j]/shots\n",
    "    \n",
    "    return M_real/4"
   ]
  },
  {
   "cell_type": "code",
   "execution_count": 9,
   "metadata": {},
   "outputs": [
    {
     "data": {
      "text/plain": [
       "1.0"
      ]
     },
     "execution_count": 9,
     "metadata": {},
     "output_type": "execute_result"
    }
   ],
   "source": [
    "real_device_run_expecM('ibmq_vigo',0.2)"
   ]
  },
  {
   "cell_type": "code",
   "execution_count": 11,
   "metadata": {},
   "outputs": [
    {
     "data": {
      "text/plain": [
       "0.08203125"
      ]
     },
     "execution_count": 11,
     "metadata": {},
     "output_type": "execute_result"
    }
   ],
   "source": [
    "sim_run_expecM(0.2)"
   ]
  },
  {
   "cell_type": "code",
   "execution_count": 21,
   "metadata": {},
   "outputs": [
    {
     "data": {
      "text/plain": [
       "0.06494140625"
      ]
     },
     "execution_count": 21,
     "metadata": {},
     "output_type": "execute_result"
    }
   ],
   "source": [
    "real_device_run_sumM('ibmq_vigo',0.2)"
   ]
  },
  {
   "cell_type": "code",
   "execution_count": null,
   "metadata": {},
   "outputs": [],
   "source": []
  }
 ],
 "metadata": {
  "kernelspec": {
   "display_name": "tequila",
   "language": "python",
   "name": "tequila"
  },
  "language_info": {
   "codemirror_mode": {
    "name": "ipython",
    "version": 3
   },
   "file_extension": ".py",
   "mimetype": "text/x-python",
   "name": "python",
   "nbconvert_exporter": "python",
   "pygments_lexer": "ipython3",
   "version": "3.7.7"
  }
 },
 "nbformat": 4,
 "nbformat_minor": 4
}
