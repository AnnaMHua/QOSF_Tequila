{
  "nbformat": 4,
  "nbformat_minor": 0,
  "metadata": {
    "kernelspec": {
      "display_name": "tequila",
      "language": "python",
      "name": "tequila"
    },
    "language_info": {
      "codemirror_mode": {
        "name": "ipython",
        "version": 3
      },
      "file_extension": ".py",
      "mimetype": "text/x-python",
      "name": "python",
      "nbconvert_exporter": "python",
      "pygments_lexer": "ipython3",
      "version": "3.7.7"
    },
    "colab": {
      "name": "Kitaev.ipynb",
      "provenance": [],
      "toc_visible": true,
      "include_colab_link": true
    }
  },
  "cells": [
    {
      "cell_type": "markdown",
      "metadata": {
        "id": "view-in-github",
        "colab_type": "text"
      },
      "source": [
        "<a href=\"https://colab.research.google.com/github/AnnaMHua/QOSF_Tequila/blob/master/KitaevColab.ipynb\" target=\"_parent\"><img src=\"https://colab.research.google.com/assets/colab-badge.svg\" alt=\"Open In Colab\"/></a>"
      ]
    },
    {
      "cell_type": "markdown",
      "metadata": {
        "id": "ZidAcB8D3gbf"
      },
      "source": [
        "# Exactly simulation of Kitaev Honeycomb model on IBMQ"
      ]
    },
    {
      "cell_type": "markdown",
      "metadata": {
        "id": "l5UA8bws3gbl"
      },
      "source": [
        "# Jordan-Wigner transformation\n",
        "\n",
        "We can use JW transformation to go from spin basis to fermion basis. The JW transformation for 2D Kitaev Honeycomb model is:\n",
        "\n",
        "$$a_{i,j}=(\\prod_{j'<j}\\prod_{i'}\\sigma_{i',j'}^z)(\\prod_{i'<i}\\sigma^z_{i',j})\\frac{\\sigma^x+i\\sigma_y}{2}$$\n",
        "$$a_{i,j}^\\dagger=(\\prod_{j'<j}\\prod_{i'}\\sigma_{i',j'}^z)(\\prod_{i'<i}\\sigma^z_{i',j})\\frac{\\sigma^x-i\\sigma_y}{2}$$\n",
        "\n",
        "$$\\{a_{i,j},a_{i',j'}\\}=0,\\quad \\{a_{i,j},a_{i',j'}^\\dagger\\}=\\delta_{ii'}\\delta_{jj'}$$\n",
        "The first product represent every site above $j$-th column and the second product represent all the sites after site $(i,j)$ following the blue string.<img src = JWstring.png style = \"width : 600px\">\n",
        "\n",
        "In this case we can restore the anticommutation relation for fermions. Very similar to XY model, we have :$$\\sigma^z_{i,j} = 2a^\\dagger_{i,j}a_{i,j}-1$$\n",
        "$$\\sigma^z_{i,j}a^\\dagger_{i,j}=(2a^\\dagger_{i,j}a_{i,j}-1)a^\\dagger_{i,j}=2a^\\dagger_{i,j}(1-a^\\dagger_{i,j}a_{i,j})-a^\\dagger_{i,j}=a^\\dagger_{i,j}(1-2a_{i,j}^\\dagger a_{i,j})=-a^\\dagger_{i,j}\\sigma^z_{i,j}$$\n",
        "The interaction terms in Hamiltonian transform into:\n",
        "\n",
        "\n",
        "\n",
        "$$\n",
        "\\begin{align}\n",
        "\\sigma^x_{i,j}\\sigma^x_{i+1,j}&=(\\sigma^+_{i,j}+\\sigma^-_{i,j})_w(\\sigma^+_{i+1,j}+\\sigma^-_{i+1,j})_d\\\\\n",
        "&=(\\prod_{j'<j}\\prod_{i'}\\sigma_{i',j'}^z)(\\prod_{i'<i}\\sigma^z_{i',j})(a_{i,j}^\\dagger+a_{i,j})(\\prod_{j'<j}\\prod_{i'}\\sigma_{i',j'}^z)(\\prod_{i'<i+1}\\sigma^z_{i',j})(a_{i+1,j}^\\dagger+a_{i+1,j})\\\\\n",
        "&=(\\prod_{i'<i}\\sigma^z_{i',j})(a_{i,j}^\\dagger+a_{i,j})(\\prod_{i'<i+1}\\sigma^z_{i',j})(a_{i+1,j}^\\dagger+a_{i+1,j})\\\\\n",
        "&=(a_{i,j}^\\dagger+a_{i,j})_w\\sigma^z_{i,j}(a_{i+1,j}^\\dagger+a_{i+1,j})_d\\\\\n",
        "&=-(a_{i,j}^\\dagger-a_{i,j})_w(a_{i+1,j}^\\dagger+a_{i+1,j})_d\n",
        "\\end{align}\n",
        "$$\n",
        "\n",
        "$$\\sigma^y_{i,j}\\sigma^y_{i+1,j}=(a^\\dagger_{i-1,j}+a_{i-1,j})_d(a_{i,j}^\\dagger-a_{i,j})_w$$\n",
        "\n",
        "\n",
        "$$\\sigma^z_{i,j}\\sigma^z_{i+1,j}=(2a^\\dagger_{i,j}a_{i,j}-1)(2a^\\dagger_{i+1,j}a_{i+1,j}-1)$$"
      ]
    },
    {
      "cell_type": "markdown",
      "metadata": {
        "id": "pbfMBp-v3gbm"
      },
      "source": [
        "The Hamiltonian becomes $$\\hat{H}=J_x\\sum_{x\\text{ links}}(a_{i,j}^\\dagger-a_{i,j})(a_{i+1,j}^\\dagger+a_{i+1,j})-J_y\\sum_{y\\text{ links}}(a_{i-1,j}^\\dagger+a_{i-1,j})(a_{i,j}^\\dagger-a_{i,j})-J_z\\sum_{z\\text{ links}}(2a^\\dagger_{i,j}a_{i,j}-1)(2a^\\dagger_{i+1,j}a_{i+1,j}-1)$$"
      ]
    },
    {
      "cell_type": "markdown",
      "metadata": {
        "id": "BL0JFFjc3gbm"
      },
      "source": [
        "# Transform into Majorana fermions\n",
        "\n",
        "$$c_w=i(a_{i,j}^\\dagger-a_{i,j}),\\quad d_w=a_{i,j}^\\dagger+a_{i,j},\\quad \\text{where $i+j$ even=white}$$\n",
        "\n",
        "$$c_d=a_{i,j}^\\dagger+a_{i,j},\\quad d_d=i(a_{i,j}^\\dagger-a_{i,j}),\\quad \\text{where $i+j$ odd=dark}$$\n",
        "\n",
        "The Hamiltonian becomes:\n",
        "\n",
        "$$\\hat{H}=-iJ_x\\sum_{x\\text{ links}}c_wc_d+iJ_y\\sum_{y\\text{ links}}c_dc_w-iJ_z\\sum_{z \\text{ links}}(id_dd_w)c_dc_w$$\n",
        "\n",
        "By putting everything in a square lattice with the unit cell containing one while site and one dark site  <img src = squarelattice.png style = \"width : 600px\">\n",
        "\n",
        "we can rewrite the Hamiltonian interms of the position $\\vec{r}$ of unitcell:\n",
        "\n",
        "$$\\hat{H}=i\\sum_{x\\text{ links}}(J_xc_{w,r}c_{d,r+r_1}+iJ_yc_{d,r}c_{w,r+r_2}-iJ_z\\alpha_rc_{d,r}c_{w,r})$$\n",
        "\n",
        "we define a new operator $\\alpha_r=(id_{d,r}d_{w,r})$. It commutes with the $\\hat{H}$ so they can be diagonalized simutanuously."
      ]
    },
    {
      "cell_type": "code",
      "metadata": {
        "id": "QvHrj5DN3gbm"
      },
      "source": [
        ""
      ],
      "execution_count": null,
      "outputs": []
    }
  ]
}