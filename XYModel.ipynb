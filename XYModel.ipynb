{
 "cells": [
  {
   "cell_type": "markdown",
   "metadata": {},
   "source": [
    "# Exact Quantum Simulation for XY model"
   ]
  },
  {
   "cell_type": "markdown",
   "metadata": {},
   "source": [
    "## The XY model\n",
    "The $XY$ model is a generalization of 1D Ising and is also the simplest non-trivial integrable model. When we use exact quantum simulation on the many-body physics model, we will be able to access the states in the whole spectrum rather than only ground states. \n",
    "\n",
    "The Hamiltonian of XY model can be written as:\n",
    "$$H_{XY}=\\sum_{i=1}^n(\\frac{1+\\gamma}{2}\\sigma_i^x\\sigma_{i+1}^x+\\frac{1-\\gamma}{2}\\sigma_i^y\\sigma_{i+1}^y)+\\lambda\\sum_{i=1}^n\\sigma_i^z+\\frac{1+\\gamma}{2}\\sigma_1^y\\sigma_2^z...\\sigma_{n-1}^z\\sigma_n^y+\\frac{1-\\gamma}{2}\\sigma_1^x\\sigma_2^z...\\sigma_{n-1}^z\\sigma_n^x$$\n",
    "\n",
    "It describes an anisotropic nearest-neighbor spin-spin interaction in $XY$-plane with a external magnetic field $\\lambda$ along $z$ direction. The last two terms are introduced to give the correct boundary condition when transform the model to Fermionic basis. They will be surpressed as $n\\rightarrow\\infty$.\n",
    "\n",
    "This model can be reduced to two unversality class. For $\\gamma = 0$ the model is isotropic in $xy$-plane with central charge $c=1$. For $\\gamma = 1$ the model becomes Ising model with central charge $c=1/2$.\n",
    "\n",
    "## The exact solution and quantum circuit implementation for XY model\n",
    "\n",
    "The idea of quantum simulation is that we impose the interaction of target quantum system to a set of unentangled qubits and these qubits will simulate the target quantum system. In this notebook, the target quantum system is the XY model, the unentagled qubits sit at the begining of a quantum circuit and we impose the interaction by applying a series of quantum gates.\n",
    "\n",
    "We want to create a quantum circuit $U_{dis}$ to diagonalize the Hamiltonian such that $$H_{XY} =U_{dis}\\tilde{H}U_{dis}^\\dagger $$.\n",
    "\n",
    "Using this circuit, we can \n",
    "* start from a eigenstate(product state) of the non-interaction Hamiltonian $\\tilde{H}$ to create the excited eigenstates of $H_{XY}$\n",
    "* simulate time evolution of a state\n",
    "* simulate thermal state $exp(-\\beta H_{XY})$"
   ]
  },
  {
   "cell_type": "code",
   "execution_count": 1,
   "metadata": {},
   "outputs": [],
   "source": [
    "import tequila as tq\n",
    "import numpy as np\n",
    "from numpy import pi\n",
    "import qiskit"
   ]
  },
  {
   "cell_type": "code",
   "execution_count": 2,
   "metadata": {},
   "outputs": [
    {
     "name": "stdout",
     "output_type": "stream",
     "text": [
      "[<IBMQSimulator('ibmq_qasm_simulator') from IBMQ(hub='ibm-q', group='open', project='main')>, <IBMQBackend('ibmqx2') from IBMQ(hub='ibm-q', group='open', project='main')>, <IBMQBackend('ibmq_16_melbourne') from IBMQ(hub='ibm-q', group='open', project='main')>, <IBMQBackend('ibmq_vigo') from IBMQ(hub='ibm-q', group='open', project='main')>, <IBMQBackend('ibmq_ourense') from IBMQ(hub='ibm-q', group='open', project='main')>, <IBMQBackend('ibmq_valencia') from IBMQ(hub='ibm-q', group='open', project='main')>, <IBMQBackend('ibmq_armonk') from IBMQ(hub='ibm-q', group='open', project='main')>, <IBMQBackend('ibmq_athens') from IBMQ(hub='ibm-q', group='open', project='main')>, <IBMQBackend('ibmq_santiago') from IBMQ(hub='ibm-q', group='open', project='main')>]\n"
     ]
    }
   ],
   "source": [
    "from qiskit import IBMQ\n",
    "MY_IBMQ_TOKEN=\"3de053f9144678e01b3b90f616b8d0ffd44af1b3ae5977704ccbf9b650d47b4d4637f37c06eef7658e26efc40d2105e1c5c5fef207b84774c9a5630887fd5063\"\n",
    "IBMQ.save_account(MY_IBMQ_TOKEN, overwrite=True) # needs to be done once, and is then saved in our environment\n",
    "IBMQ.load_account()\n",
    "# see the list of backends that you can use:\n",
    "provider = IBMQ.get_provider(hub='ibm-q', group='open', project='main')\n",
    "print(provider.backends())"
   ]
  },
  {
   "cell_type": "code",
   "execution_count": 3,
   "metadata": {
    "scrolled": true
   },
   "outputs": [
    {
     "name": "stdout",
     "output_type": "stream",
     "text": [
      "backend         | wfn        | sampling   | noise      | installed \n",
      "--------------------------------------------------------------------\n",
      "qulacs_gpu      | False      | False      | False      | False     \n",
      "qulacs          | True       | True       | True       | True      \n",
      "qibo            | False      | False      | False      | False     \n",
      "qiskit          | True       | True       | True       | True      \n",
      "cirq            | True       | True       | True       | True      \n",
      "pyquil          | False      | False      | False      | False     \n",
      "symbolic        | True       | False      | False      | True      \n"
     ]
    }
   ],
   "source": [
    "tq.show_available_simulators()"
   ]
  },
  {
   "cell_type": "markdown",
   "metadata": {},
   "source": [
    "(In Teaqulia we can compile the circuit into object with different backend. )"
   ]
  },
  {
   "cell_type": "code",
   "execution_count": 4,
   "metadata": {},
   "outputs": [
    {
     "data": {
      "text/html": [
       "<pre style=\"word-wrap: normal;white-space: pre;background: #fff0;line-height: 1.1;font-family: &quot;Courier New&quot;,Courier,monospace\">          ┌───┐        \n",
       "q_0: ──■──┤ X ├──■───■─\n",
       "     ┌─┴─┐└─┬─┘┌─┴─┐ │ \n",
       "q_1: ┤ X ├──■──┤ X ├─■─\n",
       "     └───┘     └───┘   \n",
       "c: 2/══════════════════\n",
       "                       </pre>"
      ],
      "text/plain": [
       "          ┌───┐        \n",
       "q_0: ──■──┤ X ├──■───■─\n",
       "     ┌─┴─┐└─┬─┘┌─┴─┐ │ \n",
       "q_1: ┤ X ├──■──┤ X ├─■─\n",
       "     └───┘     └───┘   \n",
       "c: 2/══════════════════\n",
       "                       "
      ]
     },
     "execution_count": 4,
     "metadata": {},
     "output_type": "execute_result"
    }
   ],
   "source": [
    "def fSWAP(q0,q1):\n",
    "    circuit = tq.gates.CNOT(q0,q1) + tq.gates.CNOT(q1,q0) + tq.gates.CNOT(q0,q1)\n",
    "    circuit += tq.gates.CZ(q0,q1)\n",
    "    return circuit\n",
    "    \n",
    "    \n",
    "qiskit_fswap = tq.compile(fSWAP(0,1),backend = 'qiskit')\n",
    "qiskit_fswap.circuit.draw()"
   ]
  },
  {
   "cell_type": "code",
   "execution_count": 5,
   "metadata": {},
   "outputs": [],
   "source": [
    "# CH (Controlled-Haddamard)\n",
    "# control qubit: q1\n",
    "# target qubit: q0\n",
    "def CH2(q0,q1):\n",
    "    circuit = tq.gates.Phase(phi=-pi/2,target=q0) + tq.gates.H(q0) + tq.gates.Phase(phi=-pi/4,target=q0)\n",
    "    circuit += tq.gates.H(q0) + tq.gates.H(q1) + tq.gates.CNOT(q0,q1) + tq.gates.H(q0) +tq.gates.H(q1)\n",
    "    circuit += tq.gates.T(q0) + tq.gates.H(q0) + tq.gates.S(q0)\n",
    "    return circuit\n",
    "qiskit_mix = tq.compile(CH2(0,1),backend = 'qiskit')\n",
    "# Fourier transform gates\n",
    "\n",
    "def F2(q0,q1):\n",
    "    circuit = tq.gates.CNOT(q0,q1) + CH2(q0,q1) + tq.gates.CNOT(q0,q1) +tq.gates.CZ(q0,q1)\n",
    "    return circuit\n",
    "\n",
    "def F0(q0,q1):\n",
    "    return F2(q0,q1)\n",
    "    \n",
    "def F1(q0,q1):\n",
    "    return F2(q0,q1) + tq.gates.Phase(phi=-pi/2,target=q0)\n"
   ]
  },
  {
   "cell_type": "markdown",
   "metadata": {},
   "source": [
    "Bogoliubov transformation"
   ]
  },
  {
   "cell_type": "code",
   "execution_count": 6,
   "metadata": {},
   "outputs": [],
   "source": [
    "from math import pi\n",
    "\n",
    "# control qubit: q0\n",
    "# target qubit: q1\n",
    "def CRX(theta, q0, q1):\n",
    "    circuit = tq.gates.Rz(angle=pi/2.0,target=q1) + tq.gates.Ry(angle=theta, target=q1) + tq.gates.CNOT(q0,q1)\n",
    "    circuit += tq.gates.Ry(angle=-pi/2.0,target=q1) + tq.gates.CNOT(q0,q1) + tq.gates.Rz(angle=-pi/2.0,target=q1)\n",
    "    return circuit\n",
    "\n",
    "def B(theta_k,q0,q1):\n",
    "#     circuit = tq.gates.X(q1) + tq.gates.CX(control=q1,target=q0) +CRX(theta_k,q0,q1) + tq.gates.CX(control=q1,target=q0)+tq.gates.X(q1)\n",
    "    circuit = tq.gates.X(q1) + tq.gates.CX(control=q1,target=q0) +tq.gates.CRx(control=q0,target=q1,angle=theta_k) + tq.gates.CX(control=q1,target=q0)+tq.gates.X(q1)\n",
    "\n",
    "    return circuit"
   ]
  },
  {
   "cell_type": "markdown",
   "metadata": {},
   "source": [
    "For XY model, the quantum circuit will depends on another parameter: $\\gamma$. Only Bogoliubov transformation will be different.\n",
    "\n",
    "$$\\theta_k=2\\arctan(\\frac{J\\gamma\\sin(2\\pi k/n)}{J\\cos(2\\pi k/n)+\\lambda})$$\n",
    "\n",
    "or use PRA convention:\n",
    "\n",
    "$$\\theta_k=\\arccos(\\frac{-\\lambda+\\cos(2\\pi k/n)}{\\sqrt{(\\lambda-\\cos(2\\pi k/n))^2+\\gamma^2\\sin^2(2\\pi k /n)}})$$\n",
    "\n",
    "where $J=1, k=1,n=4$"
   ]
  },
  {
   "cell_type": "code",
   "execution_count": 7,
   "metadata": {},
   "outputs": [],
   "source": [
    "def Udisg(lam,gamma,q0,q1,q2,q3):\n",
    "    k=1\n",
    "    n=4\n",
    "#     th1=-np.arccos((lam-np.cos(2*pi*k/n))/np.sqrt((lam-np.cos(2*pi*k/n))**2+np.sin(2*pi*k/n)**2))\n",
    "#     th1 = 2*np.arctan( (gamma*np.sin( 2*pi*k/n )) / (np.cos( 2*pi*k/n ) + lam ))\n",
    "    th1 = -np.arccos((lam-np.cos(2*pi*k/n))/np.sqrt((lam-np.cos(2*pi*k/n))**2+gamma**2 * np.sin(2*pi*k/n)**2))\n",
    "    circuit = B(th1,q0,q1)+ F1(q0,q1) + F0(q2,q3)\n",
    "    #fSWAP(Udis,q2,q1) # for ibmqx2\n",
    "    #fSWAP(Udis,q1,q2) # for ibmqx4\n",
    "    circuit += F0(q0,q2)\n",
    "    circuit += F0(q1,q3)\n",
    "    #fSWAP(Udis,q2,q1) # for ibmqx2\n",
    "    #fSWAP(Udis,q1,q2) # for ibmqx4\n",
    "    return circuit\n",
    "\n",
    "def XYmodel(lam,gamma,q0,q1,q2,q3):\n",
    "    if lam<1:\n",
    "        return tq.gates.X(q3) + Udisg(lam,gamma,q0,q1,q2,q3)\n",
    "    else:\n",
    "        return Udisg(lam,gamma,q0,q1,q2,q3)"
   ]
  },
  {
   "cell_type": "code",
   "execution_count": 8,
   "metadata": {},
   "outputs": [],
   "source": [
    "shots = 1024\n",
    "mag_sim = []\n",
    "H = tq.paulis.Z([1])\n",
    "for i in range(10):\n",
    "    lam = 0.2*i\n",
    "    circuit = XYmodel(lam,1,0,1,2,3)\n",
    "\n",
    "    M_exp = tq.ExpectationValue(H = H, U = circuit)\n",
    "    M=tq.simulate(M_exp,backend='qiskit',samples=shots)\n",
    "    mag_sim.append(M)"
   ]
  },
  {
   "cell_type": "code",
   "execution_count": 10,
   "metadata": {},
   "outputs": [],
   "source": [
    "#Real Device\n",
    "real_device = 'ibmq_santiago'\n",
    "mag=[]\n",
    "for i in range(10):\n",
    "    lam = 0.2*i\n",
    "    circuit = XYmodel(lam,1,0,1,2,3)\n",
    "\n",
    "    M_exp = tq.ExpectationValue(H = H, U = circuit)\n",
    "    M=tq.simulate(M_exp,backend='qiskit',device = real_device,samples=shots)\n",
    "    mag.append(M)"
   ]
  },
  {
   "cell_type": "code",
   "execution_count": 11,
   "metadata": {},
   "outputs": [
    {
     "data": {
      "image/png": "[encoded data removed]",
      "text/plain": [
       "<Figure size 648x360 with 1 Axes>"
      ]
     },
     "metadata": {
      "needs_background": "light"
     },
     "output_type": "display_data"
    }
   ],
   "source": [
    "\n",
    "import matplotlib.pyplot as plt\n",
    "%matplotlib inline\n",
    "import numpy as np\n",
    "from scipy import linalg as la\n",
    "def exact(lam):\n",
    "    if lam <1:\n",
    "        return lam/(2*np.sqrt(1+lam**2))\n",
    "    if lam >1:\n",
    "        return 1/2+lam/(2*np.sqrt(1+lam**2))\n",
    "    return None\n",
    "vexact = np.vectorize(exact)\n",
    "l=np.arange(0.0,2.0,0.01)\n",
    "l1=np.arange(0.0,2.0,0.2)\n",
    "plt.figure(figsize=(9,5))\n",
    "plt.plot(l,vexact(l),'k',label='exact')\n",
    "plt.plot(l1, mag_sim, 'bo',label='simulation')\n",
    "plt.plot(l1, mag, 'r*',label='ibmqx5')\n",
    "plt.xlabel('$\\lambda$')\n",
    "plt.ylabel('$<\\sigma_{z}>$')\n",
    "plt.legend()\n",
    "plt.title('Magnetization of the ground state of n=4 Ising spin chain')\n",
    "plt.show()\n"
   ]
  },
  {
   "cell_type": "code",
   "execution_count": null,
   "metadata": {},
   "outputs": [],
   "source": []
  }
 ],
 "metadata": {
  "kernelspec": {
   "display_name": "tequila",
   "language": "python",
   "name": "tequila"
  },
  "language_info": {
   "codemirror_mode": {
    "name": "ipython",
    "version": 3
   },
   "file_extension": ".py",
   "mimetype": "text/x-python",
   "name": "python",
   "nbconvert_exporter": "python",
   "pygments_lexer": "ipython3",
   "version": "3.7.7"
  }
 },
 "nbformat": 4,
 "nbformat_minor": 4
}
