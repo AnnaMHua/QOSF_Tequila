{
 "cells": [
  {
   "cell_type": "markdown",
   "metadata": {},
   "source": [
    "# Exact Quantum Simulation for XY model\n",
    "\n",
    "Meng Hua\n",
    "\n",
    "Mentor:Alba"
   ]
  },
  {
   "cell_type": "markdown",
   "metadata": {},
   "source": [
    "# Introduction\n"
   ]
  },
  {
   "cell_type": "markdown",
   "metadata": {},
   "source": [
    "### Installing necessary packages\n",
    "\n",
    "In this notebook we will use [Tequila](https://github.com/aspuru-guzik-group/tequila), an Extensible Quantum Information and Learning Architecture, with [Qiskit](https://qiskit.org/) backends:"
   ]
  },
  {
   "cell_type": "code",
   "execution_count": 2,
   "metadata": {},
   "outputs": [],
   "source": [
    "# Run this cell for packages' installation. The outputs will be cleared at the end.\n",
    "!pip install qiskit\n",
    "!pip install matplotlib\n",
    "!pip install git+https://github.com/aspuru-guzik-group/tequila.git\n",
    "    \n",
    "from IPython.display import clear_output\n",
    "clear_output()\n",
    "\n",
    "import tequila as tq\n",
    "import numpy as np\n",
    "from numpy import pi\n",
    "import qiskit"
   ]
  },
  {
   "cell_type": "markdown",
   "metadata": {},
   "source": [
    "# 1.Theory "
   ]
  },
  {
   "attachments": {},
   "cell_type": "markdown",
   "metadata": {},
   "source": [
    "## The XY model\n",
    "The $XY$ model is a generalization of 1D Ising and is also the simplest non-trivial integrable model. When we use exact quantum simulation on the many-body physics model, we will be able to access the states in the whole spectrum rather than only ground states. \n",
    "\n",
    "The Hamiltonian of XY model can be written as:\n",
    "$$H_{XY}=\\sum_{i=1}^n(\\frac{1+\\gamma}{2}\\sigma_i^x\\sigma_{i+1}^x+\\frac{1-\\gamma}{2}\\sigma_i^y\\sigma_{i+1}^y)+\\lambda\\sum_{i=1}^n\\sigma_i^z+\\frac{1+\\gamma}{2}\\sigma_1^y\\sigma_2^z...\\sigma_{n-1}^z\\sigma_n^y+\\frac{1-\\gamma}{2}\\sigma_1^x\\sigma_2^z...\\sigma_{n-1}^z\\sigma_n^x$$\n",
    "\n",
    "It describes an anisotropic nearest-neighbor spin-spin interaction in $XY$-plane with a external magnetic field $\\lambda$ along $z$ direction. The last two terms are introduced to give the correct boundary condition when transform the model to Fermionic basis. They will be surpressed as $n\\rightarrow\\infty$.\n",
    "\n",
    "This model can be reduced to two unversality class. For $\\gamma = 0$ the model is isotropic in $xy$-plane with central charge $c=1$. For $\\gamma = 1$ the model becomes Ising model with central charge $c=1/2$.\n",
    "\n",
    "## The exact solution and quantum circuit implementation for XY model\n",
    "\n",
    "The idea of quantum simulation is that we impose the interaction of target quantum system to a set of unentangled qubits and these qubits will simulate the target quantum system. In this notebook, the target quantum system is the XY model, the unentagled qubits sit at the begining of a quantum circuit and we impose the interaction by applying a series of quantum gates.\n",
    "\n",
    "In another words, we want to create a quantum circuit $U_{dis}$ which can diagonalize the Hamiltonian as an unitarty transformation such that $$H_{XY} =U_{dis}\\tilde{H}U_{dis}^\\dagger $$.\n",
    "\n",
    "Using this circuit, we can \n",
    "1. start from a eigenstate(product state) of the non-interaction Hamiltonian $\\tilde{H}$ to create the excited eigenstates of $H_{XY}$\n",
    "2. simulate time evolution of a state\n",
    "3. simulate thermal state $exp(-\\beta H_{XY})$\n",
    "\n",
    "In this notebook, we will show how to use simulators in Tequila as well as the real ibmQ device to do the first two and leave thermal state simulation for future discussion.\n",
    "\n",
    "The quantum circuit $U_{dis}$ consists with three basis transformations: A Jordan-Wigner transformatiom that transforms spins into fermions, a Fourier transformation that transform from real space into momentum space and a Bogoliubov transformation to decouple the positive and negative modes. We will show how to write those transformations as quantum gates and how to implement them using Tequila.\n",
    "\n",
    "<img src = circuit.png style = \"width : 650px\">\n"
   ]
  },
  {
   "cell_type": "markdown",
   "metadata": {},
   "source": [
    "## Jordan-Wigner transformation\n",
    "\n",
    "Many-body physics need to handle models with quantum spins, however, they are very difficult to deal with. Jordan and Wigner found that a single spin can be represented by a fermion, with up and down spins corresponding to empty and occupied fermion states respectively. However, different spins commute but different fermions anticommute. So we can dress the spin ladder operators $\\sigma^{+/-}=\\frac{(\\sigma^x+i\\sigma^y)}{2}$ with some operators to the satisfy commutation relation[[1]](http://tqm.courses.phy.cam.ac.uk/docs/lectures/JordanWigner/).\n",
    "\n",
    "$$c_j = \\overbrace{\\sigma^z\\otimes ...\\otimes\\sigma^z}^{j-1}\\otimes\\frac{\\sigma^x-i\\sigma^y}{2}\\otimes\\overbrace{\\mathbb{1}\\otimes ...\\otimes\\mathbb{1}}^{N-j \\text{ times}}=(\\prod_{k=1}^{j-1}{\\sigma^z_k})\\sigma_j^-$$\n",
    "\n",
    "$$c_j^\\dagger = \\overbrace{\\sigma^z\\otimes ...\\otimes\\sigma^z}^{j-1}\\otimes\\frac{\\sigma^x+i\\sigma^y}{2}\\otimes\\overbrace{\\mathbb{1}\\otimes ...\\otimes\\mathbb{1}}^{N-j \\text{ times}}=(\\prod_{k=1}^{j-1}{\\sigma^z_k})\\sigma_j^+$$\n",
    "\n",
    "It is obvious that for fermions at two sites $i$ and $j$ where $i\\neq j$, the only anticommuting part should be $$\\{\\frac{\\sigma_i^x-i\\sigma_i^y}{2},\\sigma_j^z\\}=0.$$\n",
    "\n",
    "So for the fermion operators $c_j$ we have:\n",
    "$$\\{c_i,c_j\\}=0,\\quad \\{c_i,c_j^\\dagger\\}=\\delta_{ij}$$\n",
    "\n",
    "Notice that $\\sigma^z_j$ is just counting the number of fermions at site $j$, if site $j$ is unoccupied $<\\sigma^z> = -1$, otherwise $<\\sigma^z>=+1$ and site $j$ is occupied, so we have:\n",
    "$$\\sigma^z_j=2c_j^\\dagger c-1 = 2n_j-1=\\begin{cases}\n",
    "    -1,& \\text{if site $j$ is unoccupied} \\\\\n",
    "    +1,              & \\text{if site $j$ is occupied}\n",
    "\\end{cases} = -exp(-i\\pi n_j)$$\n",
    "\n",
    "Because $$\\sigma^+_j=(\\prod_{k=1}^{j-1}{\\sigma^z_k})c_j^+=exp(-i\\sum_{k=1}^{j-1}n_k)c_j^+$$"
   ]
  },
  {
   "cell_type": "code",
   "execution_count": 4,
   "metadata": {
    "scrolled": true
   },
   "outputs": [
    {
     "name": "stdout",
     "output_type": "stream",
     "text": [
      "backend         | wfn        | sampling   | noise      | installed \n",
      "--------------------------------------------------------------------\n",
      "qulacs_gpu      | False      | False      | False      | False     \n",
      "qulacs          | True       | True       | True       | True      \n",
      "qibo            | False      | False      | False      | False     \n",
      "qiskit          | True       | True       | True       | True      \n",
      "cirq            | True       | True       | True       | True      \n",
      "pyquil          | False      | False      | False      | False     \n",
      "symbolic        | True       | False      | False      | True      \n"
     ]
    }
   ],
   "source": [
    "tq.show_available_simulators()"
   ]
  },
  {
   "cell_type": "markdown",
   "metadata": {},
   "source": [
    "(In Teaqulia we can compile the circuit into object with different backend. )"
   ]
  },
  {
   "cell_type": "code",
   "execution_count": 5,
   "metadata": {},
   "outputs": [
    {
     "data": {
      "text/html": [
       "<pre style=\"word-wrap: normal;white-space: pre;background: #fff0;line-height: 1.1;font-family: &quot;Courier New&quot;,Courier,monospace\">          ┌───┐        \n",
       "q_0: ──■──┤ X ├──■───■─\n",
       "     ┌─┴─┐└─┬─┘┌─┴─┐ │ \n",
       "q_1: ┤ X ├──■──┤ X ├─■─\n",
       "     └───┘     └───┘   \n",
       "c: 2/══════════════════\n",
       "                       </pre>"
      ],
      "text/plain": [
       "          ┌───┐        \n",
       "q_0: ──■──┤ X ├──■───■─\n",
       "     ┌─┴─┐└─┬─┘┌─┴─┐ │ \n",
       "q_1: ┤ X ├──■──┤ X ├─■─\n",
       "     └───┘     └───┘   \n",
       "c: 2/══════════════════\n",
       "                       "
      ]
     },
     "execution_count": 5,
     "metadata": {},
     "output_type": "execute_result"
    }
   ],
   "source": [
    "def fSWAP(q0,q1):\n",
    "    circuit = tq.gates.CNOT(q0,q1) + tq.gates.CNOT(q1,q0) + tq.gates.CNOT(q0,q1)\n",
    "    circuit += tq.gates.CZ(q0,q1)\n",
    "    return circuit\n",
    "    \n",
    "    \n",
    "qiskit_fswap = tq.compile(fSWAP(0,1),backend = 'qiskit')\n",
    "qiskit_fswap.circuit.draw()"
   ]
  },
  {
   "cell_type": "code",
   "execution_count": 6,
   "metadata": {},
   "outputs": [],
   "source": [
    "# CH (Controlled-Haddamard)\n",
    "# control qubit: q1\n",
    "# target qubit: q0\n",
    "def CH2(q0,q1):\n",
    "    circuit = tq.gates.Phase(phi=-pi/2,target=q0) + tq.gates.H(q0) + tq.gates.Phase(phi=-pi/4,target=q0)\n",
    "    circuit += tq.gates.H(q0) + tq.gates.H(q1) + tq.gates.CNOT(q0,q1) + tq.gates.H(q0) +tq.gates.H(q1)\n",
    "    circuit += tq.gates.T(q0) + tq.gates.H(q0) + tq.gates.S(q0)\n",
    "    return circuit\n",
    "qiskit_mix = tq.compile(CH2(0,1),backend = 'qiskit')\n",
    "# Fourier transform gates\n",
    "\n",
    "def F2(q0,q1):\n",
    "    circuit = tq.gates.CNOT(q0,q1) + CH2(q0,q1) + tq.gates.CNOT(q0,q1) +tq.gates.CZ(q0,q1)\n",
    "    return circuit\n",
    "\n",
    "def F0(q0,q1):\n",
    "    return F2(q0,q1)\n",
    "    \n",
    "def F1(q0,q1):\n",
    "    return F2(q0,q1) + tq.gates.Phase(phi=-pi/2,target=q0)\n"
   ]
  },
  {
   "cell_type": "markdown",
   "metadata": {},
   "source": [
    "Bogoliubov transformation"
   ]
  },
  {
   "cell_type": "code",
   "execution_count": 7,
   "metadata": {},
   "outputs": [],
   "source": [
    "from math import pi\n",
    "\n",
    "# control qubit: q0\n",
    "# target qubit: q1\n",
    "def CRX(theta, q0, q1):\n",
    "    circuit = tq.gates.Rz(angle=pi/2.0,target=q1) + tq.gates.Ry(angle=theta, target=q1) + tq.gates.CNOT(q0,q1)\n",
    "    circuit += tq.gates.Ry(angle=-pi/2.0,target=q1) + tq.gates.CNOT(q0,q1) + tq.gates.Rz(angle=-pi/2.0,target=q1)\n",
    "    return circuit\n",
    "\n",
    "def B(theta_k,q0,q1):\n",
    "#     circuit = tq.gates.X(q1) + tq.gates.CX(control=q1,target=q0) +CRX(theta_k,q0,q1) + tq.gates.CX(control=q1,target=q0)+tq.gates.X(q1)\n",
    "    circuit = tq.gates.X(q1) + tq.gates.CX(control=q1,target=q0) +tq.gates.CRx(control=q0,target=q1,angle=theta_k) + tq.gates.CX(control=q1,target=q0)+tq.gates.X(q1)\n",
    "\n",
    "    return circuit"
   ]
  },
  {
   "cell_type": "markdown",
   "metadata": {},
   "source": [
    "For XY model, the quantum circuit will depends on another parameter: $\\gamma$. Only Bogoliubov transformation will be different.\n",
    "\n",
    "$$\\theta_k=2\\arctan(\\frac{J\\gamma\\sin(2\\pi k/n)}{J\\cos(2\\pi k/n)+\\lambda})$$\n",
    "\n",
    "or use PRA convention:\n",
    "\n",
    "$$\\theta_k=\\arccos(\\frac{-\\lambda+\\cos(2\\pi k/n)}{\\sqrt{(\\lambda-\\cos(2\\pi k/n))^2+\\gamma^2\\sin^2(2\\pi k /n)}})$$\n",
    "\n",
    "where $J=1, k=1,n=4$"
   ]
  },
  {
   "cell_type": "code",
   "execution_count": 8,
   "metadata": {},
   "outputs": [],
   "source": [
    "def Udisg(lam,gamma,q0,q1,q2,q3):\n",
    "    k=1\n",
    "    n=4\n",
    "#     th1=-np.arccos((lam-np.cos(2*pi*k/n))/np.sqrt((lam-np.cos(2*pi*k/n))**2+np.sin(2*pi*k/n)**2))\n",
    "#     th1 = 2*np.arctan( (gamma*np.sin( 2*pi*k/n )) / (np.cos( 2*pi*k/n ) + lam ))\n",
    "    th1 = -np.arccos((lam-np.cos(2*pi*k/n))/np.sqrt((lam-np.cos(2*pi*k/n))**2+gamma**2 * np.sin(2*pi*k/n)**2))\n",
    "    circuit = B(th1,q0,q1)+ F1(q0,q1) + F0(q2,q3)\n",
    "    #fSWAP(Udis,q2,q1) # for ibmqx2\n",
    "    #fSWAP(Udis,q1,q2) # for ibmqx4\n",
    "    circuit += F0(q0,q2)\n",
    "    circuit += F0(q1,q3)\n",
    "    #fSWAP(Udis,q2,q1) # for ibmqx2\n",
    "    #fSWAP(Udis,q1,q2) # for ibmqx4\n",
    "    return circuit\n",
    "\n",
    "def XYmodel(lam,gamma,q0,q1,q2,q3):\n",
    "    if lam<1:\n",
    "        return tq.gates.X(q3) + Udisg(lam,gamma,q0,q1,q2,q3)\n",
    "    else:\n",
    "        return Udisg(lam,gamma,q0,q1,q2,q3)"
   ]
  },
  {
   "cell_type": "markdown",
   "metadata": {},
   "source": [
    "# 2. Simulation"
   ]
  },
  {
   "cell_type": "code",
   "execution_count": 9,
   "metadata": {},
   "outputs": [],
   "source": [
    "# simulation\n",
    "def sim_run_expecM(lam,gamma):\n",
    "    shots = 1024\n",
    "    H = tq.paulis.Z([1])\n",
    "    \n",
    "    circuit = XYmodel(lam,gamma,0,1,2,3)\n",
    "\n",
    "    M_exp = tq.ExpectationValue(H = H, U = circuit)\n",
    "    M=tq.simulate(M_exp,backend='qiskit',samples=shots)\n",
    "    return M"
   ]
  },
  {
   "cell_type": "code",
   "execution_count": 10,
   "metadata": {},
   "outputs": [],
   "source": [
    "#Real Device\n",
    "def real_device_run_expecM(real_device, lam,gamma):\n",
    "    shots = 1024\n",
    "    H = tq.paulis.Z([1])\n",
    "    circuit = XYmodel(lam,gamma,0,1,2,3)\n",
    "\n",
    "    M_exp = tq.ExpectationValue(H = H, U = circuit)\n",
    "    M=tq.simulate(M_exp,backend='qiskit',device = real_device,samples=shots)\n",
    "    return M"
   ]
  },
  {
   "cell_type": "code",
   "execution_count": 39,
   "metadata": {},
   "outputs": [
    {
     "name": "stderr",
     "output_type": "stream",
     "text": [
      "ibmqfactory.load_account:WARNING:2021-01-21 01:20:41,311: Credentials are already in use. The existing account in the session will be replaced.\n"
     ]
    },
    {
     "name": "stdout",
     "output_type": "stream",
     "text": [
      "[<IBMQSimulator('ibmq_qasm_simulator') from IBMQ(hub='ibm-q', group='open', project='main')>, <IBMQBackend('ibmqx2') from IBMQ(hub='ibm-q', group='open', project='main')>, <IBMQBackend('ibmq_16_melbourne') from IBMQ(hub='ibm-q', group='open', project='main')>, <IBMQBackend('ibmq_vigo') from IBMQ(hub='ibm-q', group='open', project='main')>, <IBMQBackend('ibmq_ourense') from IBMQ(hub='ibm-q', group='open', project='main')>, <IBMQBackend('ibmq_valencia') from IBMQ(hub='ibm-q', group='open', project='main')>, <IBMQBackend('ibmq_armonk') from IBMQ(hub='ibm-q', group='open', project='main')>, <IBMQBackend('ibmq_athens') from IBMQ(hub='ibm-q', group='open', project='main')>, <IBMQBackend('ibmq_santiago') from IBMQ(hub='ibm-q', group='open', project='main')>]\n"
     ]
    }
   ],
   "source": [
    "from qiskit import IBMQ\n",
    "MY_IBMQ_TOKEN='55dee9b655b84737468de95877d2c72ecf8d7fc6b40cf6edb2b96668fbe80b40381e0f216fd0ab70a256ac97ad4030cef9ab39f3aae616720069fa2c5b9a111c'\n",
    "IBMQ.save_account(MY_IBMQ_TOKEN, overwrite=True) # needs to be done once, and is then saved in our environment\n",
    "IBMQ.load_account()\n",
    "# see the list of backends that you can use:\n",
    "provider = IBMQ.get_provider(hub='ibm-q', group='open', project='main')\n",
    "print(provider.backends())"
   ]
  },
  {
   "cell_type": "code",
   "execution_count": 41,
   "metadata": {},
   "outputs": [
    {
     "data": {
      "text/plain": [
       "0.1875"
      ]
     },
     "execution_count": 41,
     "metadata": {},
     "output_type": "execute_result"
    }
   ],
   "source": [
    "real_device_run_expecM('ibmq_vigo', 0.2, 1)"
   ]
  },
  {
   "cell_type": "code",
   "execution_count": 21,
   "metadata": {},
   "outputs": [],
   "source": [
    "vigo_output = [real_device_run_expecM('ibmq_vigo', 0.2*i, 1) for i in range(10)]"
   ]
  },
  {
   "cell_type": "code",
   "execution_count": 18,
   "metadata": {},
   "outputs": [],
   "source": [
    "mag_sim = [sim_run_expecM(0.2*i,1) for i in range(10)]"
   ]
  },
  {
   "cell_type": "code",
   "execution_count": 23,
   "metadata": {
    "scrolled": true
   },
   "outputs": [
    {
     "data": {
      "image/png": "[encoded data removed]",
      "text/plain": [
       "<Figure size 648x360 with 1 Axes>"
      ]
     },
     "metadata": {
      "needs_background": "light"
     },
     "output_type": "display_data"
    }
   ],
   "source": [
    "\n",
    "import matplotlib.pyplot as plt\n",
    "%matplotlib inline\n",
    "import numpy as np\n",
    "from scipy import linalg as la\n",
    "def exact(lam):\n",
    "    if lam <1:\n",
    "        return lam/(2*np.sqrt(1+lam**2))\n",
    "    if lam >1:\n",
    "        return 1/2+lam/(2*np.sqrt(1+lam**2))\n",
    "    return None\n",
    "vexact = np.vectorize(exact)\n",
    "l=np.arange(0.0,2.0,0.01)\n",
    "l1=np.arange(0.0,2.0,0.2)\n",
    "plt.figure(figsize=(9,5))\n",
    "plt.plot(l,vexact(l),'k',label='exact')\n",
    "plt.plot(l1, mag_sim, 'bo',label='simulation')\n",
    "plt.plot(l1, vigo_output, 'r*',label='ibmqx5')\n",
    "plt.xlabel('$\\lambda$')\n",
    "plt.ylabel('$<\\sigma_{z}>$')\n",
    "plt.legend()\n",
    "plt.title('Magnetization of the ground state of n=4 XY model with $\\gamma = 1$ (Ising spin chain)')\n",
    "plt.show()\n"
   ]
  },
  {
   "cell_type": "markdown",
   "metadata": {},
   "source": [
    "### Time Evolution of $|\\uparrow>^{\\otimes4}=|0>^{\\otimes 4}$ (in $H_{XY}$ basis)\n",
    "\n",
    "First find the corresponding state in the diagonal basis ($\\tilde{H}$)\n",
    "\n",
    "$$|\\tilde{\\psi}_0>=U_{dis}^{\\dagger}|0000>=\\cos{\\phi}|0000>+i\\sin{\\phi}|1100>$$\n",
    "$$\\phi = \\frac{1}{2}\\arccos{\\frac{-\\lambda+\\cos{\\frac{2\\pi k}{n}} }{\\sqrt{(\\lambda-\\cos{\\frac{2\\pi k}{n} })^2 +\\gamma^2\\sin^2{\\frac{2\\pi k}{n}}}}}$$\n",
    "\n",
    "For Ising model $\\gamma =1,k=1,n=4$,$$\\phi = \\frac{1}{2}\\arccos(\\frac{\\lambda}{\\sqrt{1+\\lambda^2}})$$"
   ]
  },
  {
   "cell_type": "markdown",
   "metadata": {},
   "source": [
    "The time evolution of $|\\tilde{\\psi}(t)> = e^{-itE_i}$\n",
    "\n",
    "$$|\\tilde{\\psi}(t)> =(\\cos\\phi|00>+ie^{4it\\sqrt{1+\\lambda^2}}\\sin\\phi|11>)\\otimes|00>$$\n",
    "\n",
    "We impelement this state using $R_y(2\\phi)=e^{-i\\phi\\sigma_y} = \\cos\\phi-i\\sigma_y\\sin\\phi=\\begin{pmatrix}\n",
    "\\cos\\phi & -\\sin\\phi \\\\\n",
    "\\sin\\phi & \\cos\\phi \n",
    "\\end{pmatrix}$ and also a phase gate for the phase $-ie^{4it\\sqrt{1+\\lambda^2}}$"
   ]
  },
  {
   "cell_type": "code",
   "execution_count": 28,
   "metadata": {},
   "outputs": [],
   "source": [
    "import numpy as np\n",
    "def Initial_time(t,lam,q0,q1,q2,q3):\n",
    "    circuit = tq.gates.Ry(np.arccos(lam/np.sqrt(1+lam**2)),q0)+tq.gates.Phase(3*pi/2+4*t*np.sqrt(1+lam**2),q0)\n",
    "    circuit += tq.gates.CNOT(q0,q1)\n",
    "    return circuit\n",
    "\n",
    "def Ising_time(t,lam,gamma,q0,q1,q2,q3):\n",
    "#     if lam<1:\n",
    "#         return tq.gates.X(q3) + Initial_time(t,lam,q0,q1,q2,q3) + Udisg(lam,q0,q1,q2,q3)\n",
    "#     else:\n",
    "    return Initial_time(t,lam,q0,q1,q2,q3) + Udisg(lam,gamma,q0,q1,q2,q3)"
   ]
  },
  {
   "cell_type": "code",
   "execution_count": 46,
   "metadata": {},
   "outputs": [],
   "source": [
    "def real_time_evo_M(real_device,lam,time,gamma):\n",
    "    shots = 1024\n",
    "    H = tq.paulis.Z([1])\n",
    "\n",
    "    circuit = Ising_time(time,lam,gamma,0,1,2,3)\n",
    "\n",
    "    M_exp = tq.ExpectationValue(H = H, U = circuit)\n",
    "    M=tq.simulate(M_exp,backend='qiskit',device=real_device,samples=shots)\n",
    "    return M\n",
    "\n",
    "def sim_time_evo_expecM(lam,time,gamma):\n",
    "    shots = 1024\n",
    "    H = tq.paulis.Z([1])\n",
    "\n",
    "    circuit = Ising_time(time,lam,gamma,0,1,2,3)\n",
    "\n",
    "    M_exp = tq.ExpectationValue(H = H, U = circuit)\n",
    "    M=tq.simulate(M_exp,backend='qiskit',samples=shots)\n",
    "    return M"
   ]
  },
  {
   "cell_type": "code",
   "execution_count": 47,
   "metadata": {},
   "outputs": [],
   "source": [
    "magt_sim = [[sim_time_evo_expecM(lam,i*0.25,1) for i in range(9)] for lam in [0.5,0.9,1.8]]"
   ]
  },
  {
   "cell_type": "code",
   "execution_count": 48,
   "metadata": {
    "scrolled": true
   },
   "outputs": [
    {
     "name": "stdout",
     "output_type": "stream",
     "text": [
      "[[1.0, 0.78125, 0.345703125, 0.22265625, 0.50390625, 0.8984375, 0.95703125, 0.595703125, 0.263671875], [1.0, 0.787109375, 0.46484375, 0.546875, 0.896484375, 0.96875, 0.69140625, 0.427734375, 0.63671875], [1.0, 0.8203125, 0.833984375, 0.994140625, 0.8515625, 0.783203125, 0.994140625, 0.85546875, 0.802734375]]\n"
     ]
    }
   ],
   "source": [
    "print(magt_sim)"
   ]
  },
  {
   "cell_type": "code",
   "execution_count": 50,
   "metadata": {},
   "outputs": [],
   "source": [
    "vigo_time_evo5 = [[real_time_evo_M('ibmq_vigo',lam,i*0.25,1) for i in range(9)] for lam in [0.5,0.9,1.8]]"
   ]
  },
  {
   "cell_type": "code",
   "execution_count": 51,
   "metadata": {},
   "outputs": [
    {
     "data": {
      "image/png": "[encoded data removed]",
      "text/plain": [
       "<Figure size 720x360 with 1 Axes>"
      ]
     },
     "metadata": {
      "needs_background": "light"
     },
     "output_type": "display_data"
    }
   ],
   "source": [
    "\n",
    "def exact_time(lam,tt):\n",
    "    Mt=(1 + 2*lam**2 + np.cos(4*tt*np.sqrt(1 + lam**2)))/(2 + 2*lam**2)\n",
    "    return Mt\n",
    "vexact_t = np.vectorize(exact_time)\n",
    "t=np.arange(0.0,2.0,0.01)\n",
    "tt=np.arange(0.0,2.25,0.25)\n",
    "plt.figure(figsize=(10,5))\n",
    "plt.plot(t,vexact_t(0.5,t),'b',label='$\\lambda=0.5$')\n",
    "plt.plot(t,vexact_t(0.9,t),'r',label='$\\lambda=0.9$')\n",
    "plt.plot(t,vexact_t(1.8,t),'g',label='$\\lambda=1.8$')\n",
    "plt.plot(tt, magt_sim[0], 'bo',label='simulation')\n",
    "plt.plot(tt, magt_sim[1], 'ro')\n",
    "plt.plot(tt, magt_sim[2], 'go')\n",
    "plt.plot(tt, vigo_time_evo5[0], 'b*--',label='ibm_vigo')\n",
    "plt.plot(tt, vigo_time_evo5[1], 'r*--',label='ibm_vigo')\n",
    "plt.plot(tt, vigo_time_evo5[2], 'g*--',label='ibm_vigo')\n",
    "plt.plot(tt, magt_sim[0], 'b--')\n",
    "plt.plot(tt, magt_sim[1], 'r--')\n",
    "plt.plot(tt, magt_sim[2], 'g--')\n",
    "plt.xlabel('time')\n",
    "plt.ylabel('$<\\sigma_{z}>$')\n",
    "plt.legend()\n",
    "plt.title('Time evolution |↑↑↑↑> state')\n",
    "plt.show()"
   ]
  },
  {
   "cell_type": "code",
   "execution_count": null,
   "metadata": {},
   "outputs": [],
   "source": []
  }
 ],
 "metadata": {
  "kernelspec": {
   "display_name": "tequila",
   "language": "python",
   "name": "tequila"
  },
  "language_info": {
   "codemirror_mode": {
    "name": "ipython",
    "version": 3
   },
   "file_extension": ".py",
   "mimetype": "text/x-python",
   "name": "python",
   "nbconvert_exporter": "python",
   "pygments_lexer": "ipython3",
   "version": "3.7.7"
  }
 },
 "nbformat": 4,
 "nbformat_minor": 4
}
