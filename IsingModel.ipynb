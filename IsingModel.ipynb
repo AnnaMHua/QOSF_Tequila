{
 "cells": [
  {
   "cell_type": "markdown",
   "metadata": {},
   "source": [
    "### Quantum circuit for XY model.\n",
    "\n",
    "We want create a quantum circuit $U_{dis}$ such that $$H_{XY} =U_{dis}\\tilde{H}U_{dis}^\\dagger $$.\n",
    "\n",
    "Using this circuit, we can \n",
    "* start from a eigenstate(product state) of the non-interaction Hamiltonian $\\tilde{H}$ to create the excited eigenstates of $H_{XY}$\n",
    "* simulate time evolution of a state\n",
    "* simulate thermal state $exp(-\\beta H_{XY})$"
   ]
  },
  {
   "cell_type": "code",
   "execution_count": 1,
   "metadata": {},
   "outputs": [],
   "source": [
    "import tequila as tq\n",
    "import numpy as np\n",
    "from numpy import pi\n",
    "import qiskit"
   ]
  },
  {
   "cell_type": "code",
   "execution_count": 2,
   "metadata": {},
   "outputs": [
    {
     "name": "stdout",
     "output_type": "stream",
     "text": [
      "[<IBMQSimulator('ibmq_qasm_simulator') from IBMQ(hub='ibm-q', group='open', project='main')>, <IBMQBackend('ibmqx2') from IBMQ(hub='ibm-q', group='open', project='main')>, <IBMQBackend('ibmq_16_melbourne') from IBMQ(hub='ibm-q', group='open', project='main')>, <IBMQBackend('ibmq_vigo') from IBMQ(hub='ibm-q', group='open', project='main')>, <IBMQBackend('ibmq_ourense') from IBMQ(hub='ibm-q', group='open', project='main')>, <IBMQBackend('ibmq_valencia') from IBMQ(hub='ibm-q', group='open', project='main')>, <IBMQBackend('ibmq_armonk') from IBMQ(hub='ibm-q', group='open', project='main')>, <IBMQBackend('ibmq_athens') from IBMQ(hub='ibm-q', group='open', project='main')>, <IBMQBackend('ibmq_santiago') from IBMQ(hub='ibm-q', group='open', project='main')>]\n"
     ]
    }
   ],
   "source": [
    "from qiskit import IBMQ\n",
    "MY_IBMQ_TOKEN = '55dee9b655b84737468de95877d2c72ecf8d7fc6b40cf6edb2b96668fbe80b40381e0f216fd0ab70a256ac97ad4030cef9ab39f3aae616720069fa2c5b9a111c'\n",
    "IBMQ.save_account(MY_IBMQ_TOKEN, overwrite=True) # needs to be done once, and is then saved in our environment\n",
    "IBMQ.load_account()\n",
    "# see the list of backends that you can use:\n",
    "provider = IBMQ.get_provider(hub='ibm-q', group='open', project='main')\n",
    "print(provider.backends())"
   ]
  },
  {
   "cell_type": "markdown",
   "metadata": {},
   "source": [
    "[Alba's code](https://github.com/qiskit-community/qiskit-community-tutorials/blob/6de54e7033edc4233142caecda257ed72a6735f5/awards/teach_me_qiskit_2018/exact_ising_model_simulation/Ising_time_evolution.ipynb)\n",
    "\n",
    "[Solve the 1D Ising model ](https://stanford.edu/~jeffjar/statmech/lec4.html)  \n",
    "\n",
    "Magnetization density $m = M/N = <\\sigma_z^j>$ is the same for any spin $j$."
   ]
  },
  {
   "cell_type": "code",
   "execution_count": 3,
   "metadata": {},
   "outputs": [],
   "source": [
    "def fSWAP(q0,q1):\n",
    "    circuit = tq.gates.CNOT(q0,q1) + tq.gates.CNOT(q1,q0) + tq.gates.CNOT(q0,q1)\n",
    "    circuit += tq.gates.CZ(q0,q1)\n",
    "    return circuit\n",
    "    \n",
    "    \n",
    "qiskit_fswap = tq.compile(fSWAP(0,1),backend = 'qiskit')"
   ]
  },
  {
   "cell_type": "code",
   "execution_count": 4,
   "metadata": {},
   "outputs": [
    {
     "data": {
      "text/html": [
       "<pre style=\"word-wrap: normal;white-space: pre;background: #fff0;line-height: 1.1;font-family: &quot;Courier New&quot;,Courier,monospace\">          ┌───┐        \n",
       "q_0: ──■──┤ X ├──■───■─\n",
       "     ┌─┴─┐└─┬─┘┌─┴─┐ │ \n",
       "q_1: ┤ X ├──■──┤ X ├─■─\n",
       "     └───┘     └───┘   \n",
       "c: 2/══════════════════\n",
       "                       </pre>"
      ],
      "text/plain": [
       "          ┌───┐        \n",
       "q_0: ──■──┤ X ├──■───■─\n",
       "     ┌─┴─┐└─┬─┘┌─┴─┐ │ \n",
       "q_1: ┤ X ├──■──┤ X ├─■─\n",
       "     └───┘     └───┘   \n",
       "c: 2/══════════════════\n",
       "                       "
      ]
     },
     "execution_count": 4,
     "metadata": {},
     "output_type": "execute_result"
    }
   ],
   "source": [
    "qiskit_fswap.circuit.draw()"
   ]
  },
  {
   "cell_type": "markdown",
   "metadata": {},
   "source": [
    "Why do we have to decompose gates to CX? Is it necessary for the simulation?"
   ]
  },
  {
   "cell_type": "code",
   "execution_count": 5,
   "metadata": {},
   "outputs": [
    {
     "name": "stdout",
     "output_type": "stream",
     "text": [
      "backend         | wfn        | sampling   | noise      | installed \n",
      "--------------------------------------------------------------------\n",
      "qulacs_gpu      | False      | False      | False      | False     \n",
      "qulacs          | True       | True       | True       | True      \n",
      "qibo            | False      | False      | False      | False     \n",
      "qiskit          | True       | True       | True       | True      \n",
      "cirq            | True       | True       | True       | True      \n",
      "pyquil          | False      | False      | False      | False     \n",
      "symbolic        | True       | False      | False      | True      \n"
     ]
    }
   ],
   "source": [
    "tq.show_available_simulators()"
   ]
  },
  {
   "cell_type": "code",
   "execution_count": 6,
   "metadata": {},
   "outputs": [],
   "source": [
    "# CH (Controlled-Haddamard)\n",
    "# control qubit: q1\n",
    "# target qubit: q0\n",
    "def CH2(q0,q1):\n",
    "    circuit = tq.gates.Phase(phi=-pi/2,target=q0) + tq.gates.H(q0) + tq.gates.Phase(phi=-pi/4,target=q0)\n",
    "    circuit += tq.gates.H(q0) + tq.gates.H(q1) + tq.gates.CNOT(q0,q1) + tq.gates.H(q0) +tq.gates.H(q1)\n",
    "    circuit += tq.gates.T(q0) + tq.gates.H(q0) + tq.gates.S(q0)\n",
    "    return circuit\n",
    "qiskit_mix = tq.compile(CH2(0,1),backend = 'qiskit')\n",
    "# Fourier transform gates\n",
    "\n",
    "def F2(q0,q1):\n",
    "    circuit = tq.gates.CNOT(q0,q1) + CH2(q0,q1) + tq.gates.CNOT(q0,q1) +tq.gates.CZ(q0,q1)\n",
    "    return circuit\n",
    "\n",
    "def F0(q0,q1):\n",
    "    return F2(q0,q1)\n",
    "    \n",
    "def F1(q0,q1):\n",
    "    return F2(q0,q1) + tq.gates.Phase(phi=-pi/2,target=q0)\n",
    "\n",
    "                                            \n",
    "    "
   ]
  },
  {
   "cell_type": "code",
   "execution_count": 7,
   "metadata": {},
   "outputs": [
    {
     "data": {
      "text/html": [
       "<pre style=\"word-wrap: normal;white-space: pre;background: #fff0;line-height: 1.1;font-family: &quot;Courier New&quot;,Courier,monospace\">     ┌──────────┐┌───┐┌──────────┐┌───┐     ┌───┐┌─────────┐┌───┐┌─────────┐\n",
       "q_0: ┤ RZ(-π/2) ├┤ H ├┤ RZ(-π/4) ├┤ H ├──■──┤ H ├┤ RZ(π/4) ├┤ H ├┤ RZ(π/2) ├\n",
       "     └──┬───┬───┘└───┘└──────────┘└───┘┌─┴─┐├───┤└─────────┘└───┘└─────────┘\n",
       "q_1: ───┤ H ├──────────────────────────┤ X ├┤ H ├───────────────────────────\n",
       "        └───┘                          └───┘└───┘                           \n",
       "c: 2/═══════════════════════════════════════════════════════════════════════\n",
       "                                                                            </pre>"
      ],
      "text/plain": [
       "     ┌──────────┐┌───┐┌──────────┐┌───┐     ┌───┐┌─────────┐┌───┐┌─────────┐\n",
       "q_0: ┤ RZ(-π/2) ├┤ H ├┤ RZ(-π/4) ├┤ H ├──■──┤ H ├┤ RZ(π/4) ├┤ H ├┤ RZ(π/2) ├\n",
       "     └──┬───┬───┘└───┘└──────────┘└───┘┌─┴─┐├───┤└─────────┘└───┘└─────────┘\n",
       "q_1: ───┤ H ├──────────────────────────┤ X ├┤ H ├───────────────────────────\n",
       "        └───┘                          └───┘└───┘                           \n",
       "c: 2/═══════════════════════════════════════════════════════════════════════\n",
       "                                                                            "
      ]
     },
     "execution_count": 7,
     "metadata": {},
     "output_type": "execute_result"
    }
   ],
   "source": [
    "qiskit_mix.circuit.draw()"
   ]
  },
  {
   "cell_type": "code",
   "execution_count": 8,
   "metadata": {},
   "outputs": [],
   "source": [
    "from math import pi\n",
    "\n",
    "# control qubit: q0\n",
    "# target qubit: q1\n",
    "def CRX(theta, q0, q1):\n",
    "    circuit = tq.gates.Rz(angle=pi/2.0,target=q1) + tq.gates.Ry(angle=theta, target=q1) + tq.gates.CNOT(q0,q1)\n",
    "    circuit += tq.gates.Ry(angle=-pi/2.0,target=q1) + tq.gates.CNOT(q0,q1) + tq.gates.Rz(angle=-pi/2.0,target=q1)\n",
    "    return circuit\n",
    "\n",
    "def B(theta_k,q0,q1):\n",
    "#     circuit = tq.gates.X(q1) + tq.gates.CX(control=q1,target=q0) +CRX(theta_k,q0,q1) + tq.gates.CX(control=q1,target=q0)+tq.gates.X(q1)\n",
    "    circuit = tq.gates.X(q1) + tq.gates.CX(control=q1,target=q0) +tq.gates.CRx(control=q0,target=q1,angle=theta_k) + tq.gates.CX(control=q1,target=q0)+tq.gates.X(q1)\n",
    "\n",
    "    return circuit"
   ]
  },
  {
   "cell_type": "code",
   "execution_count": 9,
   "metadata": {},
   "outputs": [],
   "source": [
    "def Udisg(lam,q0,q1,q2,q3):\n",
    "    k=1\n",
    "    n=4\n",
    "    th1=-np.arccos((lam-np.cos(2*pi*k/n))/np.sqrt((lam-np.cos(2*pi*k/n))**2+np.sin(2*pi*k/n)**2))\n",
    "    circuit = B(th1,q0,q1)+ F1(q0,q1) + F0(q2,q3)\n",
    "    #fSWAP(Udis,q2,q1) # for ibmqx2\n",
    "    #fSWAP(Udis,q1,q2) # for ibmqx4\n",
    "    circuit += F0(q0,q2)\n",
    "    circuit += F0(q1,q3)\n",
    "    #fSWAP(Udis,q2,q1) # for ibmqx2\n",
    "    #fSWAP(Udis,q1,q2) # for ibmqx4\n",
    "    return circuit\n",
    "\n",
    "def Ising(lam,q0,q1,q2,q3):\n",
    "    if lam<1:\n",
    "        return tq.gates.X(q3) + Udisg(lam,q0,q1,q2,q3)\n",
    "    else:\n",
    "        return Udisg(lam,q0,q1,q2,q3)\n",
    "    \n"
   ]
  },
  {
   "cell_type": "code",
   "execution_count": 10,
   "metadata": {
    "scrolled": true
   },
   "outputs": [
    {
     "data": {
      "text/html": [
       "<pre style=\"word-wrap: normal;white-space: pre;background: #fff0;line-height: 1.1;font-family: &quot;Courier New&quot;,Courier,monospace\">             ┌───┐                                                             »\n",
       "q_0: ────────┤ X ├───────────────────────────■───────────────────■─────────────»\n",
       "     ┌───┐   └─┬─┘    ┌───┐┌──────────────┐┌─┴─┐┌─────────────┐┌─┴─┐   ┌───┐   »\n",
       "q_1: ┤ X ├─────■──────┤ H ├┤ RZ(-0.23182) ├┤ X ├┤ RZ(0.23182) ├┤ X ├───┤ H ├───»\n",
       "     └───┘┌──────────┐├───┤└─┬──────────┬─┘├───┤└─────────────┘├───┤┌──┴───┴──┐»\n",
       "q_2: ──■──┤ RZ(-π/2) ├┤ H ├──┤ RZ(-π/4) ├──┤ H ├───────■───────┤ H ├┤ RZ(π/4) ├»\n",
       "     ┌─┴─┐└──┬───┬───┘└───┘  └──────────┘  └───┘     ┌─┴─┐     ├───┤└─────────┘»\n",
       "q_3: ┤ X ├───┤ H ├───────────────────────────────────┤ X ├─────┤ H ├───────────»\n",
       "     └───┘   └───┘                                   └───┘     └───┘           »\n",
       "c: 4/══════════════════════════════════════════════════════════════════════════»\n",
       "                                                                               »\n",
       "«     ┌───┐                ┌──────────┐┌───┐┌──────────┐┌───┐     ┌───┐»\n",
       "«q_0: ┤ X ├─────────────■──┤ RZ(-π/2) ├┤ H ├┤ RZ(-π/4) ├┤ H ├──■──┤ H ├»\n",
       "«     └─┬─┘   ┌───┐   ┌─┴─┐└──┬───┬───┘└───┘└──────────┘└───┘┌─┴─┐├───┤»\n",
       "«q_1: ──■─────┤ X ├───┤ X ├───┤ H ├──────────────────────────┤ X ├┤ H ├»\n",
       "«     ┌───┐┌──┴───┴──┐└───┘   └───┘                          └───┘└───┘»\n",
       "«q_2: ┤ H ├┤ RZ(π/2) ├──■───────■──────────────────────────────────────»\n",
       "«     └───┘└─────────┘┌─┴─┐     │                                      »\n",
       "«q_3: ────────────────┤ X ├─────■──────────────────────────────────────»\n",
       "«                     └───┘                                            »\n",
       "«c: 4/═════════════════════════════════════════════════════════════════»\n",
       "«                                                                      »\n",
       "«     ┌─────────┐┌───┐┌─────────┐        ┌──────────┐     ┌──────────┐┌───┐»\n",
       "«q_0: ┤ RZ(π/4) ├┤ H ├┤ RZ(π/2) ├──■───■─┤ RZ(-π/2) ├──■──┤ RZ(-π/2) ├┤ H ├»\n",
       "«     └─────────┘└───┘└─────────┘┌─┴─┐ │ └──────────┘  │  ├──────────┤├───┤»\n",
       "«q_1: ───────────────────────────┤ X ├─■──────■────────┼──┤ RZ(-π/2) ├┤ H ├»\n",
       "«                                └───┘        │      ┌─┴─┐└──┬───┬───┘└───┘»\n",
       "«q_2: ────────────────────────────────────────┼──────┤ X ├───┤ H ├─────────»\n",
       "«                                           ┌─┴─┐    ├───┤   └───┘         »\n",
       "«q_3: ──────────────────────────────────────┤ X ├────┤ H ├─────────────────»\n",
       "«                                           └───┘    └───┘                 »\n",
       "«c: 4/═════════════════════════════════════════════════════════════════════»\n",
       "«                                                                          »\n",
       "«     ┌──────────┐┌───┐          ┌───┐┌─────────┐┌───┐┌─────────┐             »\n",
       "«q_0: ┤ RZ(-π/4) ├┤ H ├───────■──┤ H ├┤ RZ(π/4) ├┤ H ├┤ RZ(π/2) ├───────■─────»\n",
       "«     ├──────────┤├───┤       │  ├───┤├─────────┤├───┤├─────────┤       │     »\n",
       "«q_1: ┤ RZ(-π/4) ├┤ H ├──■────┼──┤ H ├┤ RZ(π/4) ├┤ H ├┤ RZ(π/2) ├──■────┼───■─»\n",
       "«     └──────────┘└───┘  │  ┌─┴─┐├───┤└─────────┘└───┘└─────────┘  │  ┌─┴─┐ │ »\n",
       "«q_2: ───────────────────┼──┤ X ├┤ H ├─────────────────────────────┼──┤ X ├─┼─»\n",
       "«                      ┌─┴─┐├───┤└───┘                           ┌─┴─┐└───┘ │ »\n",
       "«q_3: ─────────────────┤ X ├┤ H ├────────────────────────────────┤ X ├──────■─»\n",
       "«                      └───┘└───┘                                └───┘        »\n",
       "«c: 4/════════════════════════════════════════════════════════════════════════»\n",
       "«                                                                             »\n",
       "«        \n",
       "«q_0: ─■─\n",
       "«      │ \n",
       "«q_1: ─┼─\n",
       "«      │ \n",
       "«q_2: ─■─\n",
       "«        \n",
       "«q_3: ───\n",
       "«        \n",
       "«c: 4/═══\n",
       "«        </pre>"
      ],
      "text/plain": [
       "             ┌───┐                                                             »\n",
       "q_0: ────────┤ X ├───────────────────────────■───────────────────■─────────────»\n",
       "     ┌───┐   └─┬─┘    ┌───┐┌──────────────┐┌─┴─┐┌─────────────┐┌─┴─┐   ┌───┐   »\n",
       "q_1: ┤ X ├─────■──────┤ H ├┤ RZ(-0.23182) ├┤ X ├┤ RZ(0.23182) ├┤ X ├───┤ H ├───»\n",
       "     └───┘┌──────────┐├───┤└─┬──────────┬─┘├───┤└─────────────┘├───┤┌──┴───┴──┐»\n",
       "q_2: ──■──┤ RZ(-π/2) ├┤ H ├──┤ RZ(-π/4) ├──┤ H ├───────■───────┤ H ├┤ RZ(π/4) ├»\n",
       "     ┌─┴─┐└──┬───┬───┘└───┘  └──────────┘  └───┘     ┌─┴─┐     ├───┤└─────────┘»\n",
       "q_3: ┤ X ├───┤ H ├───────────────────────────────────┤ X ├─────┤ H ├───────────»\n",
       "     └───┘   └───┘                                   └───┘     └───┘           »\n",
       "c: 4/══════════════════════════════════════════════════════════════════════════»\n",
       "                                                                               »\n",
       "«     ┌───┐                ┌──────────┐┌───┐┌──────────┐┌───┐     ┌───┐»\n",
       "«q_0: ┤ X ├─────────────■──┤ RZ(-π/2) ├┤ H ├┤ RZ(-π/4) ├┤ H ├──■──┤ H ├»\n",
       "«     └─┬─┘   ┌───┐   ┌─┴─┐└──┬───┬───┘└───┘└──────────┘└───┘┌─┴─┐├───┤»\n",
       "«q_1: ──■─────┤ X ├───┤ X ├───┤ H ├──────────────────────────┤ X ├┤ H ├»\n",
       "«     ┌───┐┌──┴───┴──┐└───┘   └───┘                          └───┘└───┘»\n",
       "«q_2: ┤ H ├┤ RZ(π/2) ├──■───────■──────────────────────────────────────»\n",
       "«     └───┘└─────────┘┌─┴─┐     │                                      »\n",
       "«q_3: ────────────────┤ X ├─────■──────────────────────────────────────»\n",
       "«                     └───┘                                            »\n",
       "«c: 4/═════════════════════════════════════════════════════════════════»\n",
       "«                                                                      »\n",
       "«     ┌─────────┐┌───┐┌─────────┐        ┌──────────┐     ┌──────────┐┌───┐»\n",
       "«q_0: ┤ RZ(π/4) ├┤ H ├┤ RZ(π/2) ├──■───■─┤ RZ(-π/2) ├──■──┤ RZ(-π/2) ├┤ H ├»\n",
       "«     └─────────┘└───┘└─────────┘┌─┴─┐ │ └──────────┘  │  ├──────────┤├───┤»\n",
       "«q_1: ───────────────────────────┤ X ├─■──────■────────┼──┤ RZ(-π/2) ├┤ H ├»\n",
       "«                                └───┘        │      ┌─┴─┐└──┬───┬───┘└───┘»\n",
       "«q_2: ────────────────────────────────────────┼──────┤ X ├───┤ H ├─────────»\n",
       "«                                           ┌─┴─┐    ├───┤   └───┘         »\n",
       "«q_3: ──────────────────────────────────────┤ X ├────┤ H ├─────────────────»\n",
       "«                                           └───┘    └───┘                 »\n",
       "«c: 4/═════════════════════════════════════════════════════════════════════»\n",
       "«                                                                          »\n",
       "«     ┌──────────┐┌───┐          ┌───┐┌─────────┐┌───┐┌─────────┐             »\n",
       "«q_0: ┤ RZ(-π/4) ├┤ H ├───────■──┤ H ├┤ RZ(π/4) ├┤ H ├┤ RZ(π/2) ├───────■─────»\n",
       "«     ├──────────┤├───┤       │  ├───┤├─────────┤├───┤├─────────┤       │     »\n",
       "«q_1: ┤ RZ(-π/4) ├┤ H ├──■────┼──┤ H ├┤ RZ(π/4) ├┤ H ├┤ RZ(π/2) ├──■────┼───■─»\n",
       "«     └──────────┘└───┘  │  ┌─┴─┐├───┤└─────────┘└───┘└─────────┘  │  ┌─┴─┐ │ »\n",
       "«q_2: ───────────────────┼──┤ X ├┤ H ├─────────────────────────────┼──┤ X ├─┼─»\n",
       "«                      ┌─┴─┐├───┤└───┘                           ┌─┴─┐└───┘ │ »\n",
       "«q_3: ─────────────────┤ X ├┤ H ├────────────────────────────────┤ X ├──────■─»\n",
       "«                      └───┘└───┘                                └───┘        »\n",
       "«c: 4/════════════════════════════════════════════════════════════════════════»\n",
       "«                                                                             »\n",
       "«        \n",
       "«q_0: ─■─\n",
       "«      │ \n",
       "«q_1: ─┼─\n",
       "«      │ \n",
       "«q_2: ─■─\n",
       "«        \n",
       "«q_3: ───\n",
       "«        \n",
       "«c: 4/═══\n",
       "«        "
      ]
     },
     "execution_count": 10,
     "metadata": {},
     "output_type": "execute_result"
    }
   ],
   "source": [
    "qiskit_ising = tq.compile(Ising(2,0,1,2,3),backend = 'qiskit')\n",
    "qiskit_ising.circuit.draw()"
   ]
  },
  {
   "cell_type": "markdown",
   "metadata": {},
   "source": [
    "Use digitsum to calculate expectation"
   ]
  },
  {
   "cell_type": "code",
   "execution_count": 11,
   "metadata": {},
   "outputs": [],
   "source": [
    "def digit_sum(n):\n",
    "    num_str = str(n)\n",
    "    sum = 0\n",
    "    for i in range(0, len(num_str)):\n",
    "        sum += int(num_str[i])\n",
    "    return sum"
   ]
  },
  {
   "cell_type": "code",
   "execution_count": 12,
   "metadata": {},
   "outputs": [],
   "source": [
    "#simulation\n",
    "def sim_run_expecM(lam):\n",
    "    shots = 1024\n",
    "\n",
    "    H = tq.paulis.Z([1])\n",
    "\n",
    "    circuit = Ising(lam,0,1,2,3)\n",
    "\n",
    "    M_exp = tq.ExpectationValue(H = H, U = circuit)\n",
    "    M=tq.simulate(M_exp,backend='qiskit',samples=shots)\n",
    "    return M\n",
    "\n",
    "# Real Device\n",
    "def real_device_run_expecM(real_device,lam):\n",
    "    shots = 1024\n",
    "    H = tq.paulis.Z([1])\n",
    "    circuit = Ising(lam,0,1,2,3)\n",
    "\n",
    "    M_exp = tq.ExpectationValue(H = H, U = circuit)\n",
    "    M=tq.simulate(M_exp,backend='qiskit',device = real_device,samples=shots)\n",
    "    return M\n",
    "\n",
    "# Real Device but only simulate wavefunction\n",
    "def real_device_run_sumM(real_device,lam):\n",
    "    shots = 1024\n",
    "    mag_real_res = []\n",
    "    wfn_real = tq.simulate(Ising(lam,0,1,2,3),backend='qiskit',device = real_device,samples=shots)\n",
    "    r1_real = []\n",
    "    r2_real = []\n",
    "    for key, value in wfn_real.items():\n",
    "        r1_real +=[key.binary]\n",
    "        r2_real +=[value]\n",
    "    M_real = 0\n",
    "    for j in range(len(r1_real)):\n",
    "        M_real = M_real + (4-2*digit_sum(r1_real[j]))*r2_real[j]/shots\n",
    "    \n",
    "    return M_real/4"
   ]
  },
  {
   "cell_type": "code",
   "execution_count": 13,
   "metadata": {},
   "outputs": [],
   "source": [
    "vigo_exp_ouput = [real_device_run_expecM('ibmq_vigo',i*0.2) for i in range(10) ]"
   ]
  },
  {
   "cell_type": "code",
   "execution_count": 17,
   "metadata": {},
   "outputs": [],
   "source": [
    "mag_sim = [sim_run_expecM(i*0.2) for i in range(10)]"
   ]
  },
  {
   "cell_type": "code",
   "execution_count": 18,
   "metadata": {
    "scrolled": true
   },
   "outputs": [
    {
     "data": {
      "image/png": "[encoded data removed]",
      "text/plain": [
       "<Figure size 648x360 with 1 Axes>"
      ]
     },
     "metadata": {
      "needs_background": "light"
     },
     "output_type": "display_data"
    }
   ],
   "source": [
    "import matplotlib.pyplot as plt\n",
    "%matplotlib inline\n",
    "import numpy as np\n",
    "from scipy import linalg as la\n",
    "def exact(lam):\n",
    "    if lam <1:\n",
    "        return lam/(2*np.sqrt(1+lam**2))\n",
    "    if lam >1:\n",
    "        return 1/2+lam/(2*np.sqrt(1+lam**2))\n",
    "    return None\n",
    "vexact = np.vectorize(exact)\n",
    "l=np.arange(0.0,2.0,0.01)\n",
    "l1=np.arange(0.0, 2.0, 0.2)\n",
    "plt.figure(figsize=(9,5))\n",
    "plt.plot(l,vexact(l),'k',label='exact')\n",
    "plt.plot(l1, mag_sim, 'bo',label='simulation')\n",
    "plt.plot(l1, vigo_exp_ouput, 'r*',label='ibmq_vigo')\n",
    "plt.xlabel('$\\lambda$')\n",
    "plt.ylabel('$<\\sigma_{z}>$')\n",
    "plt.legend()\n",
    "plt.title('Magnetization of the ground state of n=4 Ising spin chain')\n",
    "plt.show()\n"
   ]
  },
  {
   "cell_type": "markdown",
   "metadata": {},
   "source": [
    "### Time Evolution of $|\\uparrow>^{\\otimes4}=|0>^{\\otimes 4}$ (in $H_{XY}$ basis)\n",
    "\n",
    "First find the corresponding state in the diagonal basis ($\\tilde{H}$)\n",
    "\n",
    "$$|\\tilde{\\psi}_0>=U_{dis}^{\\dagger}|0000>=\\cos{\\phi}|0000>+i\\sin{\\phi}|1100>$$\n",
    "$$\\phi = \\frac{1}{2}\\arccos{\\frac{-\\lambda+\\cos{\\frac{2\\pi k}{n}} }{\\sqrt{(\\lambda-\\cos{\\frac{2\\pi k}{n} })^2 +\\gamma^2\\sin^2{\\frac{2\\pi k}{n}}}}}$$\n",
    "\n",
    "For Ising model $\\gamma =1,k=1,n=4$,$$\\phi = \\frac{1}{2}\\arccos(\\frac{\\lambda}{\\sqrt{1+\\lambda^2}})$$"
   ]
  },
  {
   "cell_type": "markdown",
   "metadata": {},
   "source": [
    "The time evolution of $|\\tilde{\\psi}(t)> = e^{-itE_i}$\n",
    "\n",
    "$$|\\tilde{\\psi}(t)> =(\\cos\\phi|00>+ie^{4it\\sqrt{1+\\lambda^2}}\\sin\\phi|11>)\\otimes|00>$$\n",
    "\n",
    "We impelement this state using $R_y(2\\phi)=e^{-i\\phi\\sigma_y} = \\cos\\phi-i\\sigma_y\\sin\\phi=\\begin{pmatrix}\n",
    "\\cos\\phi & -\\sin\\phi \\\\\n",
    "\\sin\\phi & \\cos\\phi \n",
    "\\end{pmatrix}$ and also a phase gate for the phase $-ie^{4it\\sqrt{1+\\lambda^2}}$"
   ]
  },
  {
   "cell_type": "code",
   "execution_count": null,
   "metadata": {},
   "outputs": [],
   "source": [
    "import numpy as np\n",
    "def Initial_time(t,lam,q0,q1,q2,q3):\n",
    "    circuit = tq.gates.Ry(np.arccos(lam/np.sqrt(1+lam**2)),q0)+tq.gates.Phase(3*pi/2+4*t*np.sqrt(1+lam**2),q0)\n",
    "    circuit += tq.gates.CNOT(q0,q1)\n",
    "    return circuit\n",
    "\n",
    "def Ising_time(t,lam,q0,q1,q2,q3):\n",
    "#     if lam<1:\n",
    "#         return tq.gates.X(q3) + Initial_time(t,lam,q0,q1,q2,q3) + Udisg(lam,q0,q1,q2,q3)\n",
    "#     else:\n",
    "    return Initial_time(t,lam,q0,q1,q2,q3) + Udisg(lam,q0,q1,q2,q3)"
   ]
  },
  {
   "cell_type": "code",
   "execution_count": null,
   "metadata": {},
   "outputs": [],
   "source": [
    "def real_time_evo_sumM(real_device,lam,time):\n",
    "    shots = 1024\n",
    "    wfn = tq.simulate(Ising_time(time,lam,0,1,2,3),backend='qiskit',device = real_device,samples=shots)\n",
    "    r1 = []\n",
    "    r2 = []\n",
    "    for key, value in wfn.items():\n",
    "        r1 +=[key.binary]\n",
    "        r2 +=[value]\n",
    "        #print(r1)\n",
    "    M=0\n",
    "    for k in range(0,len(r1)):\n",
    "        M=M+(4-2*digit_sum(r1[k]))*r2[k]/shots\n",
    "    return M/4\n",
    "\n",
    "def sim_time_evo_expecM(lam,time):\n",
    "    shots = 1024\n",
    "    H = tq.paulis.Z([1])\n",
    "\n",
    "    circuit = Ising_time(time,lam,0,1,2,3)\n",
    "\n",
    "    M_exp = tq.ExpectationValue(H = H, U = circuit)\n",
    "    M=tq.simulate(M_exp,backend='qiskit',samples=shots)\n",
    "    return M"
   ]
  },
  {
   "cell_type": "code",
   "execution_count": 18,
   "metadata": {},
   "outputs": [],
   "source": [
    "magt_sim = [[sim_time_evo_expecM(lam,i*0.25) for i in range(9)] for lam in [0.5,0.9,1.8]]"
   ]
  },
  {
   "cell_type": "code",
   "execution_count": 20,
   "metadata": {},
   "outputs": [],
   "source": [
    "vigo_time_evo5 = [[real_time_evo_sumM('ibmq_vigo',lam,i*0.25) for i in range(9)] for lam in [0.5,0.9,1.8]]"
   ]
  },
  {
   "cell_type": "code",
   "execution_count": 24,
   "metadata": {},
   "outputs": [
    {
     "data": {
      "image/png": "[encoded data removed]",
      "text/plain": [
       "<Figure size 720x360 with 1 Axes>"
      ]
     },
     "metadata": {
      "needs_background": "light"
     },
     "output_type": "display_data"
    }
   ],
   "source": [
    "\n",
    "def exact_time(lam,tt):\n",
    "    Mt=(1 + 2*lam**2 + np.cos(4*tt*np.sqrt(1 + lam**2)))/(2 + 2*lam**2)\n",
    "    return Mt\n",
    "vexact_t = np.vectorize(exact_time)\n",
    "t=np.arange(0.0,2.0,0.01)\n",
    "tt=np.arange(0.0,2.25,0.25)\n",
    "plt.figure(figsize=(10,5))\n",
    "plt.plot(t,vexact_t(0.5,t),'b',label='$\\lambda=0.5$')\n",
    "plt.plot(t,vexact_t(0.9,t),'r',label='$\\lambda=0.9$')\n",
    "plt.plot(t,vexact_t(1.8,t),'g',label='$\\lambda=1.8$')\n",
    "plt.plot(tt, magt_sim[0], 'bo',label='simulation')\n",
    "plt.plot(tt, magt_sim[1], 'ro')\n",
    "plt.plot(tt, magt_sim[2], 'go')\n",
    "plt.plot(tt, vigo_time_evo5[0], 'b*--',label='ibm_vigo')\n",
    "plt.plot(tt, vigo_time_evo5[1], 'r*--',label='ibm_vigo')\n",
    "plt.plot(tt, vigo_time_evo5[2], 'g*--',label='ibm_vigo')\n",
    "plt.plot(tt, magt_sim[0], 'b--')\n",
    "plt.plot(tt, magt_sim[1], 'r--')\n",
    "plt.plot(tt, magt_sim[2], 'g--')\n",
    "plt.xlabel('time')\n",
    "plt.ylabel('$<\\sigma_{z}>$')\n",
    "plt.legend()\n",
    "plt.title('Time evolution |↑↑↑↑> state')\n",
    "plt.show()"
   ]
  },
  {
   "cell_type": "markdown",
   "metadata": {},
   "source": [
    "test"
   ]
  },
  {
   "cell_type": "markdown",
   "metadata": {},
   "source": [
    "# IBM devices\n",
    "\n",
    "## ibmqx2\n",
    "**device name:**\n",
    "[IBM Q 5 Yorktown](https://quantum-computing.ibm.com/?system=ibmqx2), [old info]()\n",
    "\n",
    "**backend name:**\n",
    "IBM qx2\n",
    "\n",
    "**Alba choose qubits:** $(q_0,q_1,q_2,q_3)=(4,2,0,1)$\n",
    "```\n",
    "    B(Udis,th1,q0,q1)\n",
    "    F1(Udis,q0,q1)\n",
    "    F0(Udis,q2,q3)\n",
    "    #fSWAP(Udis,q2,q1) # for ibmqx2\n",
    "    #fSWAP(Udis,q1,q2) # for ibmqx4\n",
    "    F0(Udis,q0,q2)\n",
    "    F0(Udis,q1,q3)\n",
    "    #fSWAP(Udis,q2,q1) # for ibmqx2\n",
    "    #fSWAP(Udis,q1,q2) # for ibmqx4\n",
    "```\n",
    "\n",
    "**Graph Topology:** <img src = ibmqx2_bus.png style = \"width : 200px\">\n",
    "\n",
    "## ibmqx4\n",
    "**display_name:** [IBM Q 5 Tenerife](https://github.com/Qiskit/ibmq-device-information/tree/master/backends/tenerife/V1)\n",
    "\n",
    "**backend_name:** ibmqx4\n",
    "\n",
    "**Alba choose qubits:** $(q_0,q_1,q_2,q_3)=(3,2,1,0)$\n",
    "\n",
    "**Graph Topology** <img src = ibmqx4_bus.png style = \"width : 200px\">\n",
    "\n",
    "\n",
    "\n",
    "## ibmqx5\n",
    "**device name:**\n",
    "[ IBM Q 16 Rueschlikon](https://github.com/Qiskit/ibmq-device-information/tree/master/backends/rueschlikon/V1) (doesn't exist?)\n",
    "\n",
    "**backend name:** IBM qx5\n",
    "\n",
    "**Alba choose qubits:** $(q_0,q_1,q_2,q_3)=(6,7,11,10)$ no swaps needed\n",
    "\n",
    "**Graph Topology:** <img src = IBMQX5_connections_full.png style = \"width : 1000px\">"
   ]
  },
  {
   "cell_type": "code",
   "execution_count": null,
   "metadata": {},
   "outputs": [],
   "source": []
  }
 ],
 "metadata": {
  "kernelspec": {
   "display_name": "tequila",
   "language": "python",
   "name": "tequila"
  },
  "language_info": {
   "codemirror_mode": {
    "name": "ipython",
    "version": 3
   },
   "file_extension": ".py",
   "mimetype": "text/x-python",
   "name": "python",
   "nbconvert_exporter": "python",
   "pygments_lexer": "ipython3",
   "version": "3.7.7"
  }
 },
 "nbformat": 4,
 "nbformat_minor": 4
}
