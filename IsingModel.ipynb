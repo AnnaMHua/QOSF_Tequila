{
 "cells": [
  {
   "cell_type": "code",
   "execution_count": 1,
   "metadata": {},
   "outputs": [],
   "source": [
    "import tequila as tq\n",
    "import numpy as np\n",
    "from numpy import pi\n",
    "import qiskit"
   ]
  },
  {
   "cell_type": "markdown",
   "metadata": {},
   "source": [
    "[Alba's code](https://github.com/qiskit-community/qiskit-community-tutorials/blob/6de54e7033edc4233142caecda257ed72a6735f5/awards/teach_me_qiskit_2018/exact_ising_model_simulation/Ising_time_evolution.ipynb)"
   ]
  },
  {
   "cell_type": "code",
   "execution_count": 2,
   "metadata": {},
   "outputs": [],
   "source": [
    "def fSWAP(q0,q1):\n",
    "    circuit = tq.gates.CNOT(q0,q1) + tq.gates.CNOT(q1,q0) + tq.gates.CNOT(q0,q1)\n",
    "    circuit += tq.gates.CZ(q0,q1)\n",
    "    return circuit\n",
    "    \n",
    "    \n",
    "qiskit_fswap = tq.compile(fSWAP(0,1),backend = 'qiskit')"
   ]
  },
  {
   "cell_type": "code",
   "execution_count": 3,
   "metadata": {},
   "outputs": [
    {
     "data": {
      "text/html": [
       "<pre style=\"word-wrap: normal;white-space: pre;background: #fff0;line-height: 1.1;font-family: &quot;Courier New&quot;,Courier,monospace\">          ┌───┐        \n",
       "q_0: ──■──┤ X ├──■───■─\n",
       "     ┌─┴─┐└─┬─┘┌─┴─┐ │ \n",
       "q_1: ┤ X ├──■──┤ X ├─■─\n",
       "     └───┘     └───┘   \n",
       "c: 2/══════════════════\n",
       "                       </pre>"
      ],
      "text/plain": [
       "          ┌───┐        \n",
       "q_0: ──■──┤ X ├──■───■─\n",
       "     ┌─┴─┐└─┬─┘┌─┴─┐ │ \n",
       "q_1: ┤ X ├──■──┤ X ├─■─\n",
       "     └───┘     └───┘   \n",
       "c: 2/══════════════════\n",
       "                       "
      ]
     },
     "execution_count": 3,
     "metadata": {},
     "output_type": "execute_result"
    }
   ],
   "source": [
    "qiskit_fswap.circuit.draw()"
   ]
  },
  {
   "cell_type": "markdown",
   "metadata": {},
   "source": [
    "Why do we have to decompose gates to CX? Is it necessary for the simulation?"
   ]
  },
  {
   "cell_type": "code",
   "execution_count": 4,
   "metadata": {},
   "outputs": [
    {
     "name": "stdout",
     "output_type": "stream",
     "text": [
      "backend         | wfn        | sampling   | noise      | installed \n",
      "--------------------------------------------------------------------\n",
      "qulacs_gpu      | False      | False      | False      | False     \n",
      "qulacs          | True       | True       | True       | True      \n",
      "qibo            | False      | False      | False      | False     \n",
      "qiskit          | True       | True       | True       | True      \n",
      "cirq            | True       | True       | True       | True      \n",
      "pyquil          | False      | False      | False      | False     \n",
      "symbolic        | True       | False      | False      | True      \n"
     ]
    }
   ],
   "source": [
    "tq.show_available_simulators()"
   ]
  },
  {
   "cell_type": "code",
   "execution_count": 5,
   "metadata": {},
   "outputs": [],
   "source": [
    "# CH (Controlled-Haddamard)\n",
    "# control qubit: q1\n",
    "# target qubit: q0\n",
    "def CH2(q0,q1):\n",
    "    circuit = tq.gates.Phase(phi=-pi/2,target=q0) + tq.gates.H(q0) + tq.gates.Phase(phi=-pi/4,target=q0)\n",
    "    circuit += tq.gates.H(q0) + tq.gates.H(q1) + tq.gates.CNOT(q0,q1) + tq.gates.H(q0) +tq.gates.H(q1)\n",
    "    circuit += tq.gates.T(q0) + tq.gates.H(q0) + tq.gates.S(q0)\n",
    "    return circuit\n",
    "qiskit_mix = tq.compile(CH2(0,1),backend = 'qiskit')\n",
    "# Fourier transform gates\n",
    "\n",
    "def F2(q0,q1):\n",
    "    circuit = tq.gates.CNOT(q0,q1) + CH2(q0,q1) + tq.gates.CNOT(q0,q1) +tq.gates.CZ(q0,q1)\n",
    "    return circuit\n",
    "\n",
    "def F0(q0,q1):\n",
    "    return F2(q0,q1)\n",
    "    \n",
    "def F1(q0,q1):\n",
    "    return F2(q0,q1) + tq.gates.Phase(phi=-pi/2,target=q0)\n",
    "\n",
    "                                            \n",
    "    "
   ]
  },
  {
   "cell_type": "code",
   "execution_count": 6,
   "metadata": {},
   "outputs": [
    {
     "data": {
      "text/html": [
       "<pre style=\"word-wrap: normal;white-space: pre;background: #fff0;line-height: 1.1;font-family: &quot;Courier New&quot;,Courier,monospace\">     ┌──────────┐┌───┐┌──────────┐┌───┐     ┌───┐┌─────────┐┌───┐┌─────────┐\n",
       "q_0: ┤ RZ(-π/2) ├┤ H ├┤ RZ(-π/4) ├┤ H ├──■──┤ H ├┤ RZ(π/4) ├┤ H ├┤ RZ(π/2) ├\n",
       "     └──┬───┬───┘└───┘└──────────┘└───┘┌─┴─┐├───┤└─────────┘└───┘└─────────┘\n",
       "q_1: ───┤ H ├──────────────────────────┤ X ├┤ H ├───────────────────────────\n",
       "        └───┘                          └───┘└───┘                           \n",
       "c: 2/═══════════════════════════════════════════════════════════════════════\n",
       "                                                                            </pre>"
      ],
      "text/plain": [
       "     ┌──────────┐┌───┐┌──────────┐┌───┐     ┌───┐┌─────────┐┌───┐┌─────────┐\n",
       "q_0: ┤ RZ(-π/2) ├┤ H ├┤ RZ(-π/4) ├┤ H ├──■──┤ H ├┤ RZ(π/4) ├┤ H ├┤ RZ(π/2) ├\n",
       "     └──┬───┬───┘└───┘└──────────┘└───┘┌─┴─┐├───┤└─────────┘└───┘└─────────┘\n",
       "q_1: ───┤ H ├──────────────────────────┤ X ├┤ H ├───────────────────────────\n",
       "        └───┘                          └───┘└───┘                           \n",
       "c: 2/═══════════════════════════════════════════════════════════════════════\n",
       "                                                                            "
      ]
     },
     "execution_count": 6,
     "metadata": {},
     "output_type": "execute_result"
    }
   ],
   "source": [
    "qiskit_mix.circuit.draw()"
   ]
  },
  {
   "cell_type": "code",
   "execution_count": 7,
   "metadata": {},
   "outputs": [],
   "source": [
    "from math import pi\n",
    "\n",
    "# control qubit: q0\n",
    "# target qubit: q1\n",
    "def CRX(theta, q0, q1):\n",
    "    circuit = tq.gates.Rz(angle=pi/2.0,target=q1) + tq.gates.Ry(angle=theta, target=q1) + tq.gates.CNOT(q0,q1)\n",
    "    circuit += tq.gates.Ry(angle=-pi/2.0,target=q1) + tq.gates.CNOT(q0,q1) + tq.gates.Rz(angle=-pi/2.0,target=q1)\n",
    "    return circuit\n",
    "\n",
    "def B(theta_k,q0,q1):\n",
    "#     circuit = tq.gates.X(q1) + tq.gates.CX(control=q1,target=q0) +CRX(theta_k,q0,q1) + tq.gates.CX(control=q1,target=q0)+tq.gates.X(q1)\n",
    "    circuit = tq.gates.X(q1) + tq.gates.CX(control=q1,target=q0) +tq.gates.CRx(control=q0,target=q1,angle=theta_k) + tq.gates.CX(control=q1,target=q0)+tq.gates.X(q1)\n",
    "\n",
    "    return circuit"
   ]
  },
  {
   "cell_type": "code",
   "execution_count": 8,
   "metadata": {},
   "outputs": [],
   "source": [
    "def Udisg(lam,q0,q1,q2,q3):\n",
    "    k=1\n",
    "    n=4\n",
    "    th1=-np.arccos((lam-np.cos(2*pi*k/n))/np.sqrt((lam-np.cos(2*pi*k/n))**2+np.sin(2*pi*k/n)**2))\n",
    "    circuit = B(th1,q0,q1)+ F1(q0,q1) + F0(q2,q3)\n",
    "    #fSWAP(Udis,q2,q1) # for ibmqx2\n",
    "    #fSWAP(Udis,q1,q2) # for ibmqx4\n",
    "    circuit += F0(q0,q2)\n",
    "    circuit += F0(q1,q3)\n",
    "    #fSWAP(Udis,q2,q1) # for ibmqx2\n",
    "    #fSWAP(Udis,q1,q2) # for ibmqx4\n",
    "    return circuit\n",
    "\n",
    "def Ising(lam,q0,q1,q2,q3):\n",
    "    if lam<1:\n",
    "        return tq.gates.X(q3) + Udisg(lam,q0,q1,q2,q3)\n",
    "    else:\n",
    "        return Udisg(lam,q0,q1,q2,q3)\n",
    "    \n"
   ]
  },
  {
   "cell_type": "code",
   "execution_count": 9,
   "metadata": {},
   "outputs": [
    {
     "data": {
      "text/html": [
       "<pre style=\"word-wrap: normal;white-space: pre;background: #fff0;line-height: 1.1;font-family: &quot;Courier New&quot;,Courier,monospace\">             ┌───┐                                                             »\n",
       "q_0: ────────┤ X ├───────────────────────────■───────────────────■─────────────»\n",
       "     ┌───┐   └─┬─┘    ┌───┐┌──────────────┐┌─┴─┐┌─────────────┐┌─┴─┐   ┌───┐   »\n",
       "q_1: ┤ X ├─────■──────┤ H ├┤ RZ(-0.23182) ├┤ X ├┤ RZ(0.23182) ├┤ X ├───┤ H ├───»\n",
       "     └───┘┌──────────┐├───┤└─┬──────────┬─┘├───┤└─────────────┘├───┤┌──┴───┴──┐»\n",
       "q_2: ──■──┤ RZ(-π/2) ├┤ H ├──┤ RZ(-π/4) ├──┤ H ├───────■───────┤ H ├┤ RZ(π/4) ├»\n",
       "     ┌─┴─┐└──┬───┬───┘└───┘  └──────────┘  └───┘     ┌─┴─┐     ├───┤└─────────┘»\n",
       "q_3: ┤ X ├───┤ H ├───────────────────────────────────┤ X ├─────┤ H ├───────────»\n",
       "     └───┘   └───┘                                   └───┘     └───┘           »\n",
       "c: 4/══════════════════════════════════════════════════════════════════════════»\n",
       "                                                                               »\n",
       "«     ┌───┐                ┌──────────┐┌───┐┌──────────┐┌───┐     ┌───┐»\n",
       "«q_0: ┤ X ├─────────────■──┤ RZ(-π/2) ├┤ H ├┤ RZ(-π/4) ├┤ H ├──■──┤ H ├»\n",
       "«     └─┬─┘   ┌───┐   ┌─┴─┐└──┬───┬───┘└───┘└──────────┘└───┘┌─┴─┐├───┤»\n",
       "«q_1: ──■─────┤ X ├───┤ X ├───┤ H ├──────────────────────────┤ X ├┤ H ├»\n",
       "«     ┌───┐┌──┴───┴──┐└───┘   └───┘                          └───┘└───┘»\n",
       "«q_2: ┤ H ├┤ RZ(π/2) ├──■───────■──────────────────────────────────────»\n",
       "«     └───┘└─────────┘┌─┴─┐     │                                      »\n",
       "«q_3: ────────────────┤ X ├─────■──────────────────────────────────────»\n",
       "«                     └───┘                                            »\n",
       "«c: 4/═════════════════════════════════════════════════════════════════»\n",
       "«                                                                      »\n",
       "«     ┌─────────┐┌───┐┌─────────┐        ┌──────────┐     ┌──────────┐┌───┐»\n",
       "«q_0: ┤ RZ(π/4) ├┤ H ├┤ RZ(π/2) ├──■───■─┤ RZ(-π/2) ├──■──┤ RZ(-π/2) ├┤ H ├»\n",
       "«     └─────────┘└───┘└─────────┘┌─┴─┐ │ └──────────┘  │  ├──────────┤├───┤»\n",
       "«q_1: ───────────────────────────┤ X ├─■──────■────────┼──┤ RZ(-π/2) ├┤ H ├»\n",
       "«                                └───┘        │      ┌─┴─┐└──┬───┬───┘└───┘»\n",
       "«q_2: ────────────────────────────────────────┼──────┤ X ├───┤ H ├─────────»\n",
       "«                                           ┌─┴─┐    ├───┤   └───┘         »\n",
       "«q_3: ──────────────────────────────────────┤ X ├────┤ H ├─────────────────»\n",
       "«                                           └───┘    └───┘                 »\n",
       "«c: 4/═════════════════════════════════════════════════════════════════════»\n",
       "«                                                                          »\n",
       "«     ┌──────────┐┌───┐          ┌───┐┌─────────┐┌───┐┌─────────┐             »\n",
       "«q_0: ┤ RZ(-π/4) ├┤ H ├───────■──┤ H ├┤ RZ(π/4) ├┤ H ├┤ RZ(π/2) ├───────■─────»\n",
       "«     ├──────────┤├───┤       │  ├───┤├─────────┤├───┤├─────────┤       │     »\n",
       "«q_1: ┤ RZ(-π/4) ├┤ H ├──■────┼──┤ H ├┤ RZ(π/4) ├┤ H ├┤ RZ(π/2) ├──■────┼───■─»\n",
       "«     └──────────┘└───┘  │  ┌─┴─┐├───┤└─────────┘└───┘└─────────┘  │  ┌─┴─┐ │ »\n",
       "«q_2: ───────────────────┼──┤ X ├┤ H ├─────────────────────────────┼──┤ X ├─┼─»\n",
       "«                      ┌─┴─┐├───┤└───┘                           ┌─┴─┐└───┘ │ »\n",
       "«q_3: ─────────────────┤ X ├┤ H ├────────────────────────────────┤ X ├──────■─»\n",
       "«                      └───┘└───┘                                └───┘        »\n",
       "«c: 4/════════════════════════════════════════════════════════════════════════»\n",
       "«                                                                             »\n",
       "«        \n",
       "«q_0: ─■─\n",
       "«      │ \n",
       "«q_1: ─┼─\n",
       "«      │ \n",
       "«q_2: ─■─\n",
       "«        \n",
       "«q_3: ───\n",
       "«        \n",
       "«c: 4/═══\n",
       "«        </pre>"
      ],
      "text/plain": [
       "             ┌───┐                                                             »\n",
       "q_0: ────────┤ X ├───────────────────────────■───────────────────■─────────────»\n",
       "     ┌───┐   └─┬─┘    ┌───┐┌──────────────┐┌─┴─┐┌─────────────┐┌─┴─┐   ┌───┐   »\n",
       "q_1: ┤ X ├─────■──────┤ H ├┤ RZ(-0.23182) ├┤ X ├┤ RZ(0.23182) ├┤ X ├───┤ H ├───»\n",
       "     └───┘┌──────────┐├───┤└─┬──────────┬─┘├───┤└─────────────┘├───┤┌──┴───┴──┐»\n",
       "q_2: ──■──┤ RZ(-π/2) ├┤ H ├──┤ RZ(-π/4) ├──┤ H ├───────■───────┤ H ├┤ RZ(π/4) ├»\n",
       "     ┌─┴─┐└──┬───┬───┘└───┘  └──────────┘  └───┘     ┌─┴─┐     ├───┤└─────────┘»\n",
       "q_3: ┤ X ├───┤ H ├───────────────────────────────────┤ X ├─────┤ H ├───────────»\n",
       "     └───┘   └───┘                                   └───┘     └───┘           »\n",
       "c: 4/══════════════════════════════════════════════════════════════════════════»\n",
       "                                                                               »\n",
       "«     ┌───┐                ┌──────────┐┌───┐┌──────────┐┌───┐     ┌───┐»\n",
       "«q_0: ┤ X ├─────────────■──┤ RZ(-π/2) ├┤ H ├┤ RZ(-π/4) ├┤ H ├──■──┤ H ├»\n",
       "«     └─┬─┘   ┌───┐   ┌─┴─┐└──┬───┬───┘└───┘└──────────┘└───┘┌─┴─┐├───┤»\n",
       "«q_1: ──■─────┤ X ├───┤ X ├───┤ H ├──────────────────────────┤ X ├┤ H ├»\n",
       "«     ┌───┐┌──┴───┴──┐└───┘   └───┘                          └───┘└───┘»\n",
       "«q_2: ┤ H ├┤ RZ(π/2) ├──■───────■──────────────────────────────────────»\n",
       "«     └───┘└─────────┘┌─┴─┐     │                                      »\n",
       "«q_3: ────────────────┤ X ├─────■──────────────────────────────────────»\n",
       "«                     └───┘                                            »\n",
       "«c: 4/═════════════════════════════════════════════════════════════════»\n",
       "«                                                                      »\n",
       "«     ┌─────────┐┌───┐┌─────────┐        ┌──────────┐     ┌──────────┐┌───┐»\n",
       "«q_0: ┤ RZ(π/4) ├┤ H ├┤ RZ(π/2) ├──■───■─┤ RZ(-π/2) ├──■──┤ RZ(-π/2) ├┤ H ├»\n",
       "«     └─────────┘└───┘└─────────┘┌─┴─┐ │ └──────────┘  │  ├──────────┤├───┤»\n",
       "«q_1: ───────────────────────────┤ X ├─■──────■────────┼──┤ RZ(-π/2) ├┤ H ├»\n",
       "«                                └───┘        │      ┌─┴─┐└──┬───┬───┘└───┘»\n",
       "«q_2: ────────────────────────────────────────┼──────┤ X ├───┤ H ├─────────»\n",
       "«                                           ┌─┴─┐    ├───┤   └───┘         »\n",
       "«q_3: ──────────────────────────────────────┤ X ├────┤ H ├─────────────────»\n",
       "«                                           └───┘    └───┘                 »\n",
       "«c: 4/═════════════════════════════════════════════════════════════════════»\n",
       "«                                                                          »\n",
       "«     ┌──────────┐┌───┐          ┌───┐┌─────────┐┌───┐┌─────────┐             »\n",
       "«q_0: ┤ RZ(-π/4) ├┤ H ├───────■──┤ H ├┤ RZ(π/4) ├┤ H ├┤ RZ(π/2) ├───────■─────»\n",
       "«     ├──────────┤├───┤       │  ├───┤├─────────┤├───┤├─────────┤       │     »\n",
       "«q_1: ┤ RZ(-π/4) ├┤ H ├──■────┼──┤ H ├┤ RZ(π/4) ├┤ H ├┤ RZ(π/2) ├──■────┼───■─»\n",
       "«     └──────────┘└───┘  │  ┌─┴─┐├───┤└─────────┘└───┘└─────────┘  │  ┌─┴─┐ │ »\n",
       "«q_2: ───────────────────┼──┤ X ├┤ H ├─────────────────────────────┼──┤ X ├─┼─»\n",
       "«                      ┌─┴─┐├───┤└───┘                           ┌─┴─┐└───┘ │ »\n",
       "«q_3: ─────────────────┤ X ├┤ H ├────────────────────────────────┤ X ├──────■─»\n",
       "«                      └───┘└───┘                                └───┘        »\n",
       "«c: 4/════════════════════════════════════════════════════════════════════════»\n",
       "«                                                                             »\n",
       "«        \n",
       "«q_0: ─■─\n",
       "«      │ \n",
       "«q_1: ─┼─\n",
       "«      │ \n",
       "«q_2: ─■─\n",
       "«        \n",
       "«q_3: ───\n",
       "«        \n",
       "«c: 4/═══\n",
       "«        "
      ]
     },
     "execution_count": 9,
     "metadata": {},
     "output_type": "execute_result"
    }
   ],
   "source": [
    "qiskit_ising = tq.compile(Ising(2,0,1,2,3),backend = 'qiskit')\n",
    "qiskit_ising.circuit.draw()"
   ]
  },
  {
   "cell_type": "code",
   "execution_count": 10,
   "metadata": {},
   "outputs": [],
   "source": [
    "def digit_sum(n):\n",
    "    num_str = str(n)\n",
    "    sum = 0\n",
    "    for i in range(0, len(num_str)):\n",
    "        sum += int(num_str[i])\n",
    "    return sum"
   ]
  },
  {
   "cell_type": "code",
   "execution_count": 11,
   "metadata": {},
   "outputs": [],
   "source": [
    "shots = 1024\n",
    "mag_sim = []\n",
    "for i in range(10):\n",
    "    lam = 0.2*i\n",
    "    wfn = tq.simulate(Ising(lam,0,1,2,3),backend='qiskit',samples=shots)\n",
    "    r1 = []\n",
    "    r2 = []\n",
    "    for key, value in wfn.items():\n",
    "        r1 +=[key.binary]\n",
    "        r2 +=[value]\n",
    "    M = 0\n",
    "    for j in range(len(r1)):\n",
    "        M = M + (4-2*digit_sum(r1[j]))*r2[j]/shots\n",
    "    mag_sim.append(M/4)"
   ]
  },
  {
   "cell_type": "code",
   "execution_count": 12,
   "metadata": {},
   "outputs": [
    {
     "data": {
      "image/png": "[encoded data removed]",
      "text/plain": [
       "<Figure size 648x360 with 1 Axes>"
      ]
     },
     "metadata": {
      "needs_background": "light"
     },
     "output_type": "display_data"
    }
   ],
   "source": [
    "\n",
    "import matplotlib.pyplot as plt\n",
    "%matplotlib inline\n",
    "import numpy as np\n",
    "from scipy import linalg as la\n",
    "def exact(lam):\n",
    "    if lam <1:\n",
    "        return lam/(2*np.sqrt(1+lam**2))\n",
    "    if lam >1:\n",
    "        return 1/2+lam/(2*np.sqrt(1+lam**2))\n",
    "    return None\n",
    "vexact = np.vectorize(exact)\n",
    "l=np.arange(0.0,2.0,0.01)\n",
    "l1=np.arange(0.0,2.0,0.2)\n",
    "plt.figure(figsize=(9,5))\n",
    "plt.plot(l,vexact(l),'k',label='exact')\n",
    "plt.plot(l1, mag_sim, 'bo',label='simulation')\n",
    "# plt.plot(l1, mag, 'r*',label='ibmqx5')\n",
    "plt.xlabel('$\\lambda$')\n",
    "plt.ylabel('$<\\sigma_{z}>$')\n",
    "plt.legend()\n",
    "plt.title('Magnetization of the ground state of n=4 Ising spin chain')\n",
    "plt.show()\n"
   ]
  },
  {
   "cell_type": "markdown",
   "metadata": {},
   "source": [
    "Time Evolution of $|\\uparrow>^{\\otimes4}$"
   ]
  },
  {
   "cell_type": "code",
   "execution_count": 33,
   "metadata": {},
   "outputs": [],
   "source": [
    "import numpy as np\n",
    "def Initial_time(t,lam,q0,q1,q2,q3):\n",
    "    circuit = tq.gates.Ry(np.arccos(lam/np.sqrt(1+lam**2)),q0)+tq.gates.Phase(pi/2.+4*t*np.sqrt(1+lam**2),q0)\n",
    "    circuit += tq.gates.CNOT(q0,q1)\n",
    "    return circuit\n",
    "\n",
    "def Ising_time(t,lam,q0,q1,q2,q3):\n",
    "    if lam<1:\n",
    "        return tq.gates.X(q3) + Initial_time(t,lam,q0,q1,q2,q3) + Udisg(lam,q0,q1,q2,q3)\n",
    "    else:\n",
    "        return Initial_time(t,lam,q0,q1,q2,q3) + Udisg(lam,q0,q1,q2,q3)"
   ]
  },
  {
   "cell_type": "code",
   "execution_count": 34,
   "metadata": {},
   "outputs": [],
   "source": [
    "shots = 1024\n",
    "nlam=3\n",
    "magt_sim=[[] for _ in range(nlam)]\n",
    "lam0=[0.5,0.9,1.8]\n",
    "for j in range(nlam):\n",
    "    lam=lam0[j]\n",
    "    for i in range(9):\n",
    "        t=i*0.25\n",
    "        wfn = tq.simulate(Ising_time(t,lam,0,1,2,3),backend='qiskit',samples=shots)\n",
    "        r1 = []\n",
    "        r2 = []\n",
    "        for key, value in wfn.items():\n",
    "            r1 +=[key.binary]\n",
    "            r2 +=[value]\n",
    "        #print(r1)\n",
    "        M=0\n",
    "        for k in range(0,len(r1)):\n",
    "            M=M+(4-2*digit_sum(r1[k]))*r2[k]/shots\n",
    "        magt_sim[j].append(M/4)"
   ]
  },
  {
   "cell_type": "code",
   "execution_count": 35,
   "metadata": {},
   "outputs": [
    {
     "data": {
      "image/png": "[encoded data removed]",
      "text/plain": [
       "<Figure size 720x360 with 1 Axes>"
      ]
     },
     "metadata": {
      "needs_background": "light"
     },
     "output_type": "display_data"
    }
   ],
   "source": [
    "\n",
    "def exact_time(lam,tt):\n",
    "    Mt=(1 + 2*lam**2 + np.cos(4*tt*np.sqrt(1 + lam**2)))/(2 + 2*lam**2)\n",
    "    return Mt\n",
    "vexact_t = np.vectorize(exact_time)\n",
    "t=np.arange(0.0,2.0,0.01)\n",
    "tt=np.arange(0.0,2.25,0.25)\n",
    "plt.figure(figsize=(10,5))\n",
    "plt.plot(t,vexact_t(0.5,t),'b',label='$\\lambda=0.5$')\n",
    "plt.plot(t,vexact_t(0.9,t),'r',label='$\\lambda=0.9$')\n",
    "plt.plot(t,vexact_t(1.8,t),'g',label='$\\lambda=1.8$')\n",
    "#plt.plot(tt, magt_sim[0], 'bo',label='simulation')\n",
    "#plt.plot(tt, magt_sim[1], 'ro')\n",
    "#plt.plot(tt, magt_sim[2], 'go')\n",
    "plt.plot(tt, magt_sim[0], 'b*',label='ibmqx5')\n",
    "plt.plot(tt, magt_sim[1], 'r*')\n",
    "plt.plot(tt, magt_sim[2], 'g*')\n",
    "plt.plot(tt, magt_sim[0], 'b--')\n",
    "plt.plot(tt, magt_sim[1], 'r--')\n",
    "plt.plot(tt, magt_sim[2], 'g--')\n",
    "plt.xlabel('time')\n",
    "plt.ylabel('$<\\sigma_{z}>$')\n",
    "plt.legend()\n",
    "plt.title('Time evolution |↑↑↑↑> state')\n",
    "plt.show()"
   ]
  },
  {
   "cell_type": "code",
   "execution_count": null,
   "metadata": {},
   "outputs": [],
   "source": []
  }
 ],
 "metadata": {
  "kernelspec": {
   "display_name": "tequila",
   "language": "python",
   "name": "tequila"
  },
  "language_info": {
   "codemirror_mode": {
    "name": "ipython",
    "version": 3
   },
   "file_extension": ".py",
   "mimetype": "text/x-python",
   "name": "python",
   "nbconvert_exporter": "python",
   "pygments_lexer": "ipython3",
   "version": "3.7.7"
  }
 },
 "nbformat": 4,
 "nbformat_minor": 4
}
