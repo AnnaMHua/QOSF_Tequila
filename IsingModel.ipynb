{
 "cells": [
  {
   "cell_type": "markdown",
   "metadata": {},
   "source": [
    "### Quantum circuit for XY model.\n",
    "\n",
    "We want create a quantum circuit $U_{dis}$ such that $$H_{XY} =U_{dis}\\tilde{H}U_{dis}^\\dagger $$.\n",
    "\n",
    "Using this circuit, we can \n",
    "* start from a eigenstate(product state) of the non-interaction Hamiltonian $\\tilde{H}$ to create the excited eigenstates of $H_{XY}$\n",
    "* simulate time evolution of a state\n",
    "* simulate thermal state $exp(-\\beta H_{XY})$"
   ]
  },
  {
   "cell_type": "code",
   "execution_count": 24,
   "metadata": {},
   "outputs": [],
   "source": [
    "import tequila as tq\n",
    "import numpy as np\n",
    "from numpy import pi\n",
    "import qiskit"
   ]
  },
  {
   "cell_type": "code",
   "execution_count": 7,
   "metadata": {},
   "outputs": [
    {
     "name": "stdout",
     "output_type": "stream",
     "text": [
      "[<IBMQSimulator('ibmq_qasm_simulator') from IBMQ(hub='ibm-q', group='open', project='main')>, <IBMQBackend('ibmqx2') from IBMQ(hub='ibm-q', group='open', project='main')>, <IBMQBackend('ibmq_16_melbourne') from IBMQ(hub='ibm-q', group='open', project='main')>, <IBMQBackend('ibmq_vigo') from IBMQ(hub='ibm-q', group='open', project='main')>, <IBMQBackend('ibmq_ourense') from IBMQ(hub='ibm-q', group='open', project='main')>, <IBMQBackend('ibmq_valencia') from IBMQ(hub='ibm-q', group='open', project='main')>, <IBMQBackend('ibmq_armonk') from IBMQ(hub='ibm-q', group='open', project='main')>, <IBMQBackend('ibmq_athens') from IBMQ(hub='ibm-q', group='open', project='main')>, <IBMQBackend('ibmq_santiago') from IBMQ(hub='ibm-q', group='open', project='main')>]\n"
     ]
    }
   ],
   "source": [
    "from qiskit import IBMQ\n",
    "MY_IBMQ_TOKEN = '55dee9b655b84737468de95877d2c72ecf8d7fc6b40cf6edb2b96668fbe80b40381e0f216fd0ab70a256ac97ad4030cef9ab39f3aae616720069fa2c5b9a111c'\n",
    "IBMQ.save_account(MY_IBMQ_TOKEN, overwrite=True) # needs to be done once, and is then saved in our environment\n",
    "IBMQ.load_account()\n",
    "# see the list of backends that you can use:\n",
    "provider = IBMQ.get_provider(hub='ibm-q', group='open', project='main')\n",
    "print(provider.backends())"
   ]
  },
  {
   "cell_type": "markdown",
   "metadata": {},
   "source": [
    "[Alba's code](https://github.com/qiskit-community/qiskit-community-tutorials/blob/6de54e7033edc4233142caecda257ed72a6735f5/awards/teach_me_qiskit_2018/exact_ising_model_simulation/Ising_time_evolution.ipynb)\n",
    "\n",
    "[Solve the 1D Ising model ](https://stanford.edu/~jeffjar/statmech/lec4.html)  \n",
    "\n",
    "Magnetization density $m = M/N = <\\sigma_z^j>$ is the same for any spin $j$."
   ]
  },
  {
   "cell_type": "code",
   "execution_count": 8,
   "metadata": {},
   "outputs": [],
   "source": [
    "def fSWAP(q0,q1):\n",
    "    circuit = tq.gates.CNOT(q0,q1) + tq.gates.CNOT(q1,q0) + tq.gates.CNOT(q0,q1)\n",
    "    circuit += tq.gates.CZ(q0,q1)\n",
    "    return circuit\n",
    "    \n",
    "    \n",
    "qiskit_fswap = tq.compile(fSWAP(0,1),backend = 'qiskit')"
   ]
  },
  {
   "cell_type": "code",
   "execution_count": 9,
   "metadata": {},
   "outputs": [
    {
     "data": {
      "text/html": [
       "<pre style=\"word-wrap: normal;white-space: pre;background: #fff0;line-height: 1.1;font-family: &quot;Courier New&quot;,Courier,monospace\">          ┌───┐        \n",
       "q_0: ──■──┤ X ├──■───■─\n",
       "     ┌─┴─┐└─┬─┘┌─┴─┐ │ \n",
       "q_1: ┤ X ├──■──┤ X ├─■─\n",
       "     └───┘     └───┘   \n",
       "c: 2/══════════════════\n",
       "                       </pre>"
      ],
      "text/plain": [
       "          ┌───┐        \n",
       "q_0: ──■──┤ X ├──■───■─\n",
       "     ┌─┴─┐└─┬─┘┌─┴─┐ │ \n",
       "q_1: ┤ X ├──■──┤ X ├─■─\n",
       "     └───┘     └───┘   \n",
       "c: 2/══════════════════\n",
       "                       "
      ]
     },
     "execution_count": 9,
     "metadata": {},
     "output_type": "execute_result"
    }
   ],
   "source": [
    "qiskit_fswap.circuit.draw()"
   ]
  },
  {
   "cell_type": "markdown",
   "metadata": {},
   "source": [
    "Why do we have to decompose gates to CX? Is it necessary for the simulation?"
   ]
  },
  {
   "cell_type": "code",
   "execution_count": 10,
   "metadata": {},
   "outputs": [
    {
     "name": "stdout",
     "output_type": "stream",
     "text": [
      "backend         | wfn        | sampling   | noise      | installed \n",
      "--------------------------------------------------------------------\n",
      "qulacs_gpu      | False      | False      | False      | False     \n",
      "qulacs          | True       | True       | True       | True      \n",
      "qibo            | False      | False      | False      | False     \n",
      "qiskit          | True       | True       | True       | True      \n",
      "cirq            | True       | True       | True       | True      \n",
      "pyquil          | False      | False      | False      | False     \n",
      "symbolic        | True       | False      | False      | True      \n"
     ]
    }
   ],
   "source": [
    "tq.show_available_simulators()"
   ]
  },
  {
   "cell_type": "code",
   "execution_count": 11,
   "metadata": {},
   "outputs": [],
   "source": [
    "# CH (Controlled-Haddamard)\n",
    "# control qubit: q1\n",
    "# target qubit: q0\n",
    "def CH2(q0,q1):\n",
    "    circuit = tq.gates.Phase(phi=-pi/2,target=q0) + tq.gates.H(q0) + tq.gates.Phase(phi=-pi/4,target=q0)\n",
    "    circuit += tq.gates.H(q0) + tq.gates.H(q1) + tq.gates.CNOT(q0,q1) + tq.gates.H(q0) +tq.gates.H(q1)\n",
    "    circuit += tq.gates.T(q0) + tq.gates.H(q0) + tq.gates.S(q0)\n",
    "    return circuit\n",
    "qiskit_mix = tq.compile(CH2(0,1),backend = 'qiskit')\n",
    "# Fourier transform gates\n",
    "\n",
    "def F2(q0,q1):\n",
    "    circuit = tq.gates.CNOT(q0,q1) + CH2(q0,q1) + tq.gates.CNOT(q0,q1) +tq.gates.CZ(q0,q1)\n",
    "    return circuit\n",
    "\n",
    "def F0(q0,q1):\n",
    "    return F2(q0,q1)\n",
    "    \n",
    "def F1(q0,q1):\n",
    "    return F2(q0,q1) + tq.gates.Phase(phi=-pi/2,target=q0)\n",
    "\n",
    "                                            \n",
    "    "
   ]
  },
  {
   "cell_type": "code",
   "execution_count": 12,
   "metadata": {},
   "outputs": [
    {
     "data": {
      "text/html": [
       "<pre style=\"word-wrap: normal;white-space: pre;background: #fff0;line-height: 1.1;font-family: &quot;Courier New&quot;,Courier,monospace\">     ┌──────────┐┌───┐┌──────────┐┌───┐     ┌───┐┌─────────┐┌───┐┌─────────┐\n",
       "q_0: ┤ RZ(-π/2) ├┤ H ├┤ RZ(-π/4) ├┤ H ├──■──┤ H ├┤ RZ(π/4) ├┤ H ├┤ RZ(π/2) ├\n",
       "     └──┬───┬───┘└───┘└──────────┘└───┘┌─┴─┐├───┤└─────────┘└───┘└─────────┘\n",
       "q_1: ───┤ H ├──────────────────────────┤ X ├┤ H ├───────────────────────────\n",
       "        └───┘                          └───┘└───┘                           \n",
       "c: 2/═══════════════════════════════════════════════════════════════════════\n",
       "                                                                            </pre>"
      ],
      "text/plain": [
       "     ┌──────────┐┌───┐┌──────────┐┌───┐     ┌───┐┌─────────┐┌───┐┌─────────┐\n",
       "q_0: ┤ RZ(-π/2) ├┤ H ├┤ RZ(-π/4) ├┤ H ├──■──┤ H ├┤ RZ(π/4) ├┤ H ├┤ RZ(π/2) ├\n",
       "     └──┬───┬───┘└───┘└──────────┘└───┘┌─┴─┐├───┤└─────────┘└───┘└─────────┘\n",
       "q_1: ───┤ H ├──────────────────────────┤ X ├┤ H ├───────────────────────────\n",
       "        └───┘                          └───┘└───┘                           \n",
       "c: 2/═══════════════════════════════════════════════════════════════════════\n",
       "                                                                            "
      ]
     },
     "execution_count": 12,
     "metadata": {},
     "output_type": "execute_result"
    }
   ],
   "source": [
    "qiskit_mix.circuit.draw()"
   ]
  },
  {
   "cell_type": "code",
   "execution_count": 13,
   "metadata": {},
   "outputs": [],
   "source": [
    "from math import pi\n",
    "\n",
    "# control qubit: q0\n",
    "# target qubit: q1\n",
    "def CRX(theta, q0, q1):\n",
    "    circuit = tq.gates.Rz(angle=pi/2.0,target=q1) + tq.gates.Ry(angle=theta, target=q1) + tq.gates.CNOT(q0,q1)\n",
    "    circuit += tq.gates.Ry(angle=-pi/2.0,target=q1) + tq.gates.CNOT(q0,q1) + tq.gates.Rz(angle=-pi/2.0,target=q1)\n",
    "    return circuit\n",
    "\n",
    "def B(theta_k,q0,q1):\n",
    "#     circuit = tq.gates.X(q1) + tq.gates.CX(control=q1,target=q0) +CRX(theta_k,q0,q1) + tq.gates.CX(control=q1,target=q0)+tq.gates.X(q1)\n",
    "    circuit = tq.gates.X(q1) + tq.gates.CX(control=q1,target=q0) +tq.gates.CRx(control=q0,target=q1,angle=theta_k) + tq.gates.CX(control=q1,target=q0)+tq.gates.X(q1)\n",
    "\n",
    "    return circuit"
   ]
  },
  {
   "cell_type": "code",
   "execution_count": 14,
   "metadata": {},
   "outputs": [],
   "source": [
    "def Udisg(lam,q0,q1,q2,q3):\n",
    "    k=1\n",
    "    n=4\n",
    "    th1=-np.arccos((lam-np.cos(2*pi*k/n))/np.sqrt((lam-np.cos(2*pi*k/n))**2+np.sin(2*pi*k/n)**2))\n",
    "    circuit = B(th1,q0,q1)+ F1(q0,q1) + F0(q2,q3)\n",
    "    #fSWAP(Udis,q2,q1) # for ibmqx2\n",
    "    #fSWAP(Udis,q1,q2) # for ibmqx4\n",
    "    circuit += F0(q0,q2)\n",
    "    circuit += F0(q1,q3)\n",
    "    #fSWAP(Udis,q2,q1) # for ibmqx2\n",
    "    #fSWAP(Udis,q1,q2) # for ibmqx4\n",
    "    return circuit\n",
    "\n",
    "def Ising(lam,q0,q1,q2,q3):\n",
    "    if lam<1:\n",
    "        return tq.gates.X(q3) + Udisg(lam,q0,q1,q2,q3)\n",
    "    else:\n",
    "        return Udisg(lam,q0,q1,q2,q3)\n",
    "    \n"
   ]
  },
  {
   "cell_type": "code",
   "execution_count": 15,
   "metadata": {
    "scrolled": true
   },
   "outputs": [
    {
     "data": {
      "text/html": [
       "<pre style=\"word-wrap: normal;white-space: pre;background: #fff0;line-height: 1.1;font-family: &quot;Courier New&quot;,Courier,monospace\">             ┌───┐                                                             »\n",
       "q_0: ────────┤ X ├───────────────────────────■───────────────────■─────────────»\n",
       "     ┌───┐   └─┬─┘    ┌───┐┌──────────────┐┌─┴─┐┌─────────────┐┌─┴─┐   ┌───┐   »\n",
       "q_1: ┤ X ├─────■──────┤ H ├┤ RZ(-0.23182) ├┤ X ├┤ RZ(0.23182) ├┤ X ├───┤ H ├───»\n",
       "     └───┘┌──────────┐├───┤└─┬──────────┬─┘├───┤└─────────────┘├───┤┌──┴───┴──┐»\n",
       "q_2: ──■──┤ RZ(-π/2) ├┤ H ├──┤ RZ(-π/4) ├──┤ H ├───────■───────┤ H ├┤ RZ(π/4) ├»\n",
       "     ┌─┴─┐└──┬───┬───┘└───┘  └──────────┘  └───┘     ┌─┴─┐     ├───┤└─────────┘»\n",
       "q_3: ┤ X ├───┤ H ├───────────────────────────────────┤ X ├─────┤ H ├───────────»\n",
       "     └───┘   └───┘                                   └───┘     └───┘           »\n",
       "c: 4/══════════════════════════════════════════════════════════════════════════»\n",
       "                                                                               »\n",
       "«     ┌───┐                ┌──────────┐┌───┐┌──────────┐┌───┐     ┌───┐»\n",
       "«q_0: ┤ X ├─────────────■──┤ RZ(-π/2) ├┤ H ├┤ RZ(-π/4) ├┤ H ├──■──┤ H ├»\n",
       "«     └─┬─┘   ┌───┐   ┌─┴─┐└──┬───┬───┘└───┘└──────────┘└───┘┌─┴─┐├───┤»\n",
       "«q_1: ──■─────┤ X ├───┤ X ├───┤ H ├──────────────────────────┤ X ├┤ H ├»\n",
       "«     ┌───┐┌──┴───┴──┐└───┘   └───┘                          └───┘└───┘»\n",
       "«q_2: ┤ H ├┤ RZ(π/2) ├──■───────■──────────────────────────────────────»\n",
       "«     └───┘└─────────┘┌─┴─┐     │                                      »\n",
       "«q_3: ────────────────┤ X ├─────■──────────────────────────────────────»\n",
       "«                     └───┘                                            »\n",
       "«c: 4/═════════════════════════════════════════════════════════════════»\n",
       "«                                                                      »\n",
       "«     ┌─────────┐┌───┐┌─────────┐        ┌──────────┐     ┌──────────┐┌───┐»\n",
       "«q_0: ┤ RZ(π/4) ├┤ H ├┤ RZ(π/2) ├──■───■─┤ RZ(-π/2) ├──■──┤ RZ(-π/2) ├┤ H ├»\n",
       "«     └─────────┘└───┘└─────────┘┌─┴─┐ │ └──────────┘  │  ├──────────┤├───┤»\n",
       "«q_1: ───────────────────────────┤ X ├─■──────■────────┼──┤ RZ(-π/2) ├┤ H ├»\n",
       "«                                └───┘        │      ┌─┴─┐└──┬───┬───┘└───┘»\n",
       "«q_2: ────────────────────────────────────────┼──────┤ X ├───┤ H ├─────────»\n",
       "«                                           ┌─┴─┐    ├───┤   └───┘         »\n",
       "«q_3: ──────────────────────────────────────┤ X ├────┤ H ├─────────────────»\n",
       "«                                           └───┘    └───┘                 »\n",
       "«c: 4/═════════════════════════════════════════════════════════════════════»\n",
       "«                                                                          »\n",
       "«     ┌──────────┐┌───┐          ┌───┐┌─────────┐┌───┐┌─────────┐             »\n",
       "«q_0: ┤ RZ(-π/4) ├┤ H ├───────■──┤ H ├┤ RZ(π/4) ├┤ H ├┤ RZ(π/2) ├───────■─────»\n",
       "«     ├──────────┤├───┤       │  ├───┤├─────────┤├───┤├─────────┤       │     »\n",
       "«q_1: ┤ RZ(-π/4) ├┤ H ├──■────┼──┤ H ├┤ RZ(π/4) ├┤ H ├┤ RZ(π/2) ├──■────┼───■─»\n",
       "«     └──────────┘└───┘  │  ┌─┴─┐├───┤└─────────┘└───┘└─────────┘  │  ┌─┴─┐ │ »\n",
       "«q_2: ───────────────────┼──┤ X ├┤ H ├─────────────────────────────┼──┤ X ├─┼─»\n",
       "«                      ┌─┴─┐├───┤└───┘                           ┌─┴─┐└───┘ │ »\n",
       "«q_3: ─────────────────┤ X ├┤ H ├────────────────────────────────┤ X ├──────■─»\n",
       "«                      └───┘└───┘                                └───┘        »\n",
       "«c: 4/════════════════════════════════════════════════════════════════════════»\n",
       "«                                                                             »\n",
       "«        \n",
       "«q_0: ─■─\n",
       "«      │ \n",
       "«q_1: ─┼─\n",
       "«      │ \n",
       "«q_2: ─■─\n",
       "«        \n",
       "«q_3: ───\n",
       "«        \n",
       "«c: 4/═══\n",
       "«        </pre>"
      ],
      "text/plain": [
       "             ┌───┐                                                             »\n",
       "q_0: ────────┤ X ├───────────────────────────■───────────────────■─────────────»\n",
       "     ┌───┐   └─┬─┘    ┌───┐┌──────────────┐┌─┴─┐┌─────────────┐┌─┴─┐   ┌───┐   »\n",
       "q_1: ┤ X ├─────■──────┤ H ├┤ RZ(-0.23182) ├┤ X ├┤ RZ(0.23182) ├┤ X ├───┤ H ├───»\n",
       "     └───┘┌──────────┐├───┤└─┬──────────┬─┘├───┤└─────────────┘├───┤┌──┴───┴──┐»\n",
       "q_2: ──■──┤ RZ(-π/2) ├┤ H ├──┤ RZ(-π/4) ├──┤ H ├───────■───────┤ H ├┤ RZ(π/4) ├»\n",
       "     ┌─┴─┐└──┬───┬───┘└───┘  └──────────┘  └───┘     ┌─┴─┐     ├───┤└─────────┘»\n",
       "q_3: ┤ X ├───┤ H ├───────────────────────────────────┤ X ├─────┤ H ├───────────»\n",
       "     └───┘   └───┘                                   └───┘     └───┘           »\n",
       "c: 4/══════════════════════════════════════════════════════════════════════════»\n",
       "                                                                               »\n",
       "«     ┌───┐                ┌──────────┐┌───┐┌──────────┐┌───┐     ┌───┐»\n",
       "«q_0: ┤ X ├─────────────■──┤ RZ(-π/2) ├┤ H ├┤ RZ(-π/4) ├┤ H ├──■──┤ H ├»\n",
       "«     └─┬─┘   ┌───┐   ┌─┴─┐└──┬───┬───┘└───┘└──────────┘└───┘┌─┴─┐├───┤»\n",
       "«q_1: ──■─────┤ X ├───┤ X ├───┤ H ├──────────────────────────┤ X ├┤ H ├»\n",
       "«     ┌───┐┌──┴───┴──┐└───┘   └───┘                          └───┘└───┘»\n",
       "«q_2: ┤ H ├┤ RZ(π/2) ├──■───────■──────────────────────────────────────»\n",
       "«     └───┘└─────────┘┌─┴─┐     │                                      »\n",
       "«q_3: ────────────────┤ X ├─────■──────────────────────────────────────»\n",
       "«                     └───┘                                            »\n",
       "«c: 4/═════════════════════════════════════════════════════════════════»\n",
       "«                                                                      »\n",
       "«     ┌─────────┐┌───┐┌─────────┐        ┌──────────┐     ┌──────────┐┌───┐»\n",
       "«q_0: ┤ RZ(π/4) ├┤ H ├┤ RZ(π/2) ├──■───■─┤ RZ(-π/2) ├──■──┤ RZ(-π/2) ├┤ H ├»\n",
       "«     └─────────┘└───┘└─────────┘┌─┴─┐ │ └──────────┘  │  ├──────────┤├───┤»\n",
       "«q_1: ───────────────────────────┤ X ├─■──────■────────┼──┤ RZ(-π/2) ├┤ H ├»\n",
       "«                                └───┘        │      ┌─┴─┐└──┬───┬───┘└───┘»\n",
       "«q_2: ────────────────────────────────────────┼──────┤ X ├───┤ H ├─────────»\n",
       "«                                           ┌─┴─┐    ├───┤   └───┘         »\n",
       "«q_3: ──────────────────────────────────────┤ X ├────┤ H ├─────────────────»\n",
       "«                                           └───┘    └───┘                 »\n",
       "«c: 4/═════════════════════════════════════════════════════════════════════»\n",
       "«                                                                          »\n",
       "«     ┌──────────┐┌───┐          ┌───┐┌─────────┐┌───┐┌─────────┐             »\n",
       "«q_0: ┤ RZ(-π/4) ├┤ H ├───────■──┤ H ├┤ RZ(π/4) ├┤ H ├┤ RZ(π/2) ├───────■─────»\n",
       "«     ├──────────┤├───┤       │  ├───┤├─────────┤├───┤├─────────┤       │     »\n",
       "«q_1: ┤ RZ(-π/4) ├┤ H ├──■────┼──┤ H ├┤ RZ(π/4) ├┤ H ├┤ RZ(π/2) ├──■────┼───■─»\n",
       "«     └──────────┘└───┘  │  ┌─┴─┐├───┤└─────────┘└───┘└─────────┘  │  ┌─┴─┐ │ »\n",
       "«q_2: ───────────────────┼──┤ X ├┤ H ├─────────────────────────────┼──┤ X ├─┼─»\n",
       "«                      ┌─┴─┐├───┤└───┘                           ┌─┴─┐└───┘ │ »\n",
       "«q_3: ─────────────────┤ X ├┤ H ├────────────────────────────────┤ X ├──────■─»\n",
       "«                      └───┘└───┘                                └───┘        »\n",
       "«c: 4/════════════════════════════════════════════════════════════════════════»\n",
       "«                                                                             »\n",
       "«        \n",
       "«q_0: ─■─\n",
       "«      │ \n",
       "«q_1: ─┼─\n",
       "«      │ \n",
       "«q_2: ─■─\n",
       "«        \n",
       "«q_3: ───\n",
       "«        \n",
       "«c: 4/═══\n",
       "«        "
      ]
     },
     "execution_count": 15,
     "metadata": {},
     "output_type": "execute_result"
    }
   ],
   "source": [
    "qiskit_ising = tq.compile(Ising(2,0,1,2,3),backend = 'qiskit')\n",
    "qiskit_ising.circuit.draw()"
   ]
  },
  {
   "cell_type": "markdown",
   "metadata": {},
   "source": [
    "Use digitsum to calculate expectation"
   ]
  },
  {
   "cell_type": "code",
   "execution_count": 16,
   "metadata": {},
   "outputs": [],
   "source": [
    "def digit_sum(n):\n",
    "    num_str = str(n)\n",
    "    sum = 0\n",
    "    for i in range(0, len(num_str)):\n",
    "        sum += int(num_str[i])\n",
    "    return sum"
   ]
  },
  {
   "cell_type": "code",
   "execution_count": 17,
   "metadata": {},
   "outputs": [],
   "source": [
    "shots = 1024\n",
    "mag_sim = []\n",
    "for i in range(10):\n",
    "    lam = 0.2*i\n",
    "    wfn = tq.simulate(Ising(lam,0,1,2,3),backend='qiskit',samples=shots)\n",
    "    r1 = []\n",
    "    r2 = []\n",
    "    for key, value in wfn.items():\n",
    "        r1 +=[key.binary]\n",
    "        r2 +=[value]\n",
    "    M = 0\n",
    "    for j in range(len(r1)):\n",
    "        M = M + (4-2*digit_sum(r1[j]))*r2[j]/shots\n",
    "    mag_sim.append(M/4)"
   ]
  },
  {
   "cell_type": "code",
   "execution_count": 21,
   "metadata": {},
   "outputs": [],
   "source": [
    "#Real Device\n",
    "def real_device_run_sumM(real_device):\n",
    "    mag_real_res = []\n",
    "    for i in range(10):\n",
    "        lam_real_1 = 0.2*i\n",
    "        wfn_real_1 = tq.simulate(Ising(lam_real_1,0,1,2,3),backend='qiskit',device = real_device,samples=shots)\n",
    "        r1_real_1 = []\n",
    "        r2_real_1 = []\n",
    "        for key, value in wfn_real_1.items():\n",
    "            r1_real_1 +=[key.binary]\n",
    "            r2_real_1 +=[value]\n",
    "        M_real_1 = 0\n",
    "        for j in range(len(r1_real_1)):\n",
    "            M_real_1 = M_real_1 + (4-2*digit_sum(r1_real_1[j]))*r2_real_1[j]/shots\n",
    "        mag_real_res.append(M_real_1/4)\n",
    "    return mag_real_res\n"
   ]
  },
  {
   "cell_type": "code",
   "execution_count": null,
   "metadata": {},
   "outputs": [],
   "source": [
    "vigo_sum_output = real_device_run_sumM('ibmq_vigo')"
   ]
  },
  {
   "cell_type": "code",
   "execution_count": 23,
   "metadata": {},
   "outputs": [
    {
     "ename": "IBMQJobInvalidStateError",
     "evalue": "'Unable to retrieve result for job 5ffbc6fa234c5d61119ebff4. Job was cancelled.'",
     "output_type": "error",
     "traceback": [
      "\u001b[0;31m---------------------------------------------------------------------------\u001b[0m",
      "\u001b[0;31mIBMQJobInvalidStateError\u001b[0m                  Traceback (most recent call last)",
      "\u001b[0;32m<ipython-input-23-e79c9e075a64>\u001b[0m in \u001b[0;36m<module>\u001b[0;34m\u001b[0m\n\u001b[0;32m----> 1\u001b[0;31m \u001b[0msantiago_sum_output\u001b[0m \u001b[0;34m=\u001b[0m  \u001b[0mreal_device_run_sumM\u001b[0m\u001b[0;34m(\u001b[0m\u001b[0;34m'ibmq_santiago'\u001b[0m\u001b[0;34m)\u001b[0m\u001b[0;34m\u001b[0m\u001b[0;34m\u001b[0m\u001b[0m\n\u001b[0m",
      "\u001b[0;32m<ipython-input-21-3593371ce33e>\u001b[0m in \u001b[0;36mreal_device_run_sumM\u001b[0;34m(real_device)\u001b[0m\n\u001b[1;32m      4\u001b[0m     \u001b[0;32mfor\u001b[0m \u001b[0mi\u001b[0m \u001b[0;32min\u001b[0m \u001b[0mrange\u001b[0m\u001b[0;34m(\u001b[0m\u001b[0;36m10\u001b[0m\u001b[0;34m)\u001b[0m\u001b[0;34m:\u001b[0m\u001b[0;34m\u001b[0m\u001b[0;34m\u001b[0m\u001b[0m\n\u001b[1;32m      5\u001b[0m         \u001b[0mlam_real_1\u001b[0m \u001b[0;34m=\u001b[0m \u001b[0;36m0.2\u001b[0m\u001b[0;34m*\u001b[0m\u001b[0mi\u001b[0m\u001b[0;34m\u001b[0m\u001b[0;34m\u001b[0m\u001b[0m\n\u001b[0;32m----> 6\u001b[0;31m         \u001b[0mwfn_real_1\u001b[0m \u001b[0;34m=\u001b[0m \u001b[0mtq\u001b[0m\u001b[0;34m.\u001b[0m\u001b[0msimulate\u001b[0m\u001b[0;34m(\u001b[0m\u001b[0mIsing\u001b[0m\u001b[0;34m(\u001b[0m\u001b[0mlam_real_1\u001b[0m\u001b[0;34m,\u001b[0m\u001b[0;36m0\u001b[0m\u001b[0;34m,\u001b[0m\u001b[0;36m1\u001b[0m\u001b[0;34m,\u001b[0m\u001b[0;36m2\u001b[0m\u001b[0;34m,\u001b[0m\u001b[0;36m3\u001b[0m\u001b[0;34m)\u001b[0m\u001b[0;34m,\u001b[0m\u001b[0mbackend\u001b[0m\u001b[0;34m=\u001b[0m\u001b[0;34m'qiskit'\u001b[0m\u001b[0;34m,\u001b[0m\u001b[0mdevice\u001b[0m \u001b[0;34m=\u001b[0m \u001b[0mreal_device\u001b[0m\u001b[0;34m,\u001b[0m\u001b[0msamples\u001b[0m\u001b[0;34m=\u001b[0m\u001b[0mshots\u001b[0m\u001b[0;34m)\u001b[0m\u001b[0;34m\u001b[0m\u001b[0;34m\u001b[0m\u001b[0m\n\u001b[0m\u001b[1;32m      7\u001b[0m         \u001b[0mr1_real_1\u001b[0m \u001b[0;34m=\u001b[0m \u001b[0;34m[\u001b[0m\u001b[0;34m]\u001b[0m\u001b[0;34m\u001b[0m\u001b[0;34m\u001b[0m\u001b[0m\n\u001b[1;32m      8\u001b[0m         \u001b[0mr2_real_1\u001b[0m \u001b[0;34m=\u001b[0m \u001b[0;34m[\u001b[0m\u001b[0;34m]\u001b[0m\u001b[0;34m\u001b[0m\u001b[0;34m\u001b[0m\u001b[0m\n",
      "\u001b[0;32m~/Documents/QOSF/tequila/src/tequila/simulators/simulator_api.py\u001b[0m in \u001b[0;36msimulate\u001b[0;34m(objective, variables, samples, backend, noise, device, *args, **kwargs)\u001b[0m\n\u001b[1;32m    384\u001b[0m                                  noise=noise,device=device, *args, **kwargs)\n\u001b[1;32m    385\u001b[0m \u001b[0;34m\u001b[0m\u001b[0m\n\u001b[0;32m--> 386\u001b[0;31m     \u001b[0;32mreturn\u001b[0m \u001b[0mcompiled_objective\u001b[0m\u001b[0;34m(\u001b[0m\u001b[0mvariables\u001b[0m\u001b[0;34m=\u001b[0m\u001b[0mvariables\u001b[0m\u001b[0;34m,\u001b[0m \u001b[0msamples\u001b[0m\u001b[0;34m=\u001b[0m\u001b[0msamples\u001b[0m\u001b[0;34m,\u001b[0m \u001b[0;34m*\u001b[0m\u001b[0margs\u001b[0m\u001b[0;34m,\u001b[0m \u001b[0;34m**\u001b[0m\u001b[0mkwargs\u001b[0m\u001b[0;34m)\u001b[0m\u001b[0;34m\u001b[0m\u001b[0;34m\u001b[0m\u001b[0m\n\u001b[0m\u001b[1;32m    387\u001b[0m \u001b[0;34m\u001b[0m\u001b[0m\n\u001b[1;32m    388\u001b[0m \u001b[0;34m\u001b[0m\u001b[0m\n",
      "\u001b[0;32m~/Documents/QOSF/tequila/src/tequila/simulators/simulator_base.py\u001b[0m in \u001b[0;36m__call__\u001b[0;34m(self, variables, samples, *args, **kwargs)\u001b[0m\n\u001b[1;32m    226\u001b[0m             \u001b[0;32mreturn\u001b[0m \u001b[0mself\u001b[0m\u001b[0;34m.\u001b[0m\u001b[0msimulate\u001b[0m\u001b[0;34m(\u001b[0m\u001b[0mvariables\u001b[0m\u001b[0;34m=\u001b[0m\u001b[0mvariables\u001b[0m\u001b[0;34m,\u001b[0m \u001b[0mnoise\u001b[0m\u001b[0;34m=\u001b[0m\u001b[0mself\u001b[0m\u001b[0;34m.\u001b[0m\u001b[0mnoise\u001b[0m\u001b[0;34m,\u001b[0m \u001b[0;34m*\u001b[0m\u001b[0margs\u001b[0m\u001b[0;34m,\u001b[0m \u001b[0;34m**\u001b[0m\u001b[0mkwargs\u001b[0m\u001b[0;34m)\u001b[0m\u001b[0;34m\u001b[0m\u001b[0;34m\u001b[0m\u001b[0m\n\u001b[1;32m    227\u001b[0m         \u001b[0;32melse\u001b[0m\u001b[0;34m:\u001b[0m\u001b[0;34m\u001b[0m\u001b[0;34m\u001b[0m\u001b[0m\n\u001b[0;32m--> 228\u001b[0;31m             \u001b[0;32mreturn\u001b[0m \u001b[0mself\u001b[0m\u001b[0;34m.\u001b[0m\u001b[0msample\u001b[0m\u001b[0;34m(\u001b[0m\u001b[0mvariables\u001b[0m\u001b[0;34m=\u001b[0m\u001b[0mvariables\u001b[0m\u001b[0;34m,\u001b[0m \u001b[0msamples\u001b[0m\u001b[0;34m=\u001b[0m\u001b[0msamples\u001b[0m\u001b[0;34m,\u001b[0m \u001b[0mnoise\u001b[0m\u001b[0;34m=\u001b[0m\u001b[0mself\u001b[0m\u001b[0;34m.\u001b[0m\u001b[0mnoise\u001b[0m\u001b[0;34m,\u001b[0m \u001b[0;34m*\u001b[0m\u001b[0margs\u001b[0m\u001b[0;34m,\u001b[0m \u001b[0;34m**\u001b[0m\u001b[0mkwargs\u001b[0m\u001b[0;34m)\u001b[0m\u001b[0;34m\u001b[0m\u001b[0;34m\u001b[0m\u001b[0m\n\u001b[0m\u001b[1;32m    229\u001b[0m \u001b[0;34m\u001b[0m\u001b[0m\n\u001b[1;32m    230\u001b[0m     \u001b[0;32mdef\u001b[0m \u001b[0mcreate_circuit\u001b[0m\u001b[0;34m(\u001b[0m\u001b[0mself\u001b[0m\u001b[0;34m,\u001b[0m \u001b[0mabstract_circuit\u001b[0m\u001b[0;34m:\u001b[0m \u001b[0mQCircuit\u001b[0m\u001b[0;34m,\u001b[0m \u001b[0mcircuit\u001b[0m\u001b[0;34m=\u001b[0m\u001b[0;32mNone\u001b[0m\u001b[0;34m,\u001b[0m \u001b[0;34m*\u001b[0m\u001b[0margs\u001b[0m\u001b[0;34m,\u001b[0m \u001b[0;34m**\u001b[0m\u001b[0mkwargs\u001b[0m\u001b[0;34m)\u001b[0m\u001b[0;34m:\u001b[0m\u001b[0;34m\u001b[0m\u001b[0;34m\u001b[0m\u001b[0m\n",
      "\u001b[0;32m~/Documents/QOSF/tequila/src/tequila/simulators/simulator_base.py\u001b[0m in \u001b[0;36msample\u001b[0;34m(self, variables, samples, read_out_qubits, circuit, *args, **kwargs)\u001b[0m\n\u001b[1;32m    390\u001b[0m         \u001b[0;32melse\u001b[0m\u001b[0;34m:\u001b[0m\u001b[0;34m\u001b[0m\u001b[0;34m\u001b[0m\u001b[0m\n\u001b[1;32m    391\u001b[0m             \u001b[0mcircuit\u001b[0m \u001b[0;34m=\u001b[0m \u001b[0mself\u001b[0m\u001b[0;34m.\u001b[0m\u001b[0madd_measurement\u001b[0m\u001b[0;34m(\u001b[0m\u001b[0mcircuit\u001b[0m\u001b[0;34m=\u001b[0m\u001b[0mcircuit\u001b[0m\u001b[0;34m,\u001b[0m \u001b[0mtarget_qubits\u001b[0m\u001b[0;34m=\u001b[0m\u001b[0mread_out_qubits\u001b[0m\u001b[0;34m)\u001b[0m\u001b[0;34m\u001b[0m\u001b[0;34m\u001b[0m\u001b[0m\n\u001b[0;32m--> 392\u001b[0;31m         \u001b[0;32mreturn\u001b[0m \u001b[0mself\u001b[0m\u001b[0;34m.\u001b[0m\u001b[0mdo_sample\u001b[0m\u001b[0;34m(\u001b[0m\u001b[0msamples\u001b[0m\u001b[0;34m=\u001b[0m\u001b[0msamples\u001b[0m\u001b[0;34m,\u001b[0m \u001b[0mcircuit\u001b[0m\u001b[0;34m=\u001b[0m\u001b[0mcircuit\u001b[0m\u001b[0;34m,\u001b[0m \u001b[0mread_out_qubits\u001b[0m\u001b[0;34m=\u001b[0m\u001b[0mread_out_qubits\u001b[0m\u001b[0;34m,\u001b[0m \u001b[0;34m*\u001b[0m\u001b[0margs\u001b[0m\u001b[0;34m,\u001b[0m \u001b[0;34m**\u001b[0m\u001b[0mkwargs\u001b[0m\u001b[0;34m)\u001b[0m\u001b[0;34m\u001b[0m\u001b[0;34m\u001b[0m\u001b[0m\n\u001b[0m\u001b[1;32m    393\u001b[0m \u001b[0;34m\u001b[0m\u001b[0m\n\u001b[1;32m    394\u001b[0m     \u001b[0;32mdef\u001b[0m \u001b[0msample_all_z_hamiltonian\u001b[0m\u001b[0;34m(\u001b[0m\u001b[0mself\u001b[0m\u001b[0;34m,\u001b[0m \u001b[0msamples\u001b[0m\u001b[0;34m:\u001b[0m \u001b[0mint\u001b[0m\u001b[0;34m,\u001b[0m \u001b[0mhamiltonian\u001b[0m\u001b[0;34m,\u001b[0m \u001b[0mvariables\u001b[0m\u001b[0;34m,\u001b[0m \u001b[0;34m*\u001b[0m\u001b[0margs\u001b[0m\u001b[0;34m,\u001b[0m \u001b[0;34m**\u001b[0m\u001b[0mkwargs\u001b[0m\u001b[0;34m)\u001b[0m\u001b[0;34m:\u001b[0m\u001b[0;34m\u001b[0m\u001b[0;34m\u001b[0m\u001b[0m\n",
      "\u001b[0;32m~/Documents/QOSF/tequila/src/tequila/simulators/simulator_qiskit.py\u001b[0m in \u001b[0;36mdo_sample\u001b[0;34m(self, circuit, samples, read_out_qubits, *args, **kwargs)\u001b[0m\n\u001b[1;32m    320\u001b[0m                 return self.convert_measurements(qiskit.execute(circuit, backend=qiskit_backend, shots=samples,\n\u001b[1;32m    321\u001b[0m                                                                 \u001b[0moptimization_level\u001b[0m\u001b[0;34m=\u001b[0m\u001b[0moptimization_level\u001b[0m\u001b[0;34m,\u001b[0m\u001b[0;34m\u001b[0m\u001b[0;34m\u001b[0m\u001b[0m\n\u001b[0;32m--> 322\u001b[0;31m                                                                 parameter_binds=[self.resolver]))\n\u001b[0m\u001b[1;32m    323\u001b[0m \u001b[0;34m\u001b[0m\u001b[0m\n\u001b[1;32m    324\u001b[0m     \u001b[0;32mdef\u001b[0m \u001b[0mconvert_measurements\u001b[0m\u001b[0;34m(\u001b[0m\u001b[0mself\u001b[0m\u001b[0;34m,\u001b[0m \u001b[0mbackend_result\u001b[0m\u001b[0;34m,\u001b[0m \u001b[0mtarget_qubits\u001b[0m\u001b[0;34m=\u001b[0m\u001b[0;32mNone\u001b[0m\u001b[0;34m)\u001b[0m \u001b[0;34m->\u001b[0m \u001b[0mQubitWaveFunction\u001b[0m\u001b[0;34m:\u001b[0m\u001b[0;34m\u001b[0m\u001b[0;34m\u001b[0m\u001b[0m\n",
      "\u001b[0;32m~/Documents/QOSF/tequila/src/tequila/simulators/simulator_qiskit.py\u001b[0m in \u001b[0;36mconvert_measurements\u001b[0;34m(self, backend_result, target_qubits)\u001b[0m\n\u001b[1;32m    334\u001b[0m             \u001b[0mmeasurements\u001b[0m \u001b[0mconverted\u001b[0m \u001b[0minto\u001b[0m \u001b[0mwave\u001b[0m \u001b[0mfunction\u001b[0m \u001b[0mform\u001b[0m\u001b[0;34m.\u001b[0m\u001b[0;34m\u001b[0m\u001b[0;34m\u001b[0m\u001b[0m\n\u001b[1;32m    335\u001b[0m         \"\"\"\n\u001b[0;32m--> 336\u001b[0;31m         \u001b[0mqiskit_counts\u001b[0m \u001b[0;34m=\u001b[0m \u001b[0mbackend_result\u001b[0m\u001b[0;34m.\u001b[0m\u001b[0mresult\u001b[0m\u001b[0;34m(\u001b[0m\u001b[0;34m)\u001b[0m\u001b[0;34m.\u001b[0m\u001b[0mget_counts\u001b[0m\u001b[0;34m(\u001b[0m\u001b[0;34m)\u001b[0m\u001b[0;34m\u001b[0m\u001b[0;34m\u001b[0m\u001b[0m\n\u001b[0m\u001b[1;32m    337\u001b[0m         \u001b[0mresult\u001b[0m \u001b[0;34m=\u001b[0m \u001b[0mQubitWaveFunction\u001b[0m\u001b[0;34m(\u001b[0m\u001b[0;34m)\u001b[0m\u001b[0;34m\u001b[0m\u001b[0;34m\u001b[0m\u001b[0m\n\u001b[1;32m    338\u001b[0m         \u001b[0;31m# todo there are faster ways\u001b[0m\u001b[0;34m\u001b[0m\u001b[0;34m\u001b[0m\u001b[0;34m\u001b[0m\u001b[0m\n",
      "\u001b[0;32m~/opt/anaconda3/envs/tequila/lib/python3.7/site-packages/qiskit/providers/ibmq/job/ibmqjob.py\u001b[0m in \u001b[0;36mresult\u001b[0;34m(self, timeout, wait, partial, refresh)\u001b[0m\n\u001b[1;32m    277\u001b[0m             \u001b[0;32mif\u001b[0m \u001b[0mself\u001b[0m\u001b[0;34m.\u001b[0m\u001b[0m_status\u001b[0m \u001b[0;32mis\u001b[0m \u001b[0mJobStatus\u001b[0m\u001b[0;34m.\u001b[0m\u001b[0mCANCELLED\u001b[0m\u001b[0;34m:\u001b[0m\u001b[0;34m\u001b[0m\u001b[0;34m\u001b[0m\u001b[0m\n\u001b[1;32m    278\u001b[0m                 raise IBMQJobInvalidStateError('Unable to retrieve result for job {}. '\n\u001b[0;32m--> 279\u001b[0;31m                                                'Job was cancelled.'.format(self.job_id()))\n\u001b[0m\u001b[1;32m    280\u001b[0m             \u001b[0;31m# Job failed.\u001b[0m\u001b[0;34m\u001b[0m\u001b[0;34m\u001b[0m\u001b[0;34m\u001b[0m\u001b[0m\n\u001b[1;32m    281\u001b[0m             \u001b[0;32mif\u001b[0m \u001b[0mpartial\u001b[0m\u001b[0;34m:\u001b[0m\u001b[0;34m\u001b[0m\u001b[0;34m\u001b[0m\u001b[0m\n",
      "\u001b[0;31mIBMQJobInvalidStateError\u001b[0m: 'Unable to retrieve result for job 5ffbc6fa234c5d61119ebff4. Job was cancelled.'"
     ]
    }
   ],
   "source": [
    "santiago_sum_output =  real_device_run_sumM('ibmq_santiago')"
   ]
  },
  {
   "cell_type": "code",
   "execution_count": 25,
   "metadata": {},
   "outputs": [
    {
     "ename": "IBMQJobInvalidStateError",
     "evalue": "'Unable to retrieve result for job 5ffbf808dc9dff349cc355f5. Job was cancelled.'",
     "output_type": "error",
     "traceback": [
      "\u001b[0;31m---------------------------------------------------------------------------\u001b[0m",
      "\u001b[0;31mIBMQJobInvalidStateError\u001b[0m                  Traceback (most recent call last)",
      "\u001b[0;32m<ipython-input-25-fb3d016fa658>\u001b[0m in \u001b[0;36m<module>\u001b[0;34m\u001b[0m\n\u001b[0;32m----> 1\u001b[0;31m \u001b[0mathens_sum_output\u001b[0m \u001b[0;34m=\u001b[0m \u001b[0mreal_device_run_sumM\u001b[0m\u001b[0;34m(\u001b[0m\u001b[0;34m'ibmq_athens'\u001b[0m\u001b[0;34m)\u001b[0m\u001b[0;34m\u001b[0m\u001b[0;34m\u001b[0m\u001b[0m\n\u001b[0m",
      "\u001b[0;32m<ipython-input-21-3593371ce33e>\u001b[0m in \u001b[0;36mreal_device_run_sumM\u001b[0;34m(real_device)\u001b[0m\n\u001b[1;32m      4\u001b[0m     \u001b[0;32mfor\u001b[0m \u001b[0mi\u001b[0m \u001b[0;32min\u001b[0m \u001b[0mrange\u001b[0m\u001b[0;34m(\u001b[0m\u001b[0;36m10\u001b[0m\u001b[0;34m)\u001b[0m\u001b[0;34m:\u001b[0m\u001b[0;34m\u001b[0m\u001b[0;34m\u001b[0m\u001b[0m\n\u001b[1;32m      5\u001b[0m         \u001b[0mlam_real_1\u001b[0m \u001b[0;34m=\u001b[0m \u001b[0;36m0.2\u001b[0m\u001b[0;34m*\u001b[0m\u001b[0mi\u001b[0m\u001b[0;34m\u001b[0m\u001b[0;34m\u001b[0m\u001b[0m\n\u001b[0;32m----> 6\u001b[0;31m         \u001b[0mwfn_real_1\u001b[0m \u001b[0;34m=\u001b[0m \u001b[0mtq\u001b[0m\u001b[0;34m.\u001b[0m\u001b[0msimulate\u001b[0m\u001b[0;34m(\u001b[0m\u001b[0mIsing\u001b[0m\u001b[0;34m(\u001b[0m\u001b[0mlam_real_1\u001b[0m\u001b[0;34m,\u001b[0m\u001b[0;36m0\u001b[0m\u001b[0;34m,\u001b[0m\u001b[0;36m1\u001b[0m\u001b[0;34m,\u001b[0m\u001b[0;36m2\u001b[0m\u001b[0;34m,\u001b[0m\u001b[0;36m3\u001b[0m\u001b[0;34m)\u001b[0m\u001b[0;34m,\u001b[0m\u001b[0mbackend\u001b[0m\u001b[0;34m=\u001b[0m\u001b[0;34m'qiskit'\u001b[0m\u001b[0;34m,\u001b[0m\u001b[0mdevice\u001b[0m \u001b[0;34m=\u001b[0m \u001b[0mreal_device\u001b[0m\u001b[0;34m,\u001b[0m\u001b[0msamples\u001b[0m\u001b[0;34m=\u001b[0m\u001b[0mshots\u001b[0m\u001b[0;34m)\u001b[0m\u001b[0;34m\u001b[0m\u001b[0;34m\u001b[0m\u001b[0m\n\u001b[0m\u001b[1;32m      7\u001b[0m         \u001b[0mr1_real_1\u001b[0m \u001b[0;34m=\u001b[0m \u001b[0;34m[\u001b[0m\u001b[0;34m]\u001b[0m\u001b[0;34m\u001b[0m\u001b[0;34m\u001b[0m\u001b[0m\n\u001b[1;32m      8\u001b[0m         \u001b[0mr2_real_1\u001b[0m \u001b[0;34m=\u001b[0m \u001b[0;34m[\u001b[0m\u001b[0;34m]\u001b[0m\u001b[0;34m\u001b[0m\u001b[0;34m\u001b[0m\u001b[0m\n",
      "\u001b[0;32m~/Documents/QOSF/tequila/src/tequila/simulators/simulator_api.py\u001b[0m in \u001b[0;36msimulate\u001b[0;34m(objective, variables, samples, backend, noise, device, *args, **kwargs)\u001b[0m\n\u001b[1;32m    384\u001b[0m                                  noise=noise,device=device, *args, **kwargs)\n\u001b[1;32m    385\u001b[0m \u001b[0;34m\u001b[0m\u001b[0m\n\u001b[0;32m--> 386\u001b[0;31m     \u001b[0;32mreturn\u001b[0m \u001b[0mcompiled_objective\u001b[0m\u001b[0;34m(\u001b[0m\u001b[0mvariables\u001b[0m\u001b[0;34m=\u001b[0m\u001b[0mvariables\u001b[0m\u001b[0;34m,\u001b[0m \u001b[0msamples\u001b[0m\u001b[0;34m=\u001b[0m\u001b[0msamples\u001b[0m\u001b[0;34m,\u001b[0m \u001b[0;34m*\u001b[0m\u001b[0margs\u001b[0m\u001b[0;34m,\u001b[0m \u001b[0;34m**\u001b[0m\u001b[0mkwargs\u001b[0m\u001b[0;34m)\u001b[0m\u001b[0;34m\u001b[0m\u001b[0;34m\u001b[0m\u001b[0m\n\u001b[0m\u001b[1;32m    387\u001b[0m \u001b[0;34m\u001b[0m\u001b[0m\n\u001b[1;32m    388\u001b[0m \u001b[0;34m\u001b[0m\u001b[0m\n",
      "\u001b[0;32m~/Documents/QOSF/tequila/src/tequila/simulators/simulator_base.py\u001b[0m in \u001b[0;36m__call__\u001b[0;34m(self, variables, samples, *args, **kwargs)\u001b[0m\n\u001b[1;32m    226\u001b[0m             \u001b[0;32mreturn\u001b[0m \u001b[0mself\u001b[0m\u001b[0;34m.\u001b[0m\u001b[0msimulate\u001b[0m\u001b[0;34m(\u001b[0m\u001b[0mvariables\u001b[0m\u001b[0;34m=\u001b[0m\u001b[0mvariables\u001b[0m\u001b[0;34m,\u001b[0m \u001b[0mnoise\u001b[0m\u001b[0;34m=\u001b[0m\u001b[0mself\u001b[0m\u001b[0;34m.\u001b[0m\u001b[0mnoise\u001b[0m\u001b[0;34m,\u001b[0m \u001b[0;34m*\u001b[0m\u001b[0margs\u001b[0m\u001b[0;34m,\u001b[0m \u001b[0;34m**\u001b[0m\u001b[0mkwargs\u001b[0m\u001b[0;34m)\u001b[0m\u001b[0;34m\u001b[0m\u001b[0;34m\u001b[0m\u001b[0m\n\u001b[1;32m    227\u001b[0m         \u001b[0;32melse\u001b[0m\u001b[0;34m:\u001b[0m\u001b[0;34m\u001b[0m\u001b[0;34m\u001b[0m\u001b[0m\n\u001b[0;32m--> 228\u001b[0;31m             \u001b[0;32mreturn\u001b[0m \u001b[0mself\u001b[0m\u001b[0;34m.\u001b[0m\u001b[0msample\u001b[0m\u001b[0;34m(\u001b[0m\u001b[0mvariables\u001b[0m\u001b[0;34m=\u001b[0m\u001b[0mvariables\u001b[0m\u001b[0;34m,\u001b[0m \u001b[0msamples\u001b[0m\u001b[0;34m=\u001b[0m\u001b[0msamples\u001b[0m\u001b[0;34m,\u001b[0m \u001b[0mnoise\u001b[0m\u001b[0;34m=\u001b[0m\u001b[0mself\u001b[0m\u001b[0;34m.\u001b[0m\u001b[0mnoise\u001b[0m\u001b[0;34m,\u001b[0m \u001b[0;34m*\u001b[0m\u001b[0margs\u001b[0m\u001b[0;34m,\u001b[0m \u001b[0;34m**\u001b[0m\u001b[0mkwargs\u001b[0m\u001b[0;34m)\u001b[0m\u001b[0;34m\u001b[0m\u001b[0;34m\u001b[0m\u001b[0m\n\u001b[0m\u001b[1;32m    229\u001b[0m \u001b[0;34m\u001b[0m\u001b[0m\n\u001b[1;32m    230\u001b[0m     \u001b[0;32mdef\u001b[0m \u001b[0mcreate_circuit\u001b[0m\u001b[0;34m(\u001b[0m\u001b[0mself\u001b[0m\u001b[0;34m,\u001b[0m \u001b[0mabstract_circuit\u001b[0m\u001b[0;34m:\u001b[0m \u001b[0mQCircuit\u001b[0m\u001b[0;34m,\u001b[0m \u001b[0mcircuit\u001b[0m\u001b[0;34m=\u001b[0m\u001b[0;32mNone\u001b[0m\u001b[0;34m,\u001b[0m \u001b[0;34m*\u001b[0m\u001b[0margs\u001b[0m\u001b[0;34m,\u001b[0m \u001b[0;34m**\u001b[0m\u001b[0mkwargs\u001b[0m\u001b[0;34m)\u001b[0m\u001b[0;34m:\u001b[0m\u001b[0;34m\u001b[0m\u001b[0;34m\u001b[0m\u001b[0m\n",
      "\u001b[0;32m~/Documents/QOSF/tequila/src/tequila/simulators/simulator_base.py\u001b[0m in \u001b[0;36msample\u001b[0;34m(self, variables, samples, read_out_qubits, circuit, *args, **kwargs)\u001b[0m\n\u001b[1;32m    390\u001b[0m         \u001b[0;32melse\u001b[0m\u001b[0;34m:\u001b[0m\u001b[0;34m\u001b[0m\u001b[0;34m\u001b[0m\u001b[0m\n\u001b[1;32m    391\u001b[0m             \u001b[0mcircuit\u001b[0m \u001b[0;34m=\u001b[0m \u001b[0mself\u001b[0m\u001b[0;34m.\u001b[0m\u001b[0madd_measurement\u001b[0m\u001b[0;34m(\u001b[0m\u001b[0mcircuit\u001b[0m\u001b[0;34m=\u001b[0m\u001b[0mcircuit\u001b[0m\u001b[0;34m,\u001b[0m \u001b[0mtarget_qubits\u001b[0m\u001b[0;34m=\u001b[0m\u001b[0mread_out_qubits\u001b[0m\u001b[0;34m)\u001b[0m\u001b[0;34m\u001b[0m\u001b[0;34m\u001b[0m\u001b[0m\n\u001b[0;32m--> 392\u001b[0;31m         \u001b[0;32mreturn\u001b[0m \u001b[0mself\u001b[0m\u001b[0;34m.\u001b[0m\u001b[0mdo_sample\u001b[0m\u001b[0;34m(\u001b[0m\u001b[0msamples\u001b[0m\u001b[0;34m=\u001b[0m\u001b[0msamples\u001b[0m\u001b[0;34m,\u001b[0m \u001b[0mcircuit\u001b[0m\u001b[0;34m=\u001b[0m\u001b[0mcircuit\u001b[0m\u001b[0;34m,\u001b[0m \u001b[0mread_out_qubits\u001b[0m\u001b[0;34m=\u001b[0m\u001b[0mread_out_qubits\u001b[0m\u001b[0;34m,\u001b[0m \u001b[0;34m*\u001b[0m\u001b[0margs\u001b[0m\u001b[0;34m,\u001b[0m \u001b[0;34m**\u001b[0m\u001b[0mkwargs\u001b[0m\u001b[0;34m)\u001b[0m\u001b[0;34m\u001b[0m\u001b[0;34m\u001b[0m\u001b[0m\n\u001b[0m\u001b[1;32m    393\u001b[0m \u001b[0;34m\u001b[0m\u001b[0m\n\u001b[1;32m    394\u001b[0m     \u001b[0;32mdef\u001b[0m \u001b[0msample_all_z_hamiltonian\u001b[0m\u001b[0;34m(\u001b[0m\u001b[0mself\u001b[0m\u001b[0;34m,\u001b[0m \u001b[0msamples\u001b[0m\u001b[0;34m:\u001b[0m \u001b[0mint\u001b[0m\u001b[0;34m,\u001b[0m \u001b[0mhamiltonian\u001b[0m\u001b[0;34m,\u001b[0m \u001b[0mvariables\u001b[0m\u001b[0;34m,\u001b[0m \u001b[0;34m*\u001b[0m\u001b[0margs\u001b[0m\u001b[0;34m,\u001b[0m \u001b[0;34m**\u001b[0m\u001b[0mkwargs\u001b[0m\u001b[0;34m)\u001b[0m\u001b[0;34m:\u001b[0m\u001b[0;34m\u001b[0m\u001b[0;34m\u001b[0m\u001b[0m\n",
      "\u001b[0;32m~/Documents/QOSF/tequila/src/tequila/simulators/simulator_qiskit.py\u001b[0m in \u001b[0;36mdo_sample\u001b[0;34m(self, circuit, samples, read_out_qubits, *args, **kwargs)\u001b[0m\n\u001b[1;32m    320\u001b[0m                 return self.convert_measurements(qiskit.execute(circuit, backend=qiskit_backend, shots=samples,\n\u001b[1;32m    321\u001b[0m                                                                 \u001b[0moptimization_level\u001b[0m\u001b[0;34m=\u001b[0m\u001b[0moptimization_level\u001b[0m\u001b[0;34m,\u001b[0m\u001b[0;34m\u001b[0m\u001b[0;34m\u001b[0m\u001b[0m\n\u001b[0;32m--> 322\u001b[0;31m                                                                 parameter_binds=[self.resolver]))\n\u001b[0m\u001b[1;32m    323\u001b[0m \u001b[0;34m\u001b[0m\u001b[0m\n\u001b[1;32m    324\u001b[0m     \u001b[0;32mdef\u001b[0m \u001b[0mconvert_measurements\u001b[0m\u001b[0;34m(\u001b[0m\u001b[0mself\u001b[0m\u001b[0;34m,\u001b[0m \u001b[0mbackend_result\u001b[0m\u001b[0;34m,\u001b[0m \u001b[0mtarget_qubits\u001b[0m\u001b[0;34m=\u001b[0m\u001b[0;32mNone\u001b[0m\u001b[0;34m)\u001b[0m \u001b[0;34m->\u001b[0m \u001b[0mQubitWaveFunction\u001b[0m\u001b[0;34m:\u001b[0m\u001b[0;34m\u001b[0m\u001b[0;34m\u001b[0m\u001b[0m\n",
      "\u001b[0;32m~/Documents/QOSF/tequila/src/tequila/simulators/simulator_qiskit.py\u001b[0m in \u001b[0;36mconvert_measurements\u001b[0;34m(self, backend_result, target_qubits)\u001b[0m\n\u001b[1;32m    334\u001b[0m             \u001b[0mmeasurements\u001b[0m \u001b[0mconverted\u001b[0m \u001b[0minto\u001b[0m \u001b[0mwave\u001b[0m \u001b[0mfunction\u001b[0m \u001b[0mform\u001b[0m\u001b[0;34m.\u001b[0m\u001b[0;34m\u001b[0m\u001b[0;34m\u001b[0m\u001b[0m\n\u001b[1;32m    335\u001b[0m         \"\"\"\n\u001b[0;32m--> 336\u001b[0;31m         \u001b[0mqiskit_counts\u001b[0m \u001b[0;34m=\u001b[0m \u001b[0mbackend_result\u001b[0m\u001b[0;34m.\u001b[0m\u001b[0mresult\u001b[0m\u001b[0;34m(\u001b[0m\u001b[0;34m)\u001b[0m\u001b[0;34m.\u001b[0m\u001b[0mget_counts\u001b[0m\u001b[0;34m(\u001b[0m\u001b[0;34m)\u001b[0m\u001b[0;34m\u001b[0m\u001b[0;34m\u001b[0m\u001b[0m\n\u001b[0m\u001b[1;32m    337\u001b[0m         \u001b[0mresult\u001b[0m \u001b[0;34m=\u001b[0m \u001b[0mQubitWaveFunction\u001b[0m\u001b[0;34m(\u001b[0m\u001b[0;34m)\u001b[0m\u001b[0;34m\u001b[0m\u001b[0;34m\u001b[0m\u001b[0m\n\u001b[1;32m    338\u001b[0m         \u001b[0;31m# todo there are faster ways\u001b[0m\u001b[0;34m\u001b[0m\u001b[0;34m\u001b[0m\u001b[0;34m\u001b[0m\u001b[0m\n",
      "\u001b[0;32m~/opt/anaconda3/envs/tequila/lib/python3.7/site-packages/qiskit/providers/ibmq/job/ibmqjob.py\u001b[0m in \u001b[0;36mresult\u001b[0;34m(self, timeout, wait, partial, refresh)\u001b[0m\n\u001b[1;32m    277\u001b[0m             \u001b[0;32mif\u001b[0m \u001b[0mself\u001b[0m\u001b[0;34m.\u001b[0m\u001b[0m_status\u001b[0m \u001b[0;32mis\u001b[0m \u001b[0mJobStatus\u001b[0m\u001b[0;34m.\u001b[0m\u001b[0mCANCELLED\u001b[0m\u001b[0;34m:\u001b[0m\u001b[0;34m\u001b[0m\u001b[0;34m\u001b[0m\u001b[0m\n\u001b[1;32m    278\u001b[0m                 raise IBMQJobInvalidStateError('Unable to retrieve result for job {}. '\n\u001b[0;32m--> 279\u001b[0;31m                                                'Job was cancelled.'.format(self.job_id()))\n\u001b[0m\u001b[1;32m    280\u001b[0m             \u001b[0;31m# Job failed.\u001b[0m\u001b[0;34m\u001b[0m\u001b[0;34m\u001b[0m\u001b[0;34m\u001b[0m\u001b[0m\n\u001b[1;32m    281\u001b[0m             \u001b[0;32mif\u001b[0m \u001b[0mpartial\u001b[0m\u001b[0;34m:\u001b[0m\u001b[0;34m\u001b[0m\u001b[0;34m\u001b[0m\u001b[0m\n",
      "\u001b[0;31mIBMQJobInvalidStateError\u001b[0m: 'Unable to retrieve result for job 5ffbf808dc9dff349cc355f5. Job was cancelled.'"
     ]
    }
   ],
   "source": [
    "athens_sum_output = real_device_run_sumM('ibmq_athens')"
   ]
  },
  {
   "cell_type": "code",
   "execution_count": 22,
   "metadata": {
    "scrolled": true
   },
   "outputs": [
    {
     "data": {
      "image/png": "[encoded data removed]",
      "text/plain": [
       "<Figure size 648x360 with 1 Axes>"
      ]
     },
     "metadata": {
      "needs_background": "light"
     },
     "output_type": "display_data"
    }
   ],
   "source": [
    "import matplotlib.pyplot as plt\n",
    "%matplotlib inline\n",
    "import numpy as np\n",
    "from scipy import linalg as la\n",
    "def exact(lam):\n",
    "    if lam <1:\n",
    "        return lam/(2*np.sqrt(1+lam**2))\n",
    "    if lam >1:\n",
    "        return 1/2+lam/(2*np.sqrt(1+lam**2))\n",
    "    return None\n",
    "vexact = np.vectorize(exact)\n",
    "l=np.arange(0.0,2.0,0.01)\n",
    "l1=np.arange(0.0, 2.0, 0.2)\n",
    "plt.figure(figsize=(9,5))\n",
    "plt.plot(l,vexact(l),'k',label='exact')\n",
    "plt.plot(l1, mag_sim, 'bo',label='simulation')\n",
    "plt.plot(l1, vigo_sum_output, 'r*',label='ibmq_vigo')\n",
    "plt.xlabel('$\\lambda$')\n",
    "plt.ylabel('$<\\sigma_{z}>$')\n",
    "plt.legend()\n",
    "plt.title('Magnetization of the ground state of n=4 Ising spin chain')\n",
    "plt.show()\n"
   ]
  },
  {
   "cell_type": "markdown",
   "metadata": {},
   "source": [
    "# Use tq.ExpectationValue to calculate magnetization."
   ]
  },
  {
   "cell_type": "code",
   "execution_count": 19,
   "metadata": {
    "scrolled": false
   },
   "outputs": [],
   "source": [
    "qiskit_ising = tq.compile(Ising(0.2,0,1,2,3),backend = 'qiskit')\n",
    "# qiskit_ising.circuit.draw()"
   ]
  },
  {
   "cell_type": "code",
   "execution_count": 27,
   "metadata": {},
   "outputs": [],
   "source": [
    "shots = 1024\n",
    "mag_sim = []\n",
    "H = tq.paulis.Z([1])\n",
    "for i in range(10):\n",
    "    lam = 0.2*i\n",
    "    circuit = Ising(lam,0,1,2,3)\n",
    "\n",
    "    M_exp = tq.ExpectationValue(H = H, U = circuit)\n",
    "    M=tq.simulate(M_exp,backend='qiskit',samples=shots)\n",
    "    mag_sim.append(M)"
   ]
  },
  {
   "cell_type": "code",
   "execution_count": 26,
   "metadata": {},
   "outputs": [],
   "source": [
    "# Real Device\n",
    "def real_device_run_expecM(real_device):\n",
    "    shots = 1024\n",
    "    mag = []\n",
    "    H = tq.paulis.Z([1])\n",
    "    for i in range(10):\n",
    "        lam = 0.2*i\n",
    "        circuit = Ising(lam,0,1,2,3)\n",
    "\n",
    "        M_exp = tq.ExpectationValue(H = H, U = circuit)\n",
    "        M=tq.simulate(M_exp,backend='qiskit',device = real_device,samples=shots)\n",
    "    mag.append(M)\n",
    "    return mag"
   ]
  },
  {
   "cell_type": "code",
   "execution_count": 28,
   "metadata": {},
   "outputs": [],
   "source": [
    "vigo_expec_ouput = real_device_run_expecM('ibmq_vigo')"
   ]
  },
  {
   "cell_type": "code",
   "execution_count": 29,
   "metadata": {},
   "outputs": [],
   "source": [
    "santiago_expec_ouput = real_device_run_expecM('ibmq_santiago')"
   ]
  },
  {
   "cell_type": "code",
   "execution_count": 25,
   "metadata": {},
   "outputs": [
    {
     "data": {
      "image/png": "[encoded data removed]",
      "text/plain": [
       "<Figure size 648x360 with 1 Axes>"
      ]
     },
     "metadata": {
      "needs_background": "light"
     },
     "output_type": "display_data"
    }
   ],
   "source": [
    "def exact(lam):\n",
    "    if lam <1:\n",
    "        return lam/(2*np.sqrt(1+lam**2))\n",
    "    if lam >1:\n",
    "        return 1/2+lam/(2*np.sqrt(1+lam**2))\n",
    "    return None\n",
    "vexact = np.vectorize(exact)\n",
    "l=np.arange(0.0,2.0,0.01)\n",
    "l1=np.arange(0.0,2.0,0.2)\n",
    "plt.figure(figsize=(9,5))\n",
    "plt.plot(l,vexact(l),'k',label='exact')\n",
    "plt.plot(l1, mag_sim, 'bo',label='simulation')\n",
    "plt.plot(l1, vigo_expec_ouput, 'r*',label='ibmq_vigo')\n",
    "plt.xlabel('$\\lambda$')\n",
    "plt.ylabel('$<\\sigma_{z}>$')\n",
    "plt.legend()\n",
    "plt.title('Magnetization of the ground state of n=4 Ising spin chain')\n",
    "plt.show()\n"
   ]
  },
  {
   "cell_type": "markdown",
   "metadata": {},
   "source": [
    "### Time Evolution of $|\\uparrow>^{\\otimes4}=|0>^{\\otimes 4}$ (in $H_{XY}$ basis)\n",
    "\n",
    "First find the corresponding state in the diagonal basis ($\\tilde{H}$)\n",
    "\n",
    "$$|\\tilde{\\psi}_0>=U_{dis}^{\\dagger}|0000>=\\cos{\\phi}|0000>+i\\sin{\\phi}|1100>$$\n",
    "$$\\phi = \\frac{1}{2}\\arccos{\\frac{-\\lambda+\\cos{\\frac{2\\pi k}{n}} }{\\sqrt{(\\lambda-\\cos{\\frac{2\\pi k}{n} })^2 +\\gamma^2\\sin^2{\\frac{2\\pi k}{n}}}}}$$\n",
    "\n",
    "For Ising model $\\gamma =1,k=1,n=4$,$$\\phi = \\frac{1}{2}\\arccos(\\frac{\\lambda}{\\sqrt{1+\\lambda^2}})$$"
   ]
  },
  {
   "cell_type": "markdown",
   "metadata": {},
   "source": [
    "The time evolution of $|\\tilde{\\psi}(t)> = e^{-itE_i}$\n",
    "\n",
    "$$|\\tilde{\\psi}(t)> =(\\cos\\phi|00>+ie^{4it\\sqrt{1+\\lambda^2}}\\sin\\phi|11>)\\otimes|00>$$\n",
    "\n",
    "We impelement this state using $R_y(2\\phi)=e^{-i\\phi\\sigma_y} = \\cos\\phi-i\\sigma_y\\sin\\phi=\\begin{pmatrix}\n",
    "\\cos\\phi & -\\sin\\phi \\\\\n",
    "\\sin\\phi & \\cos\\phi \n",
    "\\end{pmatrix}$ and also a phase gate for the phase $-ie^{4it\\sqrt{1+\\lambda^2}}$"
   ]
  },
  {
   "cell_type": "code",
   "execution_count": 18,
   "metadata": {},
   "outputs": [],
   "source": [
    "import numpy as np\n",
    "def Initial_time(t,lam,q0,q1,q2,q3):\n",
    "    circuit = tq.gates.Ry(np.arccos(lam/np.sqrt(1+lam**2)),q0)+tq.gates.Phase(3*pi/2+4*t*np.sqrt(1+lam**2),q0)\n",
    "    circuit += tq.gates.CNOT(q0,q1)\n",
    "    return circuit\n",
    "\n",
    "def Ising_time(t,lam,q0,q1,q2,q3):\n",
    "#     if lam<1:\n",
    "#         return tq.gates.X(q3) + Initial_time(t,lam,q0,q1,q2,q3) + Udisg(lam,q0,q1,q2,q3)\n",
    "#     else:\n",
    "    return Initial_time(t,lam,q0,q1,q2,q3) + Udisg(lam,q0,q1,q2,q3)"
   ]
  },
  {
   "cell_type": "code",
   "execution_count": 19,
   "metadata": {},
   "outputs": [],
   "source": [
    "shots = 1024\n",
    "nlam=3\n",
    "magt_sim=[[] for _ in range(nlam)]\n",
    "lam0=[0.5,0.9,1.8]\n",
    "for j in range(nlam):\n",
    "    lam=lam0[j]\n",
    "    for i in range(9):\n",
    "        t=i*0.25\n",
    "        wfn = tq.simulate(Ising_time(t,lam,0,1,2,3),backend='qiskit',samples=shots)\n",
    "        r1 = []\n",
    "        r2 = []\n",
    "        for key, value in wfn.items():\n",
    "            r1 +=[key.binary]\n",
    "            r2 +=[value]\n",
    "        #print(r1)\n",
    "        M=0\n",
    "        for k in range(0,len(r1)):\n",
    "            M=M+(4-2*digit_sum(r1[k]))*r2[k]/shots\n",
    "        magt_sim[j].append(M/4)"
   ]
  },
  {
   "cell_type": "code",
   "execution_count": 20,
   "metadata": {},
   "outputs": [
    {
     "data": {
      "image/png": "[encoded data removed]",
      "text/plain": [
       "<Figure size 720x360 with 1 Axes>"
      ]
     },
     "metadata": {
      "needs_background": "light"
     },
     "output_type": "display_data"
    }
   ],
   "source": [
    "\n",
    "def exact_time(lam,tt):\n",
    "    Mt=(1 + 2*lam**2 + np.cos(4*tt*np.sqrt(1 + lam**2)))/(2 + 2*lam**2)\n",
    "    return Mt\n",
    "vexact_t = np.vectorize(exact_time)\n",
    "t=np.arange(0.0,2.0,0.01)\n",
    "tt=np.arange(0.0,2.25,0.25)\n",
    "plt.figure(figsize=(10,5))\n",
    "plt.plot(t,vexact_t(0.5,t),'b',label='$\\lambda=0.5$')\n",
    "plt.plot(t,vexact_t(0.9,t),'r',label='$\\lambda=0.9$')\n",
    "plt.plot(t,vexact_t(1.8,t),'g',label='$\\lambda=1.8$')\n",
    "plt.plot(tt, magt_sim[0], 'bo',label='simulation')\n",
    "plt.plot(tt, magt_sim[1], 'ro')\n",
    "plt.plot(tt, magt_sim[2], 'go')\n",
    "# plt.plot(tt, magt_sim[0], 'b*',label='ibmqx5')\n",
    "# plt.plot(tt, magt_sim[1], 'r*')\n",
    "# plt.plot(tt, magt_sim[2], 'g*')\n",
    "plt.plot(tt, magt_sim[0], 'b--')\n",
    "plt.plot(tt, magt_sim[1], 'r--')\n",
    "plt.plot(tt, magt_sim[2], 'g--')\n",
    "plt.xlabel('time')\n",
    "plt.ylabel('$<\\sigma_{z}>$')\n",
    "plt.legend()\n",
    "plt.title('Time evolution |↑↑↑↑> state')\n",
    "plt.show()"
   ]
  },
  {
   "cell_type": "markdown",
   "metadata": {},
   "source": [
    "test"
   ]
  },
  {
   "cell_type": "markdown",
   "metadata": {},
   "source": [
    "# IBM devices\n",
    "\n",
    "## ibmqx2\n",
    "**device name:**\n",
    "[IBM Q 5 Yorktown](https://quantum-computing.ibm.com/?system=ibmqx2), [old info]()\n",
    "\n",
    "**backend name:**\n",
    "IBM qx2\n",
    "\n",
    "**Alba choose qubits:** $(q_0,q_1,q_2,q_3)=(4,2,0,1)$\n",
    "```\n",
    "    B(Udis,th1,q0,q1)\n",
    "    F1(Udis,q0,q1)\n",
    "    F0(Udis,q2,q3)\n",
    "    #fSWAP(Udis,q2,q1) # for ibmqx2\n",
    "    #fSWAP(Udis,q1,q2) # for ibmqx4\n",
    "    F0(Udis,q0,q2)\n",
    "    F0(Udis,q1,q3)\n",
    "    #fSWAP(Udis,q2,q1) # for ibmqx2\n",
    "    #fSWAP(Udis,q1,q2) # for ibmqx4\n",
    "```\n",
    "\n",
    "**Graph Topology:** <img src = ibmqx2_bus.png style = \"width : 200px\">\n",
    "\n",
    "## ibmqx4\n",
    "**display_name:** [IBM Q 5 Tenerife](https://github.com/Qiskit/ibmq-device-information/tree/master/backends/tenerife/V1)\n",
    "\n",
    "**backend_name:** ibmqx4\n",
    "\n",
    "**Alba choose qubits:** $(q_0,q_1,q_2,q_3)=(3,2,1,0)$\n",
    "\n",
    "**Graph Topology** <img src = ibmqx4_bus.png style = \"width : 200px\">\n",
    "\n",
    "\n",
    "\n",
    "## ibmqx5\n",
    "**device name:**\n",
    "[ IBM Q 16 Rueschlikon](https://github.com/Qiskit/ibmq-device-information/tree/master/backends/rueschlikon/V1) (doesn't exist?)\n",
    "\n",
    "**backend name:** IBM qx5\n",
    "\n",
    "**Alba choose qubits:** $(q_0,q_1,q_2,q_3)=(6,7,11,10)$ no swaps needed\n",
    "\n",
    "**Graph Topology:** <img src = IBMQX5_connections_full.png style = \"width : 1000px\">"
   ]
  },
  {
   "cell_type": "code",
   "execution_count": null,
   "metadata": {},
   "outputs": [],
   "source": []
  }
 ],
 "metadata": {
  "kernelspec": {
   "display_name": "tequila",
   "language": "python",
   "name": "tequila"
  },
  "language_info": {
   "codemirror_mode": {
    "name": "ipython",
    "version": 3
   },
   "file_extension": ".py",
   "mimetype": "text/x-python",
   "name": "python",
   "nbconvert_exporter": "python",
   "pygments_lexer": "ipython3",
   "version": "3.7.7"
  }
 },
 "nbformat": 4,
 "nbformat_minor": 4
}
